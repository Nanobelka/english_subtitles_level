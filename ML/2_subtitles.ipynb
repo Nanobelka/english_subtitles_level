{
 "cells": [
  {
   "cell_type": "markdown",
   "id": "0f19e804",
   "metadata": {},
   "source": [
    "# Мастерская \"Английские субтитры\"\n",
    "\n",
    "# Подготовка субтитров\n",
    "\n",
    "---\n",
    "\n",
    "**Входные данные**\n",
    "\n",
    "Размеченный список фильмов. Содержит целевой признак – значения уровней CEFR, определенные экспертами.\n",
    "\n",
    "Файлы с субтитрами к фильмам в формате srt.\n",
    "\n",
    "---\n",
    "\n",
    "**Цель**\n",
    "\n",
    "Добавить в таблицу фильмов поле, содержащее слова из субтитров.\n",
    "\n",
    "---\n",
    "\n",
    "**Задачи:**  \n",
    "\n",
    "- сделать обработку субтитров, удалив из них лишнюю информацию (служебные данные, знаки препинания и т. п.);\n",
    "- проверить соответствие указанных уровней классификации CEFR;\n",
    "- разработать новые признаки для проверки их оценить их предполагаемое влияние на качество модели."
   ]
  },
  {
   "cell_type": "markdown",
   "id": "a5d94030",
   "metadata": {},
   "source": [
    "---"
   ]
  },
  {
   "cell_type": "markdown",
   "id": "bb9072f2",
   "metadata": {
    "tags": []
   },
   "source": [
    "## Initial"
   ]
  },
  {
   "cell_type": "markdown",
   "id": "f5cef155",
   "metadata": {},
   "source": [
    "### Imports"
   ]
  },
  {
   "cell_type": "code",
   "execution_count": 123,
   "id": "9c0bf8a2",
   "metadata": {},
   "outputs": [],
   "source": [
    "import pandas as pd\n",
    "import os\n",
    "import warnings\n",
    "\n",
    "import re\n",
    "from tqdm import tqdm"
   ]
  },
  {
   "cell_type": "markdown",
   "id": "7c9327a4",
   "metadata": {},
   "source": [
    "### Constants"
   ]
  },
  {
   "cell_type": "code",
   "execution_count": 124,
   "id": "13e07bee",
   "metadata": {},
   "outputs": [],
   "source": [
    "DATASETS_PATH_LOCAL = 'datasets/'                               # local path to data\n",
    "DATASETS_PATH_REMOTE = '/datasets/'                             # remote path to data\n",
    "\n",
    "SUBTITLES_PATH_LOCAL = 'datasets/subtitles/'                    # local path to data (subtitles)\n",
    "SUBTITLES_PATH_REMOTE = '/datasets/subtitles/'                  # remote path to data (subtitles)\n",
    "\n",
    "CR = '\\n'                                                       # new line char sequence"
   ]
  },
  {
   "cell_type": "markdown",
   "id": "c3161820",
   "metadata": {},
   "source": [
    "### Functions"
   ]
  },
  {
   "cell_type": "code",
   "execution_count": 125,
   "id": "a8068b9c",
   "metadata": {},
   "outputs": [],
   "source": [
    "def custom_read_csv(file_name, separator=','):\n",
    "    \"\"\"\n",
    "    reading dataset of .csv format:\n",
    "       first from local storage;\n",
    "       if unsuccessful from remote storage.\n",
    "    \"\"\"\n",
    "\n",
    "    path_local = f'{PATH_LOCAL}{file_name}'\n",
    "    path_remote = f'{PATH_REMOTE}{file_name}'\n",
    "    \n",
    "    if os.path.exists(path_local):\n",
    "        return pd.read_csv(path_local, sep=separator)\n",
    "\n",
    "    elif os.path.exists(path_remote):\n",
    "        return pd.read_csv(path_remote, sep=separator)\n",
    "\n",
    "    else:\n",
    "        print(f'File \"{file_name}\" not found at the specified path ')"
   ]
  },
  {
   "cell_type": "markdown",
   "id": "f4825471",
   "metadata": {},
   "source": [
    "### Settings"
   ]
  },
  {
   "cell_type": "code",
   "execution_count": 126,
   "id": "604a0591",
   "metadata": {},
   "outputs": [],
   "source": [
    "# text styles\n",
    "class f:\n",
    "    BOLD = \"\\033[1m\"\n",
    "    ITALIC = \"\\033[3m\"\n",
    "    END = \"\\033[0m\""
   ]
  },
  {
   "cell_type": "code",
   "execution_count": 127,
   "id": "705dd986",
   "metadata": {},
   "outputs": [],
   "source": [
    "# Pandas defaults\n",
    "pd.options.display.max_colwidth = 100\n",
    "pd.options.display.max_rows = 500\n",
    "pd.options.display.max_columns = 100\n",
    "pd.options.display.float_format = '{:.3f}'.format\n",
    "pd.options.display.colheader_justify = 'left'"
   ]
  },
  {
   "cell_type": "code",
   "execution_count": 128,
   "id": "a0d24efb",
   "metadata": {},
   "outputs": [],
   "source": [
    "# others\n",
    "warnings.filterwarnings('ignore')"
   ]
  },
  {
   "cell_type": "markdown",
   "id": "d6e7da7a",
   "metadata": {},
   "source": [
    "---"
   ]
  },
  {
   "cell_type": "markdown",
   "id": "a4b708d9",
   "metadata": {},
   "source": [
    "## Подготовка слов из субтитров к фильмам"
   ]
  },
  {
   "cell_type": "markdown",
   "id": "d78ed6a6",
   "metadata": {},
   "source": [
    "### Функция для чтения субтитров из файла"
   ]
  },
  {
   "cell_type": "code",
   "execution_count": 129,
   "id": "71c73bba",
   "metadata": {},
   "outputs": [],
   "source": [
    "def read_subtitles(file_name, file_ext='srt', file_encoding='latin-1'):\n",
    "    \"\"\"\n",
    "    Чтение текста из файла file_name.\n",
    "    Возвращает датафрейм с текстом и статус операции:\n",
    "        'OK' – файл найден;\n",
    "        'no subtitles' – файл с субтитрами не найден.\n",
    "    \"\"\"\n",
    "\n",
    "    path_local = f'{SUBTITLES_PATH_LOCAL}{file_name}.{file_ext}'\n",
    "#     print(f'file {path_local} in process')\n",
    "    \n",
    "    if os.path.exists(path_local):\n",
    "        return pd.read_table(path_local, names=['subs'], encoding=file_encoding), 'OK'\n",
    "\n",
    "    else:\n",
    "        print(f'file {f.BOLD}{path_local}{f.END} not found')\n",
    "        return pd.DataFrame(), 'no subtitles'"
   ]
  },
  {
   "cell_type": "markdown",
   "id": "60166338",
   "metadata": {},
   "source": [
    "### Функция для очистки текста"
   ]
  },
  {
   "cell_type": "code",
   "execution_count": 130,
   "id": "e3e111b4",
   "metadata": {},
   "outputs": [],
   "source": [
    "def clean_text(text):\n",
    "    '''\n",
    "    Принятый текст в типа string:\n",
    "        - переводит в нижний регистр;\n",
    "        - заменяет на пробел символ перевода строки;\n",
    "        - заменяет на пробел теги (текст, заключенный в квадратные или фигурные скобки);\n",
    "        - заменяет на пробел все символы, кроме букв, дефисов и апострофов внутри слов;\n",
    "        - удаляет все слова из 1-2 букв;\n",
    "        - заменяет цепочки пробелов на одинарный пробел.\n",
    "    Возвращает очищенный текст.\n",
    "    '''\n",
    "    # приведение значений к нижнему регистру\n",
    "    text = text.lower()\n",
    "    \n",
    "    # удаление перевода строки\n",
    "    text = text.replace('\\n', ' ')\n",
    "    \n",
    "    # удаление тегов: частей строк между символами < и >, { и }\n",
    "    text = re.sub('<.*?>', ' ', text)\n",
    "    text = re.sub('{.*?}', ' ', text)\n",
    "\n",
    "    #-------------------------------------------------------------------------------------------------\n",
    "    # удаление всех символов, кроме букв, пробелов и внутренних дефисов и апострофов\n",
    "    \n",
    "    # замена дефисов внутри слов на временный заполнитель (перед удалением небуквенных символов)\n",
    "    text = re.sub('([a-zA-Z])-([a-zA-Z])', '\\\\1temporarydefis\\\\2', text)\n",
    "    # замена апострофов внутри слов на временный заполнитель (перед удалением небуквенных символов)\n",
    "    text = re.sub(\"([a-zA-Z])'([a-zA-Z])\", '\\\\1temporaryapostrof\\\\2', text)\n",
    "    # удаление всех символов, кроме букв и пробелов\n",
    "    text = re.sub('[^a-zA-Z\\s]', ' ', text)\n",
    "    # восстановление внутренних дефисов (замена временного заполнителя на настоящий дефис)\n",
    "    text = text.replace('temporarydefis', '-')\n",
    "    # восстановление внутренних апострофов (замена временного заполнителя на настоящий апостроф)\n",
    "    text = text.replace('temporaryapostrof', \"'\")\n",
    "    #-------------------------------------------------------------------------------------------------\n",
    "\n",
    "    # удаление всех символов, кроме букв и пробелов\n",
    "#     text = re.sub('[^a-zA-Z\\s]', ' ', text)                      # на случай, если дефисы и апострофы тоже нужно удалить\n",
    "    \n",
    "    # удаление слов из одной-двух букв (за редким исключением)\n",
    "#     subtitles = re.sub(r'\\s\\b\\w{1,2}\\b\\s', ' ', subtitles)       # слово окружено пробелами\n",
    "    text = re.sub(r'\\b\\w{1,2}\\b', ' ', text)                       # неважно, чем окружено слово\n",
    "    \n",
    "    # замена нескольких последовательных пробелов на одинарные\n",
    "    text = re.sub(' +', ' ', text)\n",
    "    \n",
    "    # удаление крайних пробелов (мелочь, но пусть будет)\n",
    "    text = text.strip()\n",
    "\n",
    "    return text"
   ]
  },
  {
   "cell_type": "markdown",
   "id": "b8de216e",
   "metadata": {},
   "source": [
    "### Функция для подготовки субтитров"
   ]
  },
  {
   "cell_type": "code",
   "execution_count": 131,
   "id": "4b80eb21",
   "metadata": {},
   "outputs": [],
   "source": [
    "def prepare_subtitles(movie_name, clean=True):\n",
    "    '''\n",
    "    Загружает субтитры для указанного фильма movie_name с помощью функции read_subtitles.\n",
    "    Выполняет очистку текста от лишней информации (служебные данные, знаки препинания и т.п.) с помощью функции clean_text.\n",
    "    Возвращает очищенный текст.\n",
    "    '''\n",
    "    \n",
    "    # чтение файла с субтитрами; имя файла совпадает с названием фильма в таблице фильмов\n",
    "    df, status = read_subtitles(movie_name)\n",
    "    if status == 'no subtitles':\n",
    "        return 'no subtitles'\n",
    "    \n",
    "    # удаление служебных строк (начинаются с цифры)\n",
    "    df = df[~df.subs.str.match('^\\d')].reset_index(drop=True)\n",
    "    \n",
    "    # соединение отдельных субтитров в единый корпус\n",
    "    subtitles = df.subs.str.cat(sep=' ')\n",
    "    \n",
    "    if clean:\n",
    "        subtitles = clean_text(subtitles)\n",
    "    \n",
    "    return subtitles"
   ]
  },
  {
   "cell_type": "markdown",
   "id": "e43ce11c",
   "metadata": {},
   "source": [
    "### Чтение таблицы с фильмами"
   ]
  },
  {
   "cell_type": "code",
   "execution_count": 132,
   "id": "a536023f",
   "metadata": {},
   "outputs": [],
   "source": [
    "data = pd.read_excel(DATASETS_PATH_LOCAL + 'movies_labels.xlsx', index_col='id').reset_index(drop=True)"
   ]
  },
  {
   "cell_type": "code",
   "execution_count": 133,
   "id": "13eea494",
   "metadata": {
    "scrolled": false
   },
   "outputs": [
    {
     "data": {
      "text/html": [
       "<div>\n",
       "<style scoped>\n",
       "    .dataframe tbody tr th:only-of-type {\n",
       "        vertical-align: middle;\n",
       "    }\n",
       "\n",
       "    .dataframe tbody tr th {\n",
       "        vertical-align: top;\n",
       "    }\n",
       "\n",
       "    .dataframe thead th {\n",
       "        text-align: right;\n",
       "    }\n",
       "</style>\n",
       "<table border=\"1\" class=\"dataframe\">\n",
       "  <thead>\n",
       "    <tr style=\"text-align: left;\">\n",
       "      <th></th>\n",
       "      <th>Movie</th>\n",
       "      <th>Level</th>\n",
       "    </tr>\n",
       "  </thead>\n",
       "  <tbody>\n",
       "    <tr>\n",
       "      <th>102</th>\n",
       "      <td>The_usual_suspects(1995)</td>\n",
       "      <td>B2</td>\n",
       "    </tr>\n",
       "    <tr>\n",
       "      <th>104</th>\n",
       "      <td>Toy_story(1995)</td>\n",
       "      <td>A2/A2+</td>\n",
       "    </tr>\n",
       "    <tr>\n",
       "      <th>100</th>\n",
       "      <td>The_terminator(1984)</td>\n",
       "      <td>B1</td>\n",
       "    </tr>\n",
       "  </tbody>\n",
       "</table>\n",
       "</div>"
      ],
      "text/plain": [
       "    Movie                     Level  \n",
       "102  The_usual_suspects(1995)      B2\n",
       "104           Toy_story(1995)  A2/A2+\n",
       "100      The_terminator(1984)      B1"
      ]
     },
     "execution_count": 133,
     "metadata": {},
     "output_type": "execute_result"
    }
   ],
   "source": [
    "data.sample(3)"
   ]
  },
  {
   "cell_type": "markdown",
   "id": "294189ee",
   "metadata": {},
   "source": [
    "### Добавление слов из субтитров в таблицу фильмов"
   ]
  },
  {
   "cell_type": "code",
   "execution_count": 134,
   "id": "f2a763a6",
   "metadata": {
    "scrolled": true
   },
   "outputs": [
    {
     "name": "stdout",
     "output_type": "stream",
     "text": [
      "file \u001b[1mdatasets/subtitles/Glass Onion.srt\u001b[0m not found\n",
      "file \u001b[1mdatasets/subtitles/Matilda(2022).srt\u001b[0m not found\n"
     ]
    }
   ],
   "source": [
    "data['Subtitles'] = data.Movie.apply(prepare_subtitles, clean=True)"
   ]
  },
  {
   "cell_type": "markdown",
   "id": "93495309",
   "metadata": {},
   "source": [
    "> Для некоторых фильмов файл с субтитрами не найден. Однозначно определить, что это за фильм, и скачать для него субтитры не удалось."
   ]
  },
  {
   "cell_type": "markdown",
   "id": "1b4fa8f2",
   "metadata": {},
   "source": [
    "### Удаление из таблицы фильмов без субтитров"
   ]
  },
  {
   "cell_type": "code",
   "execution_count": 135,
   "id": "57a466e1",
   "metadata": {},
   "outputs": [],
   "source": [
    "data = data[data.Subtitles != 'no subtitles']"
   ]
  },
  {
   "cell_type": "markdown",
   "id": "2230b87c",
   "metadata": {},
   "source": [
    "> Удалены фильмы, для которых не найден файл субтитров."
   ]
  },
  {
   "cell_type": "markdown",
   "id": "db749139",
   "metadata": {},
   "source": [
    "### Пример для ручной проверки"
   ]
  },
  {
   "cell_type": "markdown",
   "id": "566ed32d",
   "metadata": {},
   "source": [
    "Очищенные субтитры"
   ]
  },
  {
   "cell_type": "code",
   "execution_count": 136,
   "id": "088ede6e",
   "metadata": {},
   "outputs": [
    {
     "data": {
      "text/plain": [
       "'who they call when the chips are startin fall just when the villains are winning the trouble beginning brew explosion the man called flintstone that who who always there there rescue some maiden fair man with instincts unerring full the old daring the man called flintstone that who thrives diet danger and stranger the unjust with romance who the man the man called flintstone rumbling screeches don let him get away don worry won hee hee hee hee hee hee hee hee hee angry muttering detour watch out snores angry muttering have parachute too good let follow him that our parachute hee hee hee hee hee hee hee hee hee some parachute shut you angry muttering crash have him trapped good let squish him ali hurry hurry must not escape won got him now panting giggles chuckles both laughing that the end rock slag nice work bobo thank you ali chuckles they think they finished off they don know how tough secret agents are this secret agent rock slag reporting chief boulder come chief this chief boulder anything wrong slag plenty ali and bobo strong arm boys got cornered and tried are you slag well think twisted tibia and cracked clavicle chief stay there slag get ambulance you right away right chief cracked clavicle that bad break just were closing the green goose and his nefarious smirk organization the whole world peril long the green goose loose operator get the bedrock hospital wilma gonna leave now wilma fred but please hurry still have lot packing back right after take dino and hoppy you know where don envy the boys dino and hoppy always put such fuss when they the vet shame can take them with gonna miss hoppy gonna miss dino too but camping vacation bad enough without dragging pets along how true seems like there million and one things when you going trip huh barney yeah darn near forgot take dino and hoppy don say barn oops almost gave away watch those knew were gonna leave the for weeks they take the woods well how gonna get the office fred sneak the back alley they never been taken inside that way before hey that good idea laughs come dino gotta see man about something barney yeah you too hoppy dino yipe barking fred dino hold hold whoa whoa whoa hoppy honking barney take easy hoppy take easy calm down now dino come back here come look out fred comin through oops boy flintstone rubble you going about all wrong you have use psychology psychology what you mean doc show you miss soapstone send zsa zsa and dolly out here yes sir who zsa zsa and dolly zsa zsa girl hoparoo and dolly girl dinosaur watch this honking barking honks barks honking and barking laughs gotta hand you doc you sure know your psychology doesn barn barney woo woo woo woo woo woo fred barney huh what boy thanks fred that psychology stuff was working too both laughing hope the girls have everything packed anxious get started too hey where you going fred this the way rock canyon road right barn save minutes going home this way but rock canyon road closed too dangerous not for good driver like hold barn here are ought have seat belts fred who needs there down how that for skilful driving goodness fred are you all right head boy that some bump ooh hey better get you doctor fred that not necessary don know fred won hurt have your head examined barney here are the bedrock hospital only take minute you wait here find doctor make snappy will feel now pardon nurse friend needs see doctor you have wait all the doctors are busy with patient who fell off roof last night fell off roof hurt say they been working him all night first doctor hold you got his head backwards second doctor well twist around that enough now cut how are you doing irving finished minute nurse clanking there finished the statue looks just like new when the cement dries can back the roof how about the man who fell with him how doing not bad moonstone taking care him moonstone chief boulder head this country secret service and your patient rock slag best agent thanks chief chief doc you must get rock back his feet quickly the only agent have capable carrying out very important and dangerous mission rock slag survive fall still alive bobo our work not done ali slag can leave any time just bruised few ribs now you excuse just look other patients sure doc sure and thanks that great news what this important mission chief the biggest yet you going eliminate the guy that tried eliminate you rock you mean the green goose yes intelligence reports has weapon powerful could destroy the world and probably will unless nurse rock slag ooh growls mmm giggles unless stopped you see slag the safety every man woman and child every country depends you why chief chief has you rock slag rock slag yum yum yum mmm squeals and giggles there your answer you have uncontrollable appeal women yes know but how can that help chief chief going put your gift good use how chief through tanya the green goose number one lieutenant she heard about you rock and she wants meet you badly she made deal with turn the green goose over you that the deal you going meet her paris when leave chief once call the office and have them get your plane ticket last rock slag alone now can finish the job ali hello rock slag ali bobo you taking trip slag one way trip huh hee hee hee hee hee hee hee this time got him ali rock slag finished bobo hee hee hee hee hee hee hee hee hee hee hee with rock back the job the green goose goose good cooked right now rock what happened while you were gone had visitors chief ali and bobo right the goon twins chief well that does tanya will never for you you mess that cooks our green goose try heal fast chief won fast enough rock any moment the green goose may decide take over the world better cancel your trip paris this the patient yeah doc fred flintstone fell his head now doc feel fine well why don check you over anyway come with flintstone but telling you waste time hmm your pulse seems normal right the button fact now cross your legs and test your reflexes make snappy will doc vacation almost finished reflex normal mumbling you can leave now flintstone right after give you booster shot best play safe you know yeah yeah yeah all right let have the shot doc wanna get out here doctor you won even feel this flintstone fred yeow watch doc what are you trying put the hospital amazing that man dead ringer for rock slag look the size this needle what you think brontosaurus why could rock twin his twin wonder why not worth try pardon sir can have word with you who chief yes your country needs you country needsme now let see got this straight the government will send and family paris pick green goose because look like this guy right flintstone your resemblance our regular messenger fantastic and you can see condition make the trip fred yeah can see that this green goose must very valuable bird very valuable our government wants put him cage had planned camping trip this year but you did say all expenses paid every last penny that case glad help the government get the green goose chief good now raise your right hand right hand and repeat after will not reveal mission anyone will not reveal mission anyone not even wife not even wife congratulations you are now official secret agent gosh laughs spy type guy music starts gonna spy double zero guy got that certain air debonair full the old savoir faire drive jazzy car like some big movie star and catch each lady eye spy type guy shay carry attache don ask what attache fits the briefcase all agents have someone gets the drop with one karate chop send beddy bye cause the spy type guy can shoot gun from his handmade boot his bulletproof tailored suit really whopper helicopper from place place and never leave trace save the human race cause spy type sly type spy type guy music ends all right flintstone here are your plane tickets and some money you leave for paris the morning boy and rember your code name rock slag gotcha rock slag rock slag rock slag rock slag chief are you out your mind why that guy match for the green goose and his gang know but our only chance besides there keep eye him you better that flintstone will worse shape than long shot but just may able pull off fred hiya barney fred gee thought you never come out what did the doc have say but got cancel the camping trip cancel the camping trip there who who rock slag rock slag ooh you naughty boy trying leave without good bye kissing and giggling wow what hospital plan they have here don get now tell fred how come you gotta cancel our camping trip because wilma and are going paris paris stop the car fred stop the car what the matter look you got bump your head and now you think you going paris right fred right but paris you need money and plane tickets fred here money and here plane tickets gosh fred what this all about tell you later pal right now want see wilma face when she hears the news that was rock slag bobo can ali was still alive ooh don get slag the green goose will get quick after him here comes must not fail this time boy this rough road you not kidding when give the signal you push the rock right push the rock take easy fred don want another accident whoops hey look the car going right through the tunnel ali get ready get set push hee hee hee hee hee hee hee hee hee right target that finishes rock slag for keeps this time hee hee hee hee hee hee hee hee you almost didn make paris huh fred yeah that boulder would have cancelled trip permanently wonder what taking the boys long they waiting for finish packing what else the trailer got flat wilma just our luck well better change and save some time get the spare always sticking neck out for someone else one spare coming there fixed hiya girls sorry late wilma fred how come you walking where the car never mind that wait till you hear the news what news little change plans dear and mrs flintstone will spending their vacation abroad this year paris france paris france but but but how what mean when did tut tut sweetheart questions please just take word for paris can hardly believe you wonderful man mmm ooh happy for you wilma wish could take trip like that hey that great idea look barney can get our money back all the camping stuff rented and buy plane tickets for you and betty and bamm bamm really fred you think there would enough fred sure maybe not enough for first class even second class but least all together what you say barn say put her there buddy boy you just talked into wilma did you hear that going with you music starts here are like always are when you near never far matched and perfect set never separated yet fact fred are the indisputable barney spositively irrefutable together you might say and you able team mates team mates fred may stay may barney either way always know will both the scene nothing ever comes between cause are the most reliable definitely undeniable together like you and able team mates team mates when broke arm last summer you wore the cast what else could team mates through and through and you together team mates team mates team mates fred when exercise you who always starts breathing fast barney how else could suited you and together team mates team mates team mates now that the long and short the unabridged report the starboard and the port team mates team mates fred laughs put her there barn team mates barney yeah yeah that the long and short the unabridged report the starboard and the port team mates team mates announcer flight for paris now boarding gate all passengers please check this the flight paris yes sir here our tickets one set first class one set last class fine put your luggage the scales please with pleasure ticket agent pounds that quite load brak you can say that again you may board now sir the helicopter will take you the flight deck well thank you first class passengers this way come wilma hold bud last class that way and don walk the carpet yes sir fred why don you get some magazines yeah yeah good idea book book and colouring book for pebbles laughs all right can hardly wait report the green goose how eliminated rock slag look our reward will great look look the newsstand live like kings die like dogs ooh but how could there not scratch him when the green goose finds out failed there plenty scratches onus this time make sure you missed hee hee hee hee hee hee hee hee hee gulps speaks pseudo japanese how exciting never been helicopter before hold daddy pebbly poo hedicopter whee hee hee hee she said hedicopter hee hee hee here the flight deck wonder how barney making out hurry barney miss the plane hurryin hurryin why the flight deck way here pilot well big aeroplane use jet propulsion get airborne jet propulsion yeah you see the plane attached that launching device the edge the cliff when the pilot ready gives the signal the launching crew releases the retaining rope and the plane takes off what will they think next come wilma let get aboard announcer flight for paris now boarding gate fasten your seat belts please are ready take off got your seat belt fastened honey huh ready for takeoff roger let wish were already there fred feel little nervous nonsense honey there isn safer place the world than right here let him have all right who the wise guy why don you see how betty and barney are doing yeah yeah that good idea pardon miss where are the last class passengers all the way back sir thank you thank you back minute dear all right fred here comes yup dum dum dum doo doo doo doo doo now our chance second class boy they sure pack them tight third class wow double decker this bad here last class must really something barney betty hello fred hiya neighbour you wanna take our seats for while thanks but landing pretty soon see you later all finished ali just time bobo here comes how could sawed the hole right here snoring fred look huh what over paris paris let see let see there the eiffel rock tower what beautiful city fasten your seat belts please are about land metallic squeak whistling there happy sound paris sound that always here for you and the little bicycles with bells ringing and tires singing along the quiet murmur the river seine and the children singing song the funny taxi horns that hurt your ears they only try say glad you here and each parisian you meet will greet you with welcome home mon ami are happy you could with paris whistling the little bicycles with bells ringing and tires singing along the quiet murmur the river seine and the children singing song the funny taxi horns that hurt your ear they only try say glad you here and each parisian you meet will greet you with welcome home mon ami are happy you could with paris all right everybody smile betty how about you wilma aren you going the picture will soon focus the camera and set the timer hmm seconds should enough there all set she better hurry she made how hate these mob shots how this that swell hey turned out great now let take one you fred and corny poses please how this wilma alone ali now our chance ali all together push there she goes and here she comes both panting safe now right hee hee hee hee hee hee hee rants pseudo japanese with you minute fred have load the camera take your time honey oops have talk you flintstone chief what are you doing here paris there been change plans the green goose has flown rome you have there immediately rome just arrived paris how will explain wilma you think something and how find the green goose rome triple will help you triple who our top foreign agent master disguise show you whistles ruff ruff ruff ruff ruff ruff that triple hmm meet rock slag trip pleased meet you slag wow that dog disguise terrific yes got million them watch transylvanian accent how you slag uhh uhh ooh gee that great frankenrock triple you can now see you rome slag triple squawks boy good wilma fred where are you ready take your picture hold wilma hold how would you all like some real genuine italian food hey sounds like elegant idea pal and know elegant place get where that fred italy where else all italy sure grab plane for rome and find nice restaurant but all the way italy just get italian dinner hey guess lucky isn the mood for chinese food heh heh heh heh heh heh heh heh heh wilma rome moonlight beautiful isn fred yeah you know something wilma were here long time ago down there that garden serenading you really fred huh dressed one those romeo outfits and come leaping over that garden wall wilmalita frederico pensate amore pensate amore think love think love think love signora signore pensate amore think love think love think love don think tomorrow who thinks tomorrow with such moon above crash signora signore pensate amore think love think love think love don think tomorrow who thinks tomorrow mmm with such moon above signora signore pensate amore think love think love think love fred you romantic hate interrupt you two love birds but your pizza getting cold pizza boy come wilma might well face fred loves all right but his big love food hey how about nice bottle wine with our dinner waiter uno botelo vino pronto ooh you speak italian heh heh heh fraulein hows about dis bottle senor yeah sure that bottle fine did you read the label signore follow xxx never heard that brand says follow triple want talk you yeah yeah glad pardon minute right back don long dear psst slag that you triple you great that disguise stuff what the chief wants talk you the chief here rome where waiting the kitchen see what wants man hey waiter how about some bread sticks buddy keep you shirt chief you here there girl this restaurant asking for rock slag hey that right and she going tell you where pick the green goose great how will know her you say flying firefighters and she answer bubala bubala huh find her right away chief pardon madame rock little cabbage happy see you again flighty firefighters rock where have you been you supposed answer bubala bubala you called bubala rock rock where are you rock mon cheri rock heard you were here ooh miss you much any chance you know about the flighty fireflies rock little cabbage where are you excuse fred italian accent all right shall dance dance darling doh boy where were you fred was just over the rock baby where are you yoo hoo what are you doing under the table fred just tying shoe you not wearing any fred yeah hey now why don all dancing something too tired fred think barney and will call night see you the morning wilma good night betty night you two not tired fred love dancing you just made yourself date honey find ourselves good night club and great band and whip sounds like fun shh how did you make out flintstone you gave bum steer chief nobody called bubala hmm there another girl the garden she may the right one talk her but first gotta keep wilma busy will staying out late fred yeah why don you put pebbles with betty and barney and then while you doing that phone ahead and reserve table all right wait for you upstairs with you minutes honey not second longer yes take her george whoa matilda third floor isn that sweet pebbles tired she doesn even know you moved her thanks betty pick pebbles the morning know way make wishes come true easy climbin tree just close your eyes and open your heart slowly repeat after both tickle toddle nickel noddle tootle bell and shoe these are the magical words sing when want wish come true wish that could fly higher than high out where tomorrow begins slide down the moonbeams that glimmer and glow and follow the rainbows see where they both tickle toddle nickel noddle tootle bell and shoe these are the magical words say when want wish come true tickle toddle nickel noddle bam bam wish that there was circus town and was the star the show taming the lions one thing and right from their cage waving you both tickle toddle nickel noddle tootle bell and shoe these are the magical words say and all wishes come true tickle toddle nickel noddle tootle bell and shoe wonder where that girl yoo hoo rockello darling mio amore wait wait fifty fittering fitter fifty fighty flim foos give anyway you know why here yes darling know brother mario come here for the wedding how nice whose wedding ours well hope you very happy ours let where get the licence sure after you dear hee hee hee hee happy rockello rockello mario rockello gone have you found him yet mario not yet little sister aha stop stop this way roberta this far enough driver oui monsieur hey taxi taxi let see paris rome that will million francs monsieur how much how about for free oui hey taxi wait for all right cabbie beat wait hold that cab wait panting gentlemen please help get outta here there couple after who think somebody else rock slag doesn recognize must have took too many knocks the head sure mister help you yeah yeah hide you permanently hee hee hee hee hee hee hee hee hee sure appreciate this fellas roberta rockello blast off fellas quick darling don worry follow here they come and they gaing faster mario faster lose them the steps hang good they still coming make fast left the next alley here one hey fellas wait boy can stop this thing tour rome would great but this ridiculous help rockello here she comes brother what spot don stop must that train they gone now get back the hotel rome miles and told wilma back minutes boy how will ever explain this wilma hey bud who yeah you wanna buy some genuine italian leopard skin ties thanks have tie shaving lotion nail clippers hubcaps fountain pens gold watch don need anything then how about something for the little lady like genuine imitation diamond necklace maybe diamond necklace are you sure real genuine imitation diamond necklace guarantee wow how much would you consider dollar and quarter yours for bits bud don know this square with wilma but worth try she probably throw lamp the minute walk but here goes wilma look surprise spent all night shopping for well what you know she asleep riiing fred morning wilma wha whe what time fred dear slept all night why didn you wake you looked comfortable didn have the heart sweetheart fred ruined your whole evening feel terrible perfectly all right honey think nothing you wonderful fix some breakfast while you get dressed sweetheart boy that was close this spy job too much for gotta find the chief and quit look fred there park across the street let take the children there after breakfast good idea tell barney and betty about right back wilma now find triple can take the chief what luck here comes was just lookin for you triple gotta see the chief very important yeeow triple such master disguise could anyone excuse sonny even old lady triple right fresh baby cries hey trip take the chief will well not here take the elevator down the lobby flintstone chief how did you find secret headquarters secret elevator get here quick wanna talk you chief hold flintstone this room may bugged bugged nothing there chief quittin this job right now you can quit not before you pick the green goose anybody can pick bird you don need for that quiet beep beep beep beep how about that they had bed bugged all right flintstone see going have level with you what you mean mean the green goose not bird master criminal who plans take over the world why don you arrest him one knows who what looks like but you can find out how through girl named tanya who thinks you rock slag the minute she identifies the green goose grab him and your job done how about flintstone nothin doin too dangerous got family think pebbles future don stop the green goose pebbles won have future sorry chief you have get somebody else look those children fred they having the time their lives barney why not they got nothin worry about right fred huh said those kids got nothin worry about yeah yeah wonder someday gonna great doctor and cure every deadly disease you wait and see gonna help other children like when grown you see know that some day will great things when are grown you see know when grown and not small gonna great things you see and show them all someday gonna great farmer and grow lots good things eat won that neat one will ever hungry again not when grown not then know that some day will great things when are grown you see know when grown and not small gonna great things you see and show them all some day gonna great teacher and teach everybody read that what need people who read aren easy fool will teach them school know that some day will great things when are grown you see someday you see some day you see someday gonna isn wonderful the way kids get along together yeah adults could take lesson from them what now fred some sightseeing fred you hear what yeah yeah good idea you ahead and enjoy yourselves but aren you coming with got some unfinished business take care long honey see you later acting strange wonder what wrong knew you change your mind flintstone you are you sure this the right girl absolutely you having lunch with her papa piccolo pizza palace here are flintstone let inside there she tanya the girl who will lead the green goose hideout rrr she doll your job will simpler than thought flintstone rock slag has recovered and will here within hour all you have keep tanya here until arrives think you can cinch order everything the menu wait want you wear this recorder recorder yes wanna take down everything tanya says glad had beak sharpened tanya may real yacker this flower the microphone and remember keep her talking until the real rock slag takes over gotcha chief betty how exciting the famous papa piccolo pizza palace let and have some lunch poor fred shame isn here fifty flying firefighters mmm bubala hello tanya rock slag last meet may sit down that wise should leave once plenty time let have little talk first about you know who the green goose terrible man you know has secret weapon more powerful than any little louder please and speak into the flower how cute will wear hair allow get you fresh flower right back toodle fred wilma what are you doing here and who are you waving waving who who waving that just loose wrist thought you had some unfinished business take care well that finished took chance you might here here how nice well sit down fred yeah join the party huh yeah yeah will you excuse minute kinda drafty here close the window sorry couldn find flower that all right kinda drafty here close the window excuse what took you long dear was stuck mean the window was stuck well should order yeah good idea excuse tanya what are you doing getting wrap must leave look the orchestra gettin ready play let dance well maybe just once slow song starts sure like dance wonder where fred what are you doing rock this business you can too careful upbeat song starts fred didn know you wanted dance honey wilma you dance divinely darling you dear dear darling come tiger let get out here tiger that that your unfinished business look wilma can explain everything wish you would been going crazy down there trying record there nothing explain all very obvious wilma please won listen going home tiger hey flintstone rock slag cab arriving get tanya you can switch with slag the lobby hurry taxi allow madame don you get smart with fred flintstone see you your true colours you playboy how could you that the mother your child consider our friendship ended you playboy rock not again you powder your nose tanya wait for the lobby all set chief where rock right there what happened must have had relapse look rock slag quick upstairs looks like you going have carry the ball little longer flintstone gotta home and square myself with wilma time for that now just got this message listen green goose\\r secret weapon\\r \\r \\r \\r giant inter rockinental missile our anti missile missile not operational yet you see stop the green goose what you mean you with tanya the green goose hideout phone triple and follow right behind you now just minute that wasn the deal ready rock let but but but but boy hello operator hello hello operator are you there crash hee hee hee hee hee hee hee hee right target bobo thanks ali now get rock slag time first must take message green goose good idea ali green goose will proud bwa here are rock the green goose secret headquarters abandoned amusement park pretty clever rock now what follow follow chief wherever you are why you keep looking behind you just wanted make sure were being followed mean renotbeing followed heh heh heh the green goose there first and get behind him then when you come will drop this rope over him count before you break movin all right goose you cooked slag nice you drop shall tie him that won necessary ferocious wouldn like slag tried leave would you ferocious growls hey what this what goin tanya dear rock the green goose needs some information set this little trap for you surprised double cross huh well now have surprise for you chief come there you are barney yeah barney followed you here not leaving until get some information exactly what was saying hey who are you buster and why are you wearing this rrr ahem look goose this guy just friend mine why don you let him come now slag you know that impossible slag who that that explain later goose slag know your government has been working anti missile missile want know they have completed don know anything about goose advise you cooperate hate resort using unpleasant methods grrr unpleasant methods what going this guy master criminal and helping the government capture him but don worry our agents will bust any minute you don scare goose what about your chubby friend just rembered double parked outside right back ferocious grrr grrr grrr grrr evil laughter goose not yet ferocious may need him tanya show them the torture chamber creak these are some toys but want you see latest one called anerocktric chair strap you and quite effective isn bout car left lights too can turn off take easy barn help will here any second you get nothin out green goose knew would useless even try withyou slag but your chubby little friend another story isn heh heh heh tanya the rack fred hey hey what are you doin barney perhaps when you see what happens your friend you tell what want know yeow you can intimidate with these crude methods intimi nated yeow talk slag never barney yeow talk barney yeow don worry barn all gotta stall him little longer lips are sealed goose barney yeow slag you superhuman never met anyone like you zounds how much pain can man stand all you can dish out and more barney yeow don worry barney can take you ain takin you gonna come outta this abig man and thin one too knock knock last about time was beginnin think you wouldn show chief you expecting chief boulder out out cold for the evening that right and found this message him hmm green goose\\r secret weapon\\r \\r \\r \\r giant inter rockinental missile our anti missile missile not operational yet good work ali release the prisoner tanya have the information need lock those two and prepare launch missile nobody can stop now mwa that the way was barney just because happen look like rock slag got the plane tickets money everything and also got you into this mess best friend well could worse fred least betty and wilma and the kids are yeah wonder ever see again hey slag chowtime hee hee hee hee hee hee hee hee boy food starved slurp fred barney don eat that stuff couldn wanted fred spoon looks like the green goose tryin get rid barney gotta get outta here and find that missile wonder where could enh heh heh heh heh heh heh the fun house hope our guests are enjoying their last moments this amusement park the perfect launching spot who would think that the space ride isreallya deadly missile one now let prepare launch hey hey fred you sure you know what you doin this tower feet high and you got awful short tie don worry make easy fred howya doin barn you think you can jump the rest the way are you kiddin pull pull elp faster barney faster hurry barney hurry nice goin fred you nearly got killed what are you complain about that was best tie you ruined sorry fred guess never will get outta here hey barney look what the guards they asleep and the key hangin the desk what good does that shh quiet sorry fred but how are gonna get the key whispering that what gotta figure out hey would you mind speakin little louder can hear word you saying well whaddya know the tape recorder how would you like little favour what kind little favour nothin much you see that key what about just fly over there and bring back unh recorder not retriever but you got our only chance get outta here all right all right simmer down give try shh turn around whoops sorry slipped but don worry get just put down and relax what gonna fred beats recorder whoa hurt the old wing shot woe can fly anymore never again zoom into the wild blue isn that awful thing happen poor little grrr get ready here comes the pigeon grr come bird come open barney got got the key just hope the union never hears about this muffled yells hold barney that door might lead trap you better let check first fred barn come barney where are you let let take easy rock only triple boy glad see you where been what took you long where the chief one question time please sorry here you dropped your hat and your hanky hey that funny triple the green goose was wearin mask like this was what very clever disguise don you think now may have back please you mean this your mask heh heh heh heh heh heh heh heh yes exactly boo hoo hoo hoo hoo then you you the green goose and you dead duck ali bobo over here you don come back you never mind going fire the missile come hee hee hee hee hee hee hee hee hee boy big fireworks ali whole world boom hee hee hee hee hee hee hee hee hee the missile gotta stop wonder where barney maybe could elp grr take easy ferocious can sorta talk this over grr fred boy glad see you ferocious wasn gonna wait till lunchtime come barney there time lose green goose cackles this the big moment gentlemen first set the directional control then set the firing pin when the countdown reaches zero the blade will snap back cut the rope and the missile will take off goose you are genius you are right matter minutes the whole world will know power and alone shall rule supreme buzz got find that missile barney all now hey fred look the green goose hold barney crashin through stop them bobo right ahh slag meet again but too late for you stop run barney run head for the space ride barney can hide there locked press the button buzz inside quick green goose don open that door our friends have trapped themselves the missile well longer need concern ourselves with them hey didya hear that fred yeah barney found the missile well well what can nothin save ourselves but can aim the missile into space where won any harm least that somethin boy payload interplanetary projectile what way they say all gotta sometime barn too bad never get the chance give wilma this present wow fred where you get that barney must worth millions huh nah only worth only worthone million just think barney the richest guys space million slag heh heh heh make deal with you swap you your lives for that necklace your toes barn deal buzz hand out here you are crash thud yii ali bobo tanya help buzz let let out let out help well that what always happens guys who want take over the world yeah heh heh heh they end out and with great pride the citizens bedrock present you with this medal cheering signal beeping announcer after week parties parades and speeches public hero fred flintstone has slipped away for well earned rest only clue his whereabouts note saying gone fishing feels good relax yeah been one parade after another fred big hero proud you hee hee forget the hero stuff forget everything that happened eurock from now just fred flintstone average citizen besides barney deserves much credit yeah yeah deserve much credit fred well now wait minute barn was the one that girls laugh now cut out cut out hey come fred last one down the lake pickled pterodactyl hey yabba dabba here pal rockello hey paesano roberta mario gangway after him quick wilma help rockello hey paesano wait rockello paesano what going don know but have feeling that fred isn going forget his trip eurock hurry help help somebody something rockello come back hey come back here peasan help help gonna get married mario and nice honeymoon sobbing help help help rockello wilma who they call when the chips are startin fall just when the villains are wailin the troubles beginnin brew the man called flintstone that who who the man who seems more than merely man who chases characters shady while every lady melts the man called flintstone who else who else who else'"
      ]
     },
     "execution_count": 136,
     "metadata": {},
     "output_type": "execute_result"
    }
   ],
   "source": [
    "film_name = 'The.Man.Called.Flintstone.1966.1080p.WEB-DL.DD+2.0.H.264-DAWN'\n",
    "prepare_subtitles(film_name, clean=True)"
   ]
  },
  {
   "cell_type": "markdown",
   "id": "26b0bf67",
   "metadata": {},
   "source": [
    "Без очистки"
   ]
  },
  {
   "cell_type": "code",
   "execution_count": 137,
   "id": "87f15eee",
   "metadata": {},
   "outputs": [
    {
     "data": {
      "text/plain": [
       "'ï»¿1 â\\x99ª Who do they call â\\x99ª â\\x99ª When the chips are startin\\' to fall â\\x99ª â\\x99ª Just when the villains are winning â\\x99ª â\\x99ª The trouble\\'s beginning to brew â\\x99ª [Explosion] â\\x99ª The man called Flintstone â\\x99ª â\\x99ª That\\'s who â\\x99ª â\\x99ª Who\\'s always there â\\x99ª â\\x99ª There to rescue some maiden fair â\\x99ª â\\x99ª A man with instincts unerring â\\x99ª â\\x99ª Full of the old daring-do â\\x99ª â\\x99ª The man called Flintstone â\\x99ª â\\x99ª That\\'s who â\\x99ª â\\x99ª He thrives on a diet of danger â\\x99ª â\\x99ª And he\\'s no stranger â\\x99ª â\\x99ª To the unjust â\\x99ª â\\x99ª As he is with romance â\\x99ª â\\x99ª Who is the man â\\x99ª â\\x99ª The man called Flintstone â\\x99ª [Rumbling] [Screeches] Don\\'t let him get away. Don\\'t worry. I won\\'t. Ow! Hee hee! Hee hee hee! Hee hee! Hee hee-- [Angry muttering] Detour! Watch out! [Snores] [Angry muttering] We have parachute, too. Good. Let\\'s follow him. That is our parachute? Hee hee! Hee hee hee! Hee hee! Hee hee! Some parachute. Oh, shut up, you! [Angry muttering] [Crash] Ho ho! We have him trapped! Good. Let\\'s squish him. ALI: Hurry, hurry! He must not escape! He won\\'t. We\\'ve got him now. [Panting] [Giggles] [Chuckles] [Both laughing] That\\'s the end of Rock Slag. Nice work, Bobo. Thank you, Ali. Ho ho! Ho ho! Ho ho! Ho ho! [Chuckles] They think they\\'ve finished me off. They don\\'t know how tough we secret agents are. This is Secret Agent Rock Slag reporting to Chief Boulder. Come in, Chief. This is Chief Boulder. Anything wrong, Slag? Plenty. Ali and Bobo, strong-arm boys, got me cornered and tried to do me in. Are you OK, Slag? Well, I think I\\'ve twisted my tibia, and cracked my clavicle, Chief. Stay there, Slag. I\\'ll get an ambulance to you right away. Right, Chief. Cracked clavicle-- that\\'s a bad break, just as we were closing in on the Green Goose and his nefarious SMIRK organization. The whole world is in peril as long as the Green Goose is loose. Operator, get me the Bedrock Hospital. Oh, Wilma! We\\'re gonna leave now. WILMA: OK, Fred. But please hurry. We still have a lot of packing to do. Be back right after we take Dino and Hoppy to, uh, you know where. I don\\'t envy the boys. Dino and Hoppy always put up such a fuss when they go to the vet\\'s. It\\'s a shame we can\\'t take them with us. I\\'m gonna miss Hoppy. I\\'m gonna miss Dino, too. But a camping vacation is bad enough without dragging pets along. How true. Seems like there\\'s a million and one things to do when you\\'re going on a trip, huh, Barney? Yeah. We darn near forgot to take Dino and Hoppy to-- Don\\'t say it, Barn! Oops, I almost gave it away. Watch it. If those 2 knew we were gonna leave \\'em at the v-e-t-s, for 2 weeks they\\'d take to the woods. Well, uh, how we gonna get \\'em in the office, Fred? We\\'ll sneak up the back alley. They\\'ve never been taken inside that way before. Hey, that\\'s a good idea. [Laughs] Come on, Dino. We gotta see a man about something. BARNEY: Uh, yeah, you, too, Hoppy. DINO: Yipe! [Barking] FRED: No! No, Dino, no! Hold it! Hold it! Whoa, whoa, whoa! [Hoppy honking] BARNEY: Take it easy, Hoppy! Take it easy, calm down now! Dino, come back here! Come-- Look out, Fred, comin\\' through! Oops! Oh, boy. Mr Flintstone! Mr Rubble! You\\'re going about it all wrong. You have to use psychology. Psychology? What do you mean, Doc? I\\'ll show you. Miss Soapstone, send Zsa Zsa and Dolly out here. Yes, sir. Who is Zsa Zsa? And Dolly? Zsa Zsa is a girl hoparoo, and Dolly is a girl dinosaur. Watch this. [Honking] [Barking] [Honks] [Barks] [Honking and barking] [Laughs] I gotta hand it to you, Doc. You sure know your psychology. Doesn\\'t he, Barn? Barney? Woo, woo, woo, woo, woo, woo! FRED: Barney! Uh, huh? What? Oh, boy. Thanks, Fred. That psychology stuff was working on me, too. [Both Laughing] I hope the girls have everything packed. I\\'m anxious to get started. Me, too. Hey, where you going, Fred? This is the way to Rock Canyon Road. Right, Barn. We\\'ll save 10 minutes going home this way. But Rock Canyon Road is closed. It\\'s too dangerous! Not for a good driver like me. Hold on, Barn, here we are. We ought to have seat belts, Fred! Oh, who needs \\'em? There, we\\'re down. How is that for skilful driving? Oh, my goodness, Fred! Are you all right? Oh-- Oh, my head! Boy, that\\'s some bump. Ooh! Hey, we\\'d better get you to a doctor. FRED: No, that\\'s not necessary. Oh, I don\\'t know, Fred. It won\\'t hurt to have your head examined. BARNEY: Here we are... The Bedrock Hospital. It\\'ll only take a minute. You wait here, I\\'ll go find a doctor. Make it snappy, will ya? I feel OK now. Uh, pardon me, Nurse. My friend needs to see a doctor. You\\'ll have to wait. All the doctors are busy with a patient who fell off a roof last night. Fell off a roof? Is he hurt? I\\'ll say. They\\'ve been working on him all night. FIRST DOCTOR: Hold it. You\\'ve got his head on backwards. SECOND DOCTOR: Well, twist it around. OK, that\\'s enough. Now, cut! How are you doing, Irving? Be finished in a minute. Nurse! [Clanking] There, we\\'ve finished. The statue looks just like new. When the cement dries, he can go back on the roof. How about the man who fell with him? How\\'s he doing? Not bad. Dr Moonstone is taking care of him. Dr Moonstone, I\\'m Chief Boulder, head of this country\\'s Secret Service. And your patient is Rock Slag, my best agent. Thanks, Chief. CHIEF: Doc, you must get Rock back on his feet quickly. He\\'s the only agent I have capable of carrying out a very important and dangerous mission. Rock Slag survive fall. He is still alive, Bobo. Our work is not done, Ali. Mr Slag can leave any time. He just bruised a few ribs. So, now if you\\'ll excuse me, I\\'ll just look in on my other patients. Sure, Doc, sure. And, uh, thanks. That\\'s great news. What\\'s this important mission, Chief? The biggest yet. You\\'re going to eliminate the guy that tried to eliminate you. ROCK: You mean the Green Goose. Yes! Intelligence reports he has a weapon so powerful he could destroy the world. And probably will, unless-- NURSE: Rock Slag! Ooh! [Growls] Mmm! [Giggles] Unless he is stopped. So you see, Slag, the safety of every man, woman, and child in every country depends on you. On me? Why me, Chief? CHIEF: It has to be you, Rock Slag. Rock Slag! Yum, yum, yum! Mmm! [Squeals and giggles] There\\'s your answer. You have an uncontrollable appeal to women. Yes, I know. But how can that help us, Chief? CHIEF: We\\'re going to put your gift to good use. How, Chief? Through Tanya, the Green Goose\\'s number one lieutenant. She\\'s heard about you, Rock. And she wants to meet you so badly, she\\'s made a deal with us to turn the Green Goose over to you! To me? That\\'s the deal. You\\'re going to meet her in Paris. When do I leave, Chief? At once. I\\'ll call the office and have them get your plane ticket. At last, Rock Slag is alone! Now we can finish the job. ALI: Hello, Rock Slag. Ali! Bobo! You\\'re taking a trip, Slag. A one-way trip, huh? Hee hee! Hee hee hee! Hee hee! This time we got him, Ali. Rock Slag is finished, Bobo! Hee hee! Hee hee hee! Hee hee! Ho ho! Ho ho! Hee hee! Hee hee! With Rock back on the job, the Green Goose\\'s goose is as good as cooked right now. Rock! What happened? While you were gone I had visitors, Chief. Ali and Bobo? Right. The goon twins. CHIEF: Well, that does it. Tanya will never go for you. You\\'re a mess! That cooks our Green Goose. I\\'ll try to heal fast, Chief. It won\\'t be fast enough, Rock. At any moment, the Green Goose may decide to take over the world. I\\'d better cancel your trip to Paris. Is this the patient? Uh, yeah, Doc. Fred Flintstone. He fell on his head. I\\'m OK now, Doc. I feel fine. Well, why don\\'t we check you over anyway? Come with me, Mr Flintstone. OK, but I\\'m telling you, it\\'s a waste of time. Hmm. Your pulse seems to be normal. Right on the button, in fact. Now cross your legs, and we\\'ll test your reflexes. Make it snappy, will ya, Doc? I\\'m on my vacation. We\\'re almost finished. Reflex is normal. [Mumbling] You can leave now, Mr Flintstone. Right after I give you a booster shot. Best to play it safe, you know. Yeah, yeah, yeah, all right. Let\\'s have the shot, Doc. I wanna get out of here. DOCTOR: You won\\'t even feel this, Mr Flintstone. FRED: Yeow! Watch it, Doc! What are you trying to do, put me in the hospital? It\\'s amazing! That man is a dead ringer for Rock Slag! Look at the size of this needle. What do you think I am, a brontosaurus? Why, he could be Rock\\'s twin! His twin! I wonder if-- Why not? It\\'s worth a try. Pardon me, sir. Can I have a word with you? Who, me? CHIEF: Yes. Your country needs you. My country needsme?! Now, let\\'s see if i got this straight. The government will send me and my family to Paris to pick up a Green Goose because I look like this guy? Right, Mr Flintstone. Your resemblance to our regular messenger is fantastic! And as you can see, he\\'s in no condition to make the trip. FRED: Yeah, I can see that. This Green Goose must be a very valuable bird. Very valuable. Our government wants to put him in a cage. I had planned a camping trip this year, but, uh, you did say all expenses paid? Every last penny. In that case, I\\'ll be glad to help the government get the Green Goose. CHIEF: Good. Now, raise your right hand. My right hand? And repeat after me. OK. I will not reveal my mission to anyone. I will not reveal my mission to anyone. Not even my wife. Not even my... wife?! Congratulations. You are now an official secret agent. Gosh! [Laughs] A spy-type guy. [Music starts] â\\x99ª He\\'s gonna be a spy â\\x99ª â\\x99ª A double zero guy â\\x99ª â\\x99ª He\\'s got that certain air â\\x99ª â\\x99ª Debonair â\\x99ª â\\x99ª Full of the old savoir-faire â\\x99ª â\\x99ª He\\'ll drive a jazzy car â\\x99ª â\\x99ª Like some big movie star â\\x99ª â\\x99ª And catch each lady\\'s eye â\\x99ª â\\x99ª A spy-type guy â\\x99ª â\\x99ª Ah-ta-shay â\\x99ª â\\x99ª He\\'ll carry an attache â\\x99ª â\\x99ª Don\\'t ask what\\'s an attache â\\x99ª â\\x99ª It fits in the briefcase â\\x99ª â\\x99ª All agents have \\'em â\\x99ª â\\x99ª If someone gets the drop â\\x99ª â\\x99ª With one karate chop â\\x99ª â\\x99ª He\\'ll send \\'em beddy-bye â\\x99ª â\\x99ª \\'Cause he\\'s the spy-type guy â\\x99ª â\\x99ª He can shoot â\\x99ª â\\x99ª A gun from his handmade boot â\\x99ª â\\x99ª His bulletproof, tailored suit â\\x99ª â\\x99ª Is really a whopper â\\x99ª â\\x99ª It\\'s a helicopper â\\x99ª â\\x99ª He\\'ll go from place to place â\\x99ª â\\x99ª And never leave a trace â\\x99ª â\\x99ª He\\'ll save the human race â\\x99ª â\\x99ª \\'Cause he\\'s spy-type â\\x99ª â\\x99ª Sly-type â\\x99ª â\\x99ª Spy-type â\\x99ª â\\x99ª Guy â\\x99ª [Music ends] All right, Flintstone, here are your plane tickets, and some money. You leave for Paris in the morning. Oh, boy! And, rember, your code name is Rock Slag. Gotcha. Rock Slag. Rock Slag, Rock Slag, Rock Slag. Chief, are you out of your mind? Why that guy is no match for the Green Goose and his gang! I know. But he\\'s our only chance. Besides, I\\'ll be there to keep an eye on him. You\\'d better, or that Flintstone will be in worse shape than I am! It\\'s a long shot, but he just may be able to pull it off. FRED: Hiya, Barney. Fred! Gee, I thought you\\'d never come out. What did the doc have to say? I\\'m OK, but I got to cancel the camping trip. Cancel the camping trip! Oh! There he is! Who? Who? Rock Slag! Rock Slag? Ooh! You naughty boy! Trying to leave without good-bye! [Kissing and giggling] Wow! What a hospital plan they have here. I don\\'t get it! Now, tell me, Fred. How come you gotta cancel our camping trip? Because Wilma and I are going to Paris. Paris! Stop the car, Fred. Stop the car! What\\'s the matter? Look, you got a bump on your head and now you think you\\'re going to Paris, right? FRED: Right. But to go to Paris you need A: money, and B: plane tickets. FRED: Here\\'s \"A.\" Money. And here\\'s \"B.\" Plane tickets. Gosh, Fred, what\\'s this all about? I\\'ll tell you later, pal. Right now, I want to see Wilma\\'s face when she hears the news. That was Rock Slag, Bobo! It can\\'t be, Ali. It was! He is still alive! Ooh, if we don\\'t get Slag, the Green Goose will get us! Quick, after him! Here he comes. We must not fail this time. Boy, this is a rough road! You\\'re not kidding. When I give the signal, you push the rock. BO: Right! Push the rock. Take it easy, Fred. We don\\'t want another accident. Whoops! Hey, look. The car is going right through the tunnel. ALI: Get ready, get set... Push! Hee hee! Hee hee hee! Hee hee! Hee hee! Right on target. That finishes Rock Slag. For keeps, this time. Hee hee! Hee hee! Ho ho! Ho ho! Hee hee! Hee hee! You almost didn\\'t make it to Paris, huh, Fred? Yeah. That boulder would have cancelled my trip permanently. I wonder what\\'s taking the boys so long? They\\'re waiting for us to finish packing, what else? Uh-oh! The trailer\\'s got a flat. WILMA: Just our luck. Well, we\\'d better change it and save some time. OK, I\\'ll get the spare. I\\'m always sticking my neck out for someone else. One spare, coming up! There, it\\'s fixed. Hiya, girls! Sorry we\\'re late. WILMA: Fred! How come you\\'re walking? Where\\'s the car? Oh, never mind that. Wait till you hear the news! What news? A little change in plans, my dear. Mr and Mrs Flintstone will be spending their vacation abroad this year in Paris, France. Paris? France? But--but--but how? What? I mean, when did-- Tut-tut, sweetheart. No questions, please. Just take my word for it. Paris! I can hardly believe it! Oh, you wonderful man! Mmm! Ooh, I\\'m so happy for you, Wilma. I wish we could take a trip like that. Hey, that\\'s a great idea! Look, Barney, we can get our money back on all the camping stuff we rented, and buy plane tickets for you and Betty and Bamm Bamm. Really, Fred? Do you think there would be enough? FRED: Sure! Maybe not enough for first class, or even second class. But at least we\\'d all be together. What do you say, Barn? I say put her there, buddy boy! You just talked me into it. Wilma, did you hear that? We\\'re going with you! [Music starts] â\\x99ª Here we are, like we always are â\\x99ª â\\x99ª When you\\'re near I\\'m never far â\\x99ª â\\x99ª We\\'re a matched and perfect set â\\x99ª â\\x99ª Never separated yet, in fact â\\x99ª FRED: â\\x99ª We are the indisputable â\\x99ª BARNEY: â\\x99ª spositively irrefutable â\\x99ª TOGETHER: â\\x99ª You might say we\\'re me-and-you-able â\\x99ª â\\x99ª Team-mates, Team-mates â\\x99ª FRED: â\\x99ª We may stay or we may go â\\x99ª BARNEY: â\\x99ª Either way, we always know â\\x99ª â\\x99ª We will both be on the scene â\\x99ª â\\x99ª Nothing ever comes between us \\'cause â\\x99ª â\\x99ª We are the most reliable â\\x99ª â\\x99ª Definitely undeniable â\\x99ª TOGETHER: â\\x99ª It\\'s like we\\'re you-and-I-able â\\x99ª â\\x99ª Team-mates â\\x99ª â\\x99ª Team-mates, we â\\x99ª â\\x99ª When I broke my arm last summer â\\x99ª â\\x99ª You wore the cast â\\x99ª â\\x99ª What else could I do? â\\x99ª â\\x99ª We\\'re team-mates through and through â\\x99ª â\\x99ª Me and you â\\x99ª TOGETHER: â\\x99ª Team-mates, team-mates, team-mates â\\x99ª FRED: â\\x99ª When I exercise â\\x99ª â\\x99ª It\\'s you who always starts breathing fast â\\x99ª BARNEY: â\\x99ª How else could it be? â\\x99ª â\\x99ª We\\'re suited to a \"T,\" you and me â\\x99ª TOGETHER: â\\x99ª Team-mates, team-mates, team-mates â\\x99ª â\\x99ª Now that\\'s the long and short of it â\\x99ª â\\x99ª The unabridged report of it â\\x99ª â\\x99ª The starboard and the port of it â\\x99ª â\\x99ª Team-mates â\\x99ª â\\x99ª Team-mates, we â\\x99ª FRED: [Laughs] Put her there, Barn! We\\'re team-mates! BARNEY: Yeah! â\\x99ª Yeah, that\\'s the long and short of it â\\x99ª â\\x99ª The unabridged report of it â\\x99ª â\\x99ª The starboard and the port of it â\\x99ª â\\x99ª Team-mates â\\x99ª â\\x99ª Team-mates, we â\\x99ª P.A. ANNOUNCER: Flight 70 for Paris now boarding at gate 5. All passengers please check in. Is this the flight to Paris? Yes, sir. Here\\'s our tickets. One set First Class, one set Last Class. Fine. Put your luggage on the scales, please. With pleasure. TICKET AGENT: 100 pounds. That\\'s quite a load. Brak! You can say that again. You may board now, sir. The helicopter will take you to the flight deck. Well, thank you. First Class passengers this way. Come on, Wilma. Hold it, bud! Last class that way! And don\\'t walk on the carpet! Uh, uh, yes, sir. Fred, why don\\'t you get some magazines? Yeah, yeah. Good idea. Book! Book! And a colouring book for Pebbles. [Laughs] All right. I can hardly wait to report to the Green Goose how we eliminated Rock Slag. Look! Our reward will be great. Look! Look! By the newsstand. We\\'ll live like kings. We\\'ll die like dogs. Ooh! But how could it be? There\\'s not a scratch on him. When the Green Goose finds out we failed, there\\'ll be plenty of scratches onus. This time, I\\'ll make sure. You missed. Hee hee! Hee hee hee! Hee hee! Hee hee-- [Gulps, speaks pseudo-Japanese] Oh, how exciting. I\\'ve never been on a helicopter before. Hold on to Daddy, Pebbly-poo. Hedicopter! Whee! Eh hee hee hee. She said \"hedicopter.\" Ha ha, hee hee hee. Here\\'s the flight deck. I wonder how Barney\\'s making out. Hurry, Barney, or we\\'ll miss the plane. I\\'m hurryin\\', I\\'m hurryin\\'! Why is the flight deck way up here, pilot? Well, it\\'s a big aeroplane, so we use jet propulsion to get airborne. Jet propulsion? Yeah. You see, the plane is attached to that launching device at the edge of the cliff. When the pilot is ready, he gives the signal, the launching crew releases the retaining rope, and the plane takes off. Oh, my, what will they think of next? Come on, Wilma. Let\\'s get aboard. P.A. ANNOUNCER: Flight 70 for Paris now boarding at Gate 5. Fasten your seat belts, please. We are ready to take off. Got your seat belt fastened, honey? Uh-huh. Ready for takeoff? Roger. Let \\'er go! I wish we were already there, Fred. I feel a little nervous. Oh, nonsense, honey. There isn\\'t a safer place in the world than right here. Let him have it. All right. Who\\'s the wise guy? Why don\\'t you go see how Betty and Barney are doing? Yeah. Yeah, that\\'s a good idea. Uh, pardon me, Miss. Where are the Last Class passengers? All the way back, sir. Thank you, thank you. Be back in a minute, dear. All right, Fred. Here he comes. â\\x99ª Yup dum dum dum da da da â\\x99ª â\\x99ª Da da doo doo doo doo doo â\\x99ª Now\\'s our chance. Second Class? Boy, they sure pack them in tight. Third Class. Wow! A double-decker. If it\\'s this bad here, Last Class must really be something. Barney! Betty! Hello, Fred! Hiya, neighbour! You wanna take our seats for a while? Thanks, but we\\'ll be landing pretty soon. OK. See you later! I\\'m all finished, Ali. Just in time, Bobo. Here he comes. Oh. How could it be? I sawed the hole right here. [Snoring] Fred, look! Huh? What is it? We\\'re over Paris. Paris?! Let me see! Let me see! There\\'s the Eiffel Rock Tower! Oh, what a beautiful city! Fasten your seat belts, please. We are about to land. [Metallic squeak] [Whistling] â\\x99ª There is a happy sound â\\x99ª â\\x99ª In my Paris â\\x99ª â\\x99ª A sound that\\'s always here â\\x99ª â\\x99ª For you and me â\\x99ª â\\x99ª The little bicycles â\\x99ª â\\x99ª With bells a-ringing â\\x99ª â\\x99ª And tires singing along â\\x99ª â\\x99ª Ah! The quiet murmur â\\x99ª â\\x99ª Of the River Seine â\\x99ª â\\x99ª And the children singing a song â\\x99ª â\\x99ª The funny taxi horns that hurt your ears â\\x99ª â\\x99ª They only try to say, We\\'re glad you\\'re here â\\x99ª â\\x99ª And each Parisian you meet â\\x99ª â\\x99ª Will greet you with, Welcome home,mon ami â\\x99ª â\\x99ª We are so happy you could be with us â\\x99ª â\\x99ª In Paris â\\x99ª [Whistling] â\\x99ª The little bicycles with bells a-ringing â\\x99ª â\\x99ª And tires singing along â\\x99ª â\\x99ª Ah, the quiet murmur of the River Seine â\\x99ª â\\x99ª And the children singing a song â\\x99ª â\\x99ª The funny taxi horns â\\x99ª â\\x99ª That hurt your ear â\\x99ª â\\x99ª They only try to say â\\x99ª â\\x99ª \"We\\'re glad you\\'re here\" â\\x99ª â\\x99ª And each Parisian you meet will greet you with â\\x99ª â\\x99ª \"Welcome home,mon ami\" â\\x99ª â\\x99ª We are so happy you could be with us in Paris â\\x99ª All right, everybody. Smile. BETTY: How about you, Wilma? Aren\\'t you going to be in the picture? Oh, I will, as soon as I focus the camera and set the timer. Hmm, 10 seconds should be enough. There! All set! She better hurry. She made it! Oh, how I hate these mob shots. How\\'s this? Oh, that\\'s swell! Hey, it turned out great. Now let\\'s take one of you, Fred. OK! And no corny poses, please. How\\'s this, Wilma? BO: He\\'s alone. ALI: Now\\'s our chance. ALI: All together... Push! There she goes. And here she comes. [Both panting] We safe now. Right. Hee hee. Hee hee. Hee hee hee. [Rants in pseudo-Japanese] Be with you in a minute, Fred. I have to load the camera. Take your time, honey. Oops! I have to talk to you, Flintstone. Chief! What are you doing here in Paris? There\\'s been a change in plans. The Green Goose has flown to Rome. You\\'ll have to go there immediately. Rome? I\\'ve just arrived in Paris. How will I explain it to Wilma? You\\'ll think of something. And how do I find the Green Goose in Rome? Triple X will help you. Triple X? Who\\'s he? Our top foreign agent, A master of disguise. I\\'ll show you. [Whistles] Ruff! Ruff! Ruff! Ruff! Ruff! Ruff! That\\'s Triple X? Mm-hmm. Meet Rock Slag, Trip. Pleased to meet you, Slag. Wow! That dog disguise is terrific! Yes, I\\'ve got a million of them. Watch. [Transylvanian accent] How do you do, Mr Slag? Uhh! Uhh! Ooh! Gee, that\\'s a great Frankenrock. OK, Triple X, you can go now. See you in Rome, Slag. Ta ta. Uh, ta ta, Triple X. [Squawks] Boy, he\\'s good. WILMA: Fred, where are you? I\\'m ready to take your picture. Hold it, Wilma! Hold it! How would you all like some real, genuine Italian food? Hey, sounds like an elegant idea, pal. And I know an elegant place to get it. Where\\'s that, Fred? Italy. Where else? ALL: Italy?! Sure. We\\'ll grab a plane for Rome and find a nice restaurant. But all the way to Italy, just to get an Italian dinner? Hey, I guess we\\'re lucky he isn\\'t in the mood for Chinese food. Ah heh heh heh heh heh heh heh heh heh! WILMA: Rome by moonlight. Ah, it\\'s so beautiful, isn\\'t it, Fred? Yeah. You know something, Wilma? If we were here a long time ago, I\\'d be down there in that garden, serenading you. Really, Fred? Uh-huh. I\\'d be dressed in one of those Romeo outfits, and I\\'d come leaping over that garden wall... Wilmalita! Frederico! â\\x99ª Pensate amore â\\x99ª â\\x99ª Pensate amore â\\x99ª â\\x99ª Think love, think love â\\x99ª â\\x99ª Think love â\\x99ª â\\x99ª Oh,signora â\\x99ª â\\x99ªSignore â\\x99ª â\\x99ª Pensate amore â\\x99ª â\\x99ª Think love, think love â\\x99ª â\\x99ª Think love â\\x99ª â\\x99ª Don\\'t think of tomorrow â\\x99ª â\\x99ª Who thinks of tomorrow â\\x99ª â\\x99ª With such a moon above? â\\x99ª [Crash] â\\x99ªSignora, signore â\\x99ª â\\x99ª Pensate amore â\\x99ª â\\x99ª Think love, think love â\\x99ª â\\x99ª Think love â\\x99ª â\\x99ª Don\\'t think of tomorrow â\\x99ª â\\x99ª Who thinks of tomorrow? â\\x99ª â\\x99ª Mmm, with such a moon above â\\x99ª â\\x99ªSignora, signore â\\x99ª â\\x99ª Pensate amore â\\x99ª â\\x99ª Think love, think love â\\x99ª â\\x99ª Think love â\\x99ª Oh, Fred, you\\'re so romantic! Oh, I hate to interrupt you two love birds, but your pizza\\'s getting cold. Pizza? Oh, boy! Come on, Wilma! I might as well face it. Fred loves me, all right, but his big love is food. Hey, how about a nice bottle of wine with our dinner? Oh, waiter,uno botelo,uh,de vino, uh...pronto. Ooh, you speak Italian. Heh heh heh.Si, si, fraulein. Hows about-a dis-a bottle, senor? Yeah, sure, that bottle\\'ll be fine. Did-a you read the label,signore? Uh, \"Follow me, XXX.\" Never heard of that brand. No, no. It says, Follow me.Triple X. I want to talk to you. Oh. Oh, oh, oh. Yeah, yeah. I--I\\'ll be glad to. Pardon me a minute. I\\'ll be right back. Don\\'t be long, dear. Psst! Slag. Is that you, Triple X? Oh, you\\'re great at that disguise stuff. What\\'s up? The chief wants to talk to you. The chief? Here in Rome? Where is he? He\\'s waiting in the kitchen. OK. I\\'ll see what he wants. MAN: Hey, waiter! How about some bread sticks? OK, buddy. Keep-a you shirt on! Chief? You in here? There\\'s a girl in this restaurant asking for Rock Slag. Hey, that\\'s me. Right, and she\\'s going to tell you where to pick up the Green Goose. Great. How will I know her? You say, \"50 flying firefighters,\" and she\\'ll answer, Bubala. Bubala, huh? I\\'ll go find her right away, chief. Pardon me, madame. Ya? Oh, Rock, my little cabbage! I\\'m so happy to see you again. Uh, 50 flighty firefighters. Oh, Rock, where have you been? You\\'re supposed to answer Bubala. Bubala. You called me Bubala. Oh, Rock! Oh ho! Rock? Where are you? Rock? Mon cheri, Rock! I heard you were here! Ooh, I miss you so, so much! I, uh, uh-- By any chance do you know about the 50 flighty fireflies? Oh, Rock! Uh-oh. Oh, my little cabbage. Where are you? Oh, excuse me. FRED, ITALIAN ACCENT: It\\'s all right. Shall we dance? Dance, darling? Doh, boy! Where were you, Fred? I was just over the--uh-oh! Rock! Baby, where are you? Yoo-hoo! What are you doing under the table, Fred? I\\'m, uh, uh-- Just tying my shoe. You\\'re not wearing any, Fred. Uh, uh, yeah. Hey, now why don\\'t we all go dancing or something? I\\'m too tired, Fred. I think Barney and I will call it a night. See you in the morning, Wilma. Good night, Betty. Uh, night, you two. I\\'m not tired, Fred. I\\'d love to go dancing. You just made yourself a date, honey. We\\'ll find ourselves a good night club and a great band, and whip it up. Oh, it sounds like fun. Shh! It\\'s me. How did you make out, Flintstone? You gave me a bum steer, Chief. Nobody called me Bubala. Hmm. There\\'s another girl in the garden. She may be the right one. OK, I\\'ll go talk to her, but first I gotta keep Wilma busy. Will we be staying out late, Fred? Uh, yeah. Why don\\'t you put Pebbles in with Betty and Barney, and then while you\\'re doing that I\\'ll phone ahead and reserve a table. All right. I\\'ll wait for you upstairs. I\\'ll be with you in 5 minutes, honey, not a second longer. Yes-a, ma\\'am. Take her up, George. Whoa, Matilda. Third floor! Isn\\'t that sweet? Pebbles is so tired, she doesn\\'t even know you moved her. Thanks, Betty. I\\'ll pick Pebbles up in the morning. â\\x99ª I know a way â\\x99ª â\\x99ª To make wishes come true â\\x99ª â\\x99ª Easy as climbin\\' a tree â\\x99ª â\\x99ª Just close your eyes â\\x99ª â\\x99ª And open your heart â\\x99ª â\\x99ª Slowly repeat after me â\\x99ª BOTH: â\\x99ª Tickle, toddle â\\x99ª â\\x99ª Nickel-y noddle â\\x99ª â\\x99ª Tootle a bell and a shoe â\\x99ª â\\x99ª These are the magical words I sing â\\x99ª â\\x99ª When I want a wish to come true â\\x99ª â\\x99ª I wish that I could â\\x99ª â\\x99ª Fly higher than high â\\x99ª â\\x99ª Out where tomorrow begins â\\x99ª â\\x99ª I\\'d slide down the moonbeams â\\x99ª â\\x99ª That glimmer and glow â\\x99ª â\\x99ª And follow the rainbows â\\x99ª â\\x99ª To see where they go â\\x99ª BOTH: â\\x99ª Tickle, toddle â\\x99ª â\\x99ª Nickel-y noddle â\\x99ª â\\x99ª Tootle a bell and a shoe â\\x99ª â\\x99ª These are the magical words I say â\\x99ª â\\x99ª When I want a wish to come true â\\x99ª â\\x99ª Tickle, toddle â\\x99ª â\\x99ª Nickel-y noddle â\\x99ª BAM BAM: â\\x99ª I wish that there was a circus in town â\\x99ª â\\x99ª And I was the star of the show â\\x99ª â\\x99ª Taming the lions is one thing I do â\\x99ª â\\x99ª And right from their cage I\\'d be waving at you â\\x99ª BOTH: â\\x99ª Tickle, toddle â\\x99ª â\\x99ª Nickel-y noddle â\\x99ª â\\x99ª Tootle a bell and a shoe â\\x99ª â\\x99ª These are the magical words I say â\\x99ª â\\x99ª And all of my wishes come true â\\x99ª â\\x99ª Tickle, toddle â\\x99ª â\\x99ª Nickel-y noddle â\\x99ª â\\x99ª Tootle a bell and a shoe â\\x99ª I wonder where that girl is. Yoo-hoo! It\\'s me! Rockello! Oh, darling! Oh,mio amore! Uh, wait, wait! Fifty fittering fitter fi! Fifty fighty flim foos! Fl-fl-fl-- I give up. Anyway, you know why I\\'m here. Oh, yes, my darling, I know. My brother Mario, he\\'s-a come here for the wedding. How nice! Whose wedding? Ours! Well, I hope you\\'ll be very happy. Ours?! Let\\'s-a go. Where? To get the licence. Uh...oh...sure. Eh...after you, my dear. Hee hee hee hee. Oh... Oh, we\\'ll-a be so happy, Rockello! Rockello? Mario, Rockello, he\\'s-a gone! Have you found him yet, Mario? Not yet, little sister. Aha! Stop! Stop! This-a way, Roberta! This is far enough, driver. Oui, monsieur. Hey, taxi! Taxi! Let\\'s see... Paris to Rome... That will be 1 million francs, monsieur. How much? How about for free, oui? Hey, taxi! Wait for me! All right, cabbie. Beat it. Wait! Hold that cab! Wait! [Panting] G-gentlemen... please h-help me get outta here. There\\'s a couple after me who think I\\'m somebody else. It\\'s Rock Slag! Ha ha! He doesn\\'t recognize us. Must have took too many knocks on the head. Sure, mister! We help you. Yeah, yeah. We\\'ll hide you... permanently. Hee hee! Hee hee hee! Hee hee! Hee hee! I sure appreciate this, fellas. ROBERTA: Rockello! Blast off, fellas, quick! Darling! Don\\'t-a worry. We follow. Here they come! And they\\'re gaing on us! Faster, Mario! Faster! We\\'ll lose them on the steps. Hang on! No good! They\\'re still coming! I make a fast left up the next alley. Here\\'s one. Hey, fellas! Wait! Oh, boy! I can\\'t stop this thing! Uh-oh! A tour of Rome would be great but this is ridiculous! Help! Rockello! Here she comes! Oh, brother. What a spot to be in. Don\\'t stop. He must be on that train! They\\'re gone. Now to get back to the hotel. Oh, no! Rome, 50 miles? And I told Wilma I\\'d be back in 5 minutes. Oh, boy. How will I ever explain this to Wilma? Hey, bud. Who, me? Yeah, You. Wanna buy some genuine Italian leopard skin ties? No, thanks. I have a tie. Shaving lotion, nail clippers, hubcaps, fountain pens, a gold watch? I don\\'t need anything. Then how about something for the little lady, like a genuine imitation diamond necklace, maybe? A diamond necklace? Are you sure it\\'s a real genuine imitation diamond necklace? I guarantee it. Wow! How much? Would you consider a dollar and a quarter? It\\'s yours for 2 bits, bud. I don\\'t know if this\\'ll square me with Wilma, but it\\'s worth a try. She\\'ll probably throw a lamp at me the minute I walk in, but here goes. Wilma! Look, surprise. I spent all night shopping...for...it... Well, what do you know? She\\'s asleep. [Riiing] Fred? Morning, Wilma. Wha--wh--whe-- What time is it, Fred? dear. I slept all night! Why didn\\'t you wake me? Aw, you looked so comfortable, I didn\\'t have the heart to, sweetheart. Oh, Fred, I ruined your whole evening! I feel terrible! Perfectly all right, honey. Think nothing of it. Oh, you\\'re so wonderful. I\\'ll fix some breakfast while you get dressed. OK, sweetheart. Boy, that was close. This spy job is too much for me. I gotta find the Chief and quit. Look, Fred. There\\'s a park across the street. Let\\'s take the children there after breakfast. Good idea. I\\'ll tell Barney and Betty about it. I\\'ll be right back, Wilma. Now to find Triple X. He can take me to the Chief. What luck! Here he comes. I was just lookin\\' for you, Triple X. I gotta see the Chief. Very important. Yeeow! Triple X is such a master of disguise, he could be anyone. Excuse me, sonny. Even an old lady. Triple X, right? Fresh. [Baby cries] Hey, Trip! Take me to the Chief, will ya? Well, he\\'s not up here. I\\'ll take the elevator down to the lobby. Flintstone! Chief! How did you find my secret headquarters? Secret? In an elevator? Get in here, quick! OK, OK. I wanna talk to you, Chief. Hold it, Flintstone. This room may be bugged. Bugged? Nothing there. Chief, I\\'m quittin\\' this job right now. You can\\'t quit. Not before you pick up the Green Goose. Oh, anybody can pick up a bird. You don\\'t need me for that. Quiet. [Beep beep beep beep] How about that? They had my bed bugged! All right, Flintstone. I see I\\'m going to have to level with you. What do you mean? I mean the Green Goose is not a bird. He\\'s a master criminal who plans to take over the world! Why don\\'t you arrest him? No one knows who he is or what he looks like. But you can find out. Me?! How? Through a girl named Tanya who thinks you\\'re Rock Slag. The minute she identifies the Green Goose, I\\'ll grab him, and your job is done. How about it, Flintstone? Nothin\\' doin\\'! Too dangerous! I got a family to think of-- Pebbles\\' future! If we don\\'t stop the Green Goose, Pebbles won\\'t have a future. Sorry, Chief. You\\'ll have to get somebody else. Oh, look at those children, Fred. They\\'re having the time of their lives! BARNEY: Ha ha ha! Why not? They got nothin\\' to worry about. Right, Fred? Huh? I said those kids got nothin\\' to worry about. Oh, yeah. Yeah. I wonder... â\\x99ª Someday â\\x99ª â\\x99ª I\\'m gonna be a great doctor â\\x99ª â\\x99ª And cure every deadly disease â\\x99ª â\\x99ª You wait and see â\\x99ª â\\x99ª I\\'m gonna help other children â\\x99ª â\\x99ª Like me â\\x99ª â\\x99ª When I am grown up â\\x99ª â\\x99ª You\\'ll see â\\x99ª â\\x99ª We know that some day â\\x99ª â\\x99ª We will do great things â\\x99ª â\\x99ª When we are grown up â\\x99ª â\\x99ª You\\'ll see â\\x99ª â\\x99ª We know when we\\'re grown up â\\x99ª â\\x99ª And not so small â\\x99ª â\\x99ª We\\'re gonna do great things â\\x99ª â\\x99ª You\\'ll see â\\x99ª â\\x99ª and show them all â\\x99ª â\\x99ª Someday â\\x99ª â\\x99ª I\\'m gonna be a great farmer â\\x99ª â\\x99ª And grow lots of good things to eat â\\x99ª â\\x99ª Won\\'t that be neat? â\\x99ª â\\x99ª No one will ever go hungry again â\\x99ª â\\x99ª Not when I\\'m grown up â\\x99ª â\\x99ª Not then â\\x99ª â\\x99ª We know that some day â\\x99ª â\\x99ª We will do great things â\\x99ª â\\x99ª When we are grown up â\\x99ª â\\x99ª You\\'ll see â\\x99ª â\\x99ª We know when we\\'re grown up â\\x99ª â\\x99ª And not so small â\\x99ª â\\x99ª We\\'re gonna do great things â\\x99ª â\\x99ª You\\'ll see â\\x99ª â\\x99ª and show them all â\\x99ª â\\x99ª Some day â\\x99ª â\\x99ª I\\'m gonna be a great teacher â\\x99ª â\\x99ª And teach everybody to read â\\x99ª â\\x99ª That\\'s what we need â\\x99ª â\\x99ª People who read aren\\'t so easy to fool â\\x99ª â\\x99ª So I will teach them â\\x99ª â\\x99ª In school â\\x99ª â\\x99ª We know that some day â\\x99ª â\\x99ª We will do great things â\\x99ª â\\x99ª When we are grown up â\\x99ª â\\x99ª You\\'ll see â\\x99ª â\\x99ª Someday â\\x99ª â\\x99ª You\\'ll see â\\x99ª â\\x99ª Some day â\\x99ª â\\x99ª You\\'ll see â\\x99ª â\\x99ª Someday â\\x99ª â\\x99ª I\\'m gonna be â\\x99ª Isn\\'t it wonderful the way kids get along together? Yeah. We adults could take a lesson from them. What do we do now, Fred, some sightseeing? Fred? Do you hear me? What? Oh, uh, yeah, yeah. Good idea. You, uh...go ahead and enjoy yourselves. But aren\\'t you coming with us? No. I got some unfinished business to take care of. So long, honey. See you later. My, he\\'s acting strange. I wonder what\\'s wrong? I knew you\\'d change your mind, Flintstone. You\\'re A-OK. Are you sure this is the right girl? Absolutely. You\\'re having lunch with her at Papa Piccolo\\'s Pizza Palace. Here we are, Flintstone. Let\\'s go inside. There she is. Tanya. The girl who will lead us to the Green Goose\\'s hideout. Rrr! She\\'s a doll. Your job will be simpler than we thought, Flintstone. Rock Slag has recovered and will be here within a hour. All you have to do is keep Tanya here until he arrives. Think you can do it? It\\'ll be a cinch. I\\'ll order everything on the menu. Wait. I want you to wear this recorder. Recorder? Yes. We wanna take down everything Tanya says. I\\'m glad I had my beak sharpened. Tanya may be a real yacker. This flower is the microphone. And remember, keep her talking until the real Rock Slag takes over. Gotcha, Chief. BETTY: Oh, how exciting! The famous Papa Piccolo\\'s Pizza Palace. Let\\'s go in and have some lunch. Poor Fred. It\\'s a shame he isn\\'t here. Fifty flying firefighters? Mmm... Bubala! Ha ha ha. Hello, Tanya. Rock Slag. At last we meet. May I sit down? Is that wise? We should leave at once. Oh, plenty of time. Let\\'s have a little talk first about, uh... you know who. Oh, the Green Goose. He\\'s a terrible man! Do you know he has a secret weapon more powerful than any? A little louder, please, and speak into the flower. How cute. I will wear it in my hair. No, no, no. Allow me to get you a fresh flower. I\\'ll be right back. Toodle-oo! Fred! Wilma! What are you doing here? And who are you waving at? Wa-wa-waving? Who--who\\'s waving? Oh, that! Ha ha ha! It\\'s just a loose wrist. I thought you had some unfinished business to take care of. Well, I do. That is, I finished. I took a chance you might be here, so...ha ha... here I am. Oh, how nice! Well, sit down, Fred. Yeah! Join the party. Huh? Oh, yeah. yeah. Will you excuse me a minute? It\\'s kinda drafty in here. I\\'ll go close the window. Sorry. I couldn\\'t find a flower. Oh, that\\'s all right. It\\'s kinda drafty in here. I\\'ll go close the window. Excuse me. What took you so long, dear? I was stuck. I mean the window was stuck. Well, should we order? Yeah. Good idea. Uh-oh. Excuse me! Tanya, what are you doing? Getting my wrap. We must leave! Look, t-the orchestra\\'s gettin\\' ready to play. Let\\'s dance. Well...maybe just once. [Slow song starts] I\\'d sure like to dance. I wonder where Fred is. Uh-oh. What are you doing, Rock? In this business, you can\\'t be too careful. [Upbeat song starts] It\\'s Fred! I didn\\'t know you wanted to dance, honey. Wilma! Uh-oh! Oh, you dance divinely, darling. So do you, dear. Dear? Darling? Come on, Tiger. Let\\'s get out of here. Tiger? So that\\'s it! That\\'s your unfinished business. L-l-look, Wilma, I--I can explain everything. I wish you would. I\\'ve been going crazy down there trying to record it. There\\'s nothing to explain. It\\'s all very obvious! Wilma, please, won\\'t ya listen? I\\'m going home...Tiger! Hey, Flintstone. Rock Slag\\'s cab is arriving. Go get Tanya. You can switch with Slag in the lobby. Hurry! Taxi! Allow me, madame. Don\\'t you get smart with me, Fred Flintstone! So we see you in your true colours, you playboy! How could you do that to the mother of your child? Consider our friendship ended! You playboy! Rock! Oh, no, not again. You powder your nose, Tanya. I\\'ll wait for ya in the lobby. All set, Chief. Where\\'s Rock? Right there. What happened? He must have had a relapse. Look! Rock Slag! Quick, upstairs! Looks like you\\'re going to have to carry the ball a little longer, Flintstone. Me? I gotta go home and square myself with Wilma! No time for that now! I just got this message. Listen. Green Goose\\r\\nsecret weapon\\r\\n\\r\\n1371\\r\\n01:07:29,950 --> 01:07:32,119\\r\\nis giant inter-rockinental missile. our anti-missile missile is not operational yet.\" So you see, it\\'s up to us to stop the Green Goose! Us? What do you mean us? You go with Tanya to the Green Goose\\'s hideout. I\\'ll phone Triple X, and we\\'ll follow right behind you. Now just a minute. That wasn\\'t the deal-- I\\'m ready, Rock. Let\\'s go. But--but--but--but--- Oh, boy. Hello, operator? Hello, hello? Operator, are you there? [Crash] Hee hee! Hee hee! Hee hee hee hee! Right on target, Bobo. Thanks, Ali. Now we get Rock Slag. No time. First we must take message to Green Goose. Good idea, Ali. Green Goose will be proud of us. Bwa ha ha ha! Here we are, Rock. The Green Goose\\'s secret headquarters. An abandoned amusement park. Pretty clever. OK, Rock. Now what? Follow me. Follow me, Chief, wherever you are. Why do you keep looking behind you? Oh, I just wanted to make sure we were being followed. I mean...we\\'renotbeing followed. Heh heh heh. Eh... The Green Goose is in there. I\\'ll go in first and get behind him. Then when you come in, I will drop this rope over him. Count to 5 before you break in. OK. We\\'re movin\\' in! All right, Goose! You\\'re cooked! Ah...Mr Slag! Nice of you to drop in. Shall I tie him up? That won\\'t be necessary. Ferocious wouldn\\'t like it if Mr Slag tried to leave. Would you, Ferocious? [Growls] Hey, what is this? What\\'s goin\\' on, Tanya? My dear Rock, the Green Goose needs some information. So we set up this little trap for you. Surprised? A double cross, huh? Well, now I have a surprise for you! OK, Chief, come in! Oh, uh, there you are. Barney! Yeah, Barney. I followed you here. I\\'m not leaving until I get some information! Exactly what I was saying. Hey, who are you, buster? And why are you wearing this-- [Rrr] Eh, ahem, look, Goose, this guy is just a friend of mine. Why don\\'t you let him go? Oh, come now, Mr Slag, you know that\\'s impossible! Mr Slag? Who\\'s that? That\\'s me. I\\'ll explain later. GOOSE: Slag? I know your government has been working on an anti-missile missile. I want to know if they have completed it. I don\\'t know anything about it. GOOSE: I\\'d advise you to cooperate. I\\'d hate to resort to using unpleasant methods. [Grrr] Unpleasant methods? What\\'s going on? This guy is a master criminal and I\\'m helping the government capture him. But don\\'t worry. Our agents will bust in any minute. You don\\'t scare me, Goose. No? What about your chubby friend? Uh-oh. I, uh... I just rembered I--I double parked outside. I\\'ll be right back. Ferocious! [Grrr] [Grrr--grrr-grrr] [Evil laughter] Oh, oh, oh! Oh! GOOSE: Not yet, Ferocious. I may need him. Tanya! Show them the torture chamber! [Creak] These are some of my toys, but I want you to see my latest one. It\\'s called anerocktric chair. We strap you in and... Quite effective, isn\\'t it? Ab-bout my car. I--I left my lights on, too. Can I turn \\'em off? Take it easy, Barn. Help will be here any second. You\\'ll get nothin\\' out of me, Green Goose! I knew it would be useless to even try withyou, Slag, but your chubby little friend is another story, isn\\'t he? Heh heh heh. Tanya, the rack! FRED: Hey! Hey! What are you doin\\' to Barney?! Perhaps when you see what happens to your friend you\\'ll tell me what I want to know. Yeow! You can\\'t intimidate me with these crude methods. I\\'m intimi-nated! Yeow! Talk, Slag. Never! BARNEY: Yeow! Talk! No! BARNEY: Yeow! Don\\'t worry, Barn. All we gotta do is stall him a little longer. My lips are sealed, Goose! BARNEY: Yeow! Slag, you\\'re superhuman. I\\'ve never met anyone like you. Zounds! How much pain can a man stand? All you can dish out and more. BARNEY: Yeow! Don\\'t worry, Barney. I can take it. You ain\\'t takin\\' it. I am! You\\'re gonna come outta this abig man! And a thin one, too! [Knock, knock] At last! It\\'s about time. I was beginnin\\' to think you wouldn\\'t show up. Chief? If you\\'re expecting Chief Boulder, he\\'s out-- out cold for the evening. That\\'s right. And we found this message on him. Hmm... Green Goose\\r\\nsecret weapon\\r\\n\\r\\n1537\\r\\n01:14:10,451 --> 01:14:13,287\\r\\nis giant inter-rockinental missile. our anti-missile missile is not operational yet.\" Ha ha ha ha! Good work, Ali. Release the prisoner, Tanya. I have the information I need. Lock those two up and prepare to launch missile. Nobody can stop me now! Mwa ha ha ha ha ha ha ha ha ha! So that\\'s the way it was, Barney. Just because I happen to look like Rock Slag, I got the plane tickets, money, everything, and I also got you into this mess-- my best friend. Well, uh, could be worse, Fred. At least Betty and Wilma and the kids are OK. Yeah. I wonder if we\\'ll ever see \\'em again. Hey, Slag! Chowtime! Hee hee! Hee hee! Hee hee hee hee! Oh, boy, food. Oh, I\\'m starved. [Slurp] Fred: Barney! Don\\'t eat that stuff! I couldn\\'t if I wanted to, Fred. No spoon. Looks like the Green Goose is tryin\\' to get rid of us, Barney. We\\'ve gotta get outta here and find that missile. Oh, I wonder where it could be. Enh heh heh heh heh heh heh! The Fun House. I hope our guests are enjoying their last moments. This amusement park is the perfect launching spot. Who would think that the space ride isreallya deadly missile? No one. Now, let\\'s prepare to launch. Hey--hey, Fred, you sure you know what you\\'re doin\\'? This tower is 100-feet high, and you\\'ve got an awful short tie. Don\\'t worry. We\\'ll make it. Oh, e-easy, Fred. Howya doin\\', Barn? You think you can jump the rest of the way? Are you kiddin\\'? Pull me up! Pull me up! Uh-oh! He-elp! Faster, Barney! Faster! Hurry, Barney! Hurry! Oh, nice goin\\', Fred. You nearly got me killed. What are you complain\\' about? That was my best tie you ruined. Oh, sorry, Fred. Guess we never will get outta here. Hey, Barney, look. What is it? The guards-- They\\'re asleep, and the key is hangin\\' on the desk. So what good does that-- Shh! Quiet. Oh, uh, sorry, Fred, but, uh, how are we gonna get the key? [WHISPERING] That\\'s what we gotta figure out. Hey, would you mind speakin\\' a little louder? I can\\'t hear a word you\\'re saying. Well, whaddya know? The tape recorder. How would you like to do us a little favour? What kind of a little favour? Oh, nothin\\' much. You see that key? What about it? Just fly over there and bring it back to me. Unh-uh. I\\'m a recorder, not a retriever. But you\\'ve got to. It\\'s our only chance to get outta here. All right, All right, simmer down. I\\'ll give it a try. Shh! Turn around. Whoops! Oh, no! Sorry, it slipped. But don\\'t worry. I\\'ll get it. Just put me down and relax. What\\'s he gonna do, Fred? Beats me. RECORDER: Whoa! I\\'m hurt! The old wing is shot. Woe is me! I can\\'t fly anymore. Never again to zoom into the wild blue. Isn\\'t that an awful thing to happen to poor little me? [Grrr] Get ready! Here comes the pigeon! [Grr] Come on, bird! Come on! Open up! Barney, I got it! I got the key! I just hope the union never hears about this. [Muffled yells] Hold it, Barney. That door might lead to a trap. You better let me check first. OK, Fred. It\\'s OK, Barn. Come on. Barney, where are you? Let me go! Let me go! Take it easy, Rock. It\\'s only me, Triple X. Oh, boy, am I glad to see you. Where ya been? What took you so long? Where\\'s the Chief? One question at a time, please. Sorry. Here. You dropped your hat... and your hanky. Hey, that\\'s funny, Triple X. The Green Goose was wearin\\' a mask like this. He was? What a very clever disguise, don\\'t you think? Now, may I have it back, please? You mean... this is your mask? Heh heh heh heh... heh heh heh heh! Yes, exactly. Boo-hoo hoo hoo hoo! Then you\\'re-- you\\'re the Green Goose. And you\\'re a dead duck. Ali, Bobo, over here! Oh, no, you don\\'t! Come back, you! Never mind! I\\'m going to fire the missile. Come on. Hee hee! Hee hee hee! Hee hee! Hee hee! Ha ha ha! BO: Oh, boy! Big fireworks. ALI: Whole world go boom! Hee hee! Hee hee hee! Hee hee! Hee hee! The missile. I gotta stop \\'em! I wonder where Barney is. Maybe he could-- He-elp! [Grr] Take it easy, Ferocious. Can\\'t we sorta talk this over? [Grr--] Fred, oh, boy, am I glad to see you. Ferocious wasn\\'t gonna wait till lunchtime. Come on, Barney. There\\'s no time to lose. [Green Goose cackles] This is the big moment, gentlemen. First, I set the directional control. Then I set the firing pin. When the countdown reaches zero, The blade will snap back, cut the rope, and the missile will take off. Oh, Goose, you are a genius. Oh, you are so right. In a matter of minutes, the whole world will know of my power, and I alone shall rule supreme. [Buzz] Ah ha ha ha ha ha! We\\'ve got to find that missile, Barney. It\\'s all up to us now. Hey, Fred, look-- The Green Goose. Hold on, Barney! We\\'re crashin\\' through. Stop them, Bobo! Right. Ahh...Mr Slag, We meet again. But too late for you to stop me! Run, Barney! Run! Head for the space ride, Barney. We can hide in there. Oh! It\\'s locked. Uh, press the button. [Buzz] Inside, quick. Green Goose: Don\\'t open that door! Our friends have trapped themselves in the missile. Well, we no longer need concern ourselves with them. Hey, didya hear that, Fred? Yeah, Barney. We found the missile. Well--well, what can we do? Nothin\\' to save ourselves, but we can aim the missile into space, where it won\\'t do any harm. At least that\\'s somethin\\'. Oh, boy. Payload in an interplanetary projectile. Oh! What a way to go! They say we all gotta go sometime, Barn. Too bad I\\'ll never get the chance to give Wilma this present. Wow, Fred, where\\'d you get that? BARNEY: It must be worth millions! Huh? Nah. No, it\\'s only worth, uh... uh... It\\'s only worthone million. Just think, Barney-- we\\'ll be the richest guys in space. A million! Slag! Heh heh heh! I\\'ll make a deal with you. I\\'ll swap you your lives for that necklace. On your toes, Barn. It\\'s a deal. [Buzz] Hand it out. Here you are! [Crash] [Thud] Yii! Ali! Bobo! Tanya! Help! [Buzz] Let--let me out! No, no! Let me out! Help! Well, that\\'s what always happens to guys who want to take over the world. Yeah. Heh heh heh! They end up out of it. And with great pride, we, the citizens of Bedrock, present you with this medal. [Cheering] [Signal beeping] ANNOUNCER: After a week of parties, parades, and speeches, public hero Fred Flintstone has slipped away for a well-earned rest. Only clue as to his whereabouts is a note saying Gone fishing. Oh, it feels so good to relax. Yeah. It\\'s been one parade after another. My Fred, a big hero. Oh, I\\'m so proud of you. Oh...hee hee! Forget the hero stuff. Forget everything that happened in Eurock. From now on, I am just Fred Flintstone, average citizen. Besides, Barney deserves as much credit as I do. Oh, yeah, yeah. I deserve as much credit as Fred. Well, now, wait a minute, Barn. I was the one that-- Ha ha! [Girls laugh] Aw...ha ha ha! Now, cut it out, cut it out. Hey, come on, Fred. Last one down to the lake is a pickled pterodactyl! Hey... yabba dabba do! Here I am, pal! Rockello! Hey...eh,paesano! Roberta! Mario! Gangway! After him, quick! Wilma, help! Rockello! Hey,paesano,wait! Rockello? Paesano? What\\'s going on? I don\\'t know, but I have a feeling that Fred isn\\'t going to forget his trip to Eurock in a hurry. Help! Help! Somebody, do something! Rockello, come-a back! Hey, come back here,peasan! Help! Help! Oh, we\\'re gonna get-a married! MARIO: And-a go on a nice-a honeymoon. [Sobbing] Help! Help! Help! Rockello! Wilma! â\\x99ª Who do they call â\\x99ª â\\x99ª When the chips are startin\\' to fall â\\x99ª â\\x99ª Just when the villains are wailin\\' â\\x99ª â\\x99ª The troubles beginnin\\' to brew? â\\x99ª â\\x99ª The man called Flintstone â\\x99ª â\\x99ª That\\'s who â\\x99ª â\\x99ª Who is the man â\\x99ª â\\x99ª Who seems more than merely a man â\\x99ª â\\x99ª Who chases characters shady â\\x99ª â\\x99ª While every lady melts? â\\x99ª â\\x99ª The man called Flintstone â\\x99ª â\\x99ª Who else? â\\x99ª â\\x99ª Who else? â\\x99ª â\\x99ª Who else? â\\x99ª'"
      ]
     },
     "execution_count": 137,
     "metadata": {},
     "output_type": "execute_result"
    }
   ],
   "source": [
    "prepare_subtitles(film_name, clean=False)"
   ]
  },
  {
   "cell_type": "markdown",
   "id": "1aba694c",
   "metadata": {},
   "source": [
    "---"
   ]
  },
  {
   "cell_type": "markdown",
   "id": "52688015",
   "metadata": {},
   "source": [
    "## Корректировка Level\n",
    "\n",
    "Для фильмов с несколькими категориями нужно оставить одну (самую высокую).  \n",
    "Заменить категории с плюсом на обычные, поскольку плюсовых категорий в CEFR нет."
   ]
  },
  {
   "cell_type": "code",
   "execution_count": 138,
   "id": "be94f3a1",
   "metadata": {},
   "outputs": [],
   "source": [
    "data.Level = data.Level.apply(lambda Level: Level.replace('+', '')[-2:])"
   ]
  },
  {
   "cell_type": "markdown",
   "id": "55e8d337",
   "metadata": {},
   "source": [
    "> Плюсы удалены.  \n",
    "> При наличии нескольких категорий от экспертов для фильма установлена самая старшая категория (последние 2 символа)."
   ]
  },
  {
   "cell_type": "markdown",
   "id": "01f9eeec",
   "metadata": {},
   "source": [
    "---"
   ]
  },
  {
   "cell_type": "markdown",
   "id": "0897db14",
   "metadata": {},
   "source": [
    "## Save dataset for modeling"
   ]
  },
  {
   "cell_type": "code",
   "execution_count": 139,
   "id": "0035c083",
   "metadata": {},
   "outputs": [],
   "source": [
    "data.to_csv(f'datasets/EDA_movies_subtitles.csv', index=False)"
   ]
  },
  {
   "cell_type": "markdown",
   "id": "4b1281bb",
   "metadata": {},
   "source": [
    "> Предобработку субтитров можно/нужно добавить в пайплайн модели.  \n",
    "> \n",
    "> Если не используются новые сгенерированные признаки, модель работает на новых данных и без предварительной обработки."
   ]
  },
  {
   "cell_type": "code",
   "execution_count": 140,
   "id": "88a82bb1",
   "metadata": {},
   "outputs": [
    {
     "name": "stdout",
     "output_type": "stream",
     "text": [
      "<class 'pandas.core.frame.DataFrame'>\n",
      "Int64Index: 347 entries, 0 to 348\n",
      "Data columns (total 3 columns):\n",
      " #   Column     Non-Null Count  Dtype \n",
      "---  ------     --------------  ----- \n",
      " 0   Movie      347 non-null    object\n",
      " 1   Level      347 non-null    object\n",
      " 2   Subtitles  347 non-null    object\n",
      "dtypes: object(3)\n",
      "memory usage: 10.8+ KB\n"
     ]
    }
   ],
   "source": [
    "data.info()"
   ]
  },
  {
   "cell_type": "code",
   "execution_count": 141,
   "id": "339ff7dd",
   "metadata": {
    "scrolled": true
   },
   "outputs": [
    {
     "data": {
      "text/html": [
       "<div>\n",
       "<style scoped>\n",
       "    .dataframe tbody tr th:only-of-type {\n",
       "        vertical-align: middle;\n",
       "    }\n",
       "\n",
       "    .dataframe tbody tr th {\n",
       "        vertical-align: top;\n",
       "    }\n",
       "\n",
       "    .dataframe thead th {\n",
       "        text-align: right;\n",
       "    }\n",
       "</style>\n",
       "<table border=\"1\" class=\"dataframe\">\n",
       "  <thead>\n",
       "    <tr style=\"text-align: left;\">\n",
       "      <th></th>\n",
       "      <th>Movie</th>\n",
       "      <th>Level</th>\n",
       "      <th>Subtitles</th>\n",
       "    </tr>\n",
       "  </thead>\n",
       "  <tbody>\n",
       "    <tr>\n",
       "      <th>329</th>\n",
       "      <td>The.Umbrella.Academy.S03E05.720p.WEB.h264-KOGi</td>\n",
       "      <td>A2</td>\n",
       "      <td>great you again what owe the pleasure this time not talking huh well then listen not the mood fo...</td>\n",
       "    </tr>\n",
       "    <tr>\n",
       "      <th>175</th>\n",
       "      <td>Suits.S01E05.1080p.BluRay.AAC5.1.x265-DTG.02.EN</td>\n",
       "      <td>B2</td>\n",
       "      <td>ross triple double courtesy america favorite burger chain louis won the class action suit ten th...</td>\n",
       "    </tr>\n",
       "    <tr>\n",
       "      <th>304</th>\n",
       "      <td>The.Umbrella.Academy.S01E01.WEBRip.x264-ION10</td>\n",
       "      <td>A2</td>\n",
       "      <td>the hour the first day october this was unusual only the fact that none these women had been pre...</td>\n",
       "    </tr>\n",
       "    <tr>\n",
       "      <th>50</th>\n",
       "      <td>Lion(2016)</td>\n",
       "      <td>B2</td>\n",
       "      <td>saroo saroo come come get come quickly hold properly saroo catch get down guddu the guards hey b...</td>\n",
       "    </tr>\n",
       "    <tr>\n",
       "      <th>35</th>\n",
       "      <td>Forrest_Gump(1994)</td>\n",
       "      <td>B1</td>\n",
       "      <td>hello name forrest forrest gump you want chocolate could eat about million and half these mama a...</td>\n",
       "    </tr>\n",
       "  </tbody>\n",
       "</table>\n",
       "</div>"
      ],
      "text/plain": [
       "    Movie                                            Level  \\\n",
       "329   The.Umbrella.Academy.S03E05.720p.WEB.h264-KOGi  A2     \n",
       "175  Suits.S01E05.1080p.BluRay.AAC5.1.x265-DTG.02.EN  B2     \n",
       "304    The.Umbrella.Academy.S01E01.WEBRip.x264-ION10  A2     \n",
       "50                                        Lion(2016)  B2     \n",
       "35                                Forrest_Gump(1994)  B1     \n",
       "\n",
       "    Subtitles                                                                                             \n",
       "329  great you again what owe the pleasure this time not talking huh well then listen not the mood fo...  \n",
       "175  ross triple double courtesy america favorite burger chain louis won the class action suit ten th...  \n",
       "304  the hour the first day october this was unusual only the fact that none these women had been pre...  \n",
       "50   saroo saroo come come get come quickly hold properly saroo catch get down guddu the guards hey b...  \n",
       "35   hello name forrest forrest gump you want chocolate could eat about million and half these mama a...  "
      ]
     },
     "execution_count": 141,
     "metadata": {},
     "output_type": "execute_result"
    }
   ],
   "source": [
    "data.sample(5)"
   ]
  },
  {
   "cell_type": "markdown",
   "id": "2f75eee7",
   "metadata": {},
   "source": [
    "---"
   ]
  },
  {
   "cell_type": "markdown",
   "id": "e359d17d",
   "metadata": {},
   "source": [
    "## Эксперименты"
   ]
  },
  {
   "cell_type": "markdown",
   "id": "f751122e",
   "metadata": {},
   "source": [
    "### New simple features"
   ]
  },
  {
   "cell_type": "code",
   "execution_count": 142,
   "id": "be21c7d4",
   "metadata": {},
   "outputs": [],
   "source": [
    "# # длина текста\n",
    "# data['text_length'] = data.Subtitles.apply(lambda x: len(x))\n",
    "\n",
    "# # длина текста без пробелов\n",
    "# data['text_length_char'] = data.Subtitles.str.replace(' ', '').apply(lambda x: len(x))\n",
    "\n",
    "# # средняя длина слова\n",
    "# data['avg_word_length'] = data.text_length_char / (data.text_length - data.text_length_char)"
   ]
  },
  {
   "cell_type": "markdown",
   "id": "7a7c3312",
   "metadata": {},
   "source": [
    "> Эксперименты с моделью показали бесполезность этих новых признаков."
   ]
  },
  {
   "cell_type": "markdown",
   "id": "4bd7abce",
   "metadata": {},
   "source": [
    "### Употребление слов в субтитрах из словаря Oxford\n",
    "\n",
    "Будет исследовано распределение слов разных уровней в фильмах разных уровней.\n",
    "\n",
    "Будет учтено как общее количество употреблений слова (даже если оно повторяется неоднократно), так и распределение уникальныхх слов (каждое слово будет учтено только один раз).\n",
    "\n",
    "Идеальным резултатом будет выраженная зависимость между словами и фильмамит определенного уровня."
   ]
  },
  {
   "cell_type": "code",
   "execution_count": 143,
   "id": "eb9b2e30",
   "metadata": {},
   "outputs": [],
   "source": [
    "# файл содержит все слова из \"American Oxford by CEFR level\" с указанным уровнем\n",
    "\n",
    "data_words = pd.read_csv(f'{DATASETS_PATH_LOCAL}EDA_word_level.csv')"
   ]
  },
  {
   "cell_type": "code",
   "execution_count": 144,
   "id": "aea2ad16",
   "metadata": {},
   "outputs": [
    {
     "data": {
      "text/plain": [
       "Level\n",
       "A1    [a, an, about, above, across, action, activity, actor, actress, add, advice, afraid, afternoon, ...\n",
       "A2    [ability, able, accept, accident, according, achieve, active, actually, adult, advantage, advent...\n",
       "B1    [absolutely, academic, access, account, achievement, act, ad, addition, administration, admire, ...\n",
       "B2    [acknowledge, acquire, actual, adapt, additional, address, adopt, advance, affair, afterward, ag...\n",
       "C1    [abolish, abortion, absence, absent, absurd, abuse, academy, accelerate, acceptance, accessible,...\n",
       "Name: word, dtype: object"
      ]
     },
     "execution_count": 144,
     "metadata": {},
     "output_type": "execute_result"
    }
   ],
   "source": [
    "# группировка слов по уровням и преобразование в списки\n",
    "\n",
    "series_oxford = data_words.groupby('Level').word.agg(list)\n",
    "series_oxford"
   ]
  },
  {
   "cell_type": "code",
   "execution_count": 145,
   "id": "6d3a7cf3",
   "metadata": {},
   "outputs": [],
   "source": [
    "# преобразование текста с обработанными субтитрами в список, где каждый элемент – слово\n",
    "\n",
    "data['subs_words'] = data.Subtitles.apply(lambda x: x.split())"
   ]
  },
  {
   "cell_type": "code",
   "execution_count": 146,
   "id": "0f860bbd",
   "metadata": {},
   "outputs": [],
   "source": [
    "def oxford_count(df, level):\n",
    "    '''\n",
    "    df: датафрейм для обработки\n",
    "    level: уровень, соответствующий \"American Oxford by CEFR level\"\n",
    "    \n",
    "    Добавляет в датафрейм:\n",
    "        поле вида 'level_sum' с количеством употреблений слов соответствующего уровня;\n",
    "        поле вида 'level_unq' с количеством уникальных слов соответствующего уровня.\n",
    "    '''\n",
    "    \n",
    "    subs = df['subs_words']\n",
    "    oxford = series_oxford[level]\n",
    "    \n",
    "    df[f'{level}_sum'] = df['subs_words'].apply(lambda subs: sum(i in oxford for i in subs))\n",
    "    df[f'{level}_unq'] = df['subs_words'].apply(lambda subs: sum(i in subs for i in oxford))\n",
    "    \n",
    "    return df"
   ]
  },
  {
   "cell_type": "code",
   "execution_count": 147,
   "id": "ef56a1af",
   "metadata": {},
   "outputs": [
    {
     "name": "stderr",
     "output_type": "stream",
     "text": [
      "100%|██████████| 5/5 [03:50<00:00, 46.19s/it]\n"
     ]
    }
   ],
   "source": [
    "# список всех уровней CEFR, имеющихся в списке фильмов\n",
    "level_list = sorted(list(data.Level.unique()))\n",
    "\n",
    "\n",
    "# для каждого возможного уровня добавить в датафрейм:\n",
    "# количество употреблений слов соответствующего уровня и\n",
    "# количество уникальных слов соответствующего уровня\n",
    "\n",
    "for level in tqdm(level_list):\n",
    "    data = oxford_count(data, level)"
   ]
  },
  {
   "cell_type": "code",
   "execution_count": 148,
   "id": "e53427d8",
   "metadata": {},
   "outputs": [],
   "source": [
    "# общее количество употреблений слов и уникальных слов всех уровней\n",
    "\n",
    "data['TOTAL_sum'] = 0\n",
    "data['TOTAL_unq'] = 0\n",
    "\n",
    "for level in level_list:\n",
    "    data['TOTAL_sum'] += data[f'{level}_sum']\n",
    "    data['TOTAL_unq'] += data[f'{level}_unq']\n",
    "\n",
    "\n",
    "# подсчет доли разных уровней для употреблений слов и уникальных слов\n",
    "\n",
    "for level in level_list:\n",
    "    data[f'{level}_sum_%'] = data[f'{level}_sum'] / data['TOTAL_sum']\n",
    "    data[f'{level}_unq_%'] = data[f'{level}_unq'] / data['TOTAL_unq']"
   ]
  },
  {
   "cell_type": "code",
   "execution_count": 149,
   "id": "660ced53",
   "metadata": {},
   "outputs": [],
   "source": [
    "# удаление ненужных полей\n",
    "\n",
    "data = data.drop(['subs_words','TOTAL_sum','TOTAL_unq'], axis=1)\n",
    "\n",
    "for level in level_list:\n",
    "    data = data.drop(f'{level}_sum', axis=1)     # количество употреблений слов определенного уровня\n",
    "    data = data.drop(f'{level}_unq', axis=1)     # количество уникальных слов определенного уровня    "
   ]
  },
  {
   "cell_type": "code",
   "execution_count": 150,
   "id": "dba8078c",
   "metadata": {},
   "outputs": [
    {
     "data": {
      "text/html": [
       "<div>\n",
       "<style scoped>\n",
       "    .dataframe tbody tr th:only-of-type {\n",
       "        vertical-align: middle;\n",
       "    }\n",
       "\n",
       "    .dataframe tbody tr th {\n",
       "        vertical-align: top;\n",
       "    }\n",
       "\n",
       "    .dataframe thead th {\n",
       "        text-align: right;\n",
       "    }\n",
       "</style>\n",
       "<table border=\"1\" class=\"dataframe\">\n",
       "  <thead>\n",
       "    <tr style=\"text-align: left;\">\n",
       "      <th></th>\n",
       "      <th>A1_sum_%</th>\n",
       "      <th>A1_unq_%</th>\n",
       "      <th>A2_sum_%</th>\n",
       "      <th>A2_unq_%</th>\n",
       "      <th>B1_sum_%</th>\n",
       "      <th>B1_unq_%</th>\n",
       "      <th>B2_sum_%</th>\n",
       "      <th>B2_unq_%</th>\n",
       "      <th>C1_sum_%</th>\n",
       "      <th>C1_unq_%</th>\n",
       "    </tr>\n",
       "    <tr>\n",
       "      <th>Level</th>\n",
       "      <th></th>\n",
       "      <th></th>\n",
       "      <th></th>\n",
       "      <th></th>\n",
       "      <th></th>\n",
       "      <th></th>\n",
       "      <th></th>\n",
       "      <th></th>\n",
       "      <th></th>\n",
       "      <th></th>\n",
       "    </tr>\n",
       "  </thead>\n",
       "  <tbody>\n",
       "    <tr>\n",
       "      <th>A1</th>\n",
       "      <td>0.720</td>\n",
       "      <td>0.648</td>\n",
       "      <td>0.118</td>\n",
       "      <td>0.152</td>\n",
       "      <td>0.100</td>\n",
       "      <td>0.111</td>\n",
       "      <td>0.043</td>\n",
       "      <td>0.062</td>\n",
       "      <td>0.019</td>\n",
       "      <td>0.027</td>\n",
       "    </tr>\n",
       "    <tr>\n",
       "      <th>A2</th>\n",
       "      <td>0.626</td>\n",
       "      <td>0.442</td>\n",
       "      <td>0.143</td>\n",
       "      <td>0.226</td>\n",
       "      <td>0.117</td>\n",
       "      <td>0.141</td>\n",
       "      <td>0.079</td>\n",
       "      <td>0.141</td>\n",
       "      <td>0.035</td>\n",
       "      <td>0.050</td>\n",
       "    </tr>\n",
       "    <tr>\n",
       "      <th>B1</th>\n",
       "      <td>0.630</td>\n",
       "      <td>0.400</td>\n",
       "      <td>0.139</td>\n",
       "      <td>0.224</td>\n",
       "      <td>0.117</td>\n",
       "      <td>0.155</td>\n",
       "      <td>0.082</td>\n",
       "      <td>0.164</td>\n",
       "      <td>0.033</td>\n",
       "      <td>0.057</td>\n",
       "    </tr>\n",
       "    <tr>\n",
       "      <th>B2</th>\n",
       "      <td>0.640</td>\n",
       "      <td>0.395</td>\n",
       "      <td>0.126</td>\n",
       "      <td>0.223</td>\n",
       "      <td>0.120</td>\n",
       "      <td>0.156</td>\n",
       "      <td>0.080</td>\n",
       "      <td>0.165</td>\n",
       "      <td>0.034</td>\n",
       "      <td>0.061</td>\n",
       "    </tr>\n",
       "    <tr>\n",
       "      <th>C1</th>\n",
       "      <td>0.646</td>\n",
       "      <td>0.396</td>\n",
       "      <td>0.124</td>\n",
       "      <td>0.222</td>\n",
       "      <td>0.117</td>\n",
       "      <td>0.160</td>\n",
       "      <td>0.079</td>\n",
       "      <td>0.164</td>\n",
       "      <td>0.034</td>\n",
       "      <td>0.058</td>\n",
       "    </tr>\n",
       "  </tbody>\n",
       "</table>\n",
       "</div>"
      ],
      "text/plain": [
       "       A1_sum_%  A1_unq_%  A2_sum_%  A2_unq_%  B1_sum_%  B1_unq_%  B2_sum_%  \\\n",
       "Level                                                                         \n",
       "A1    0.720     0.648     0.118     0.152     0.100     0.111     0.043       \n",
       "A2    0.626     0.442     0.143     0.226     0.117     0.141     0.079       \n",
       "B1    0.630     0.400     0.139     0.224     0.117     0.155     0.082       \n",
       "B2    0.640     0.395     0.126     0.223     0.120     0.156     0.080       \n",
       "C1    0.646     0.396     0.124     0.222     0.117     0.160     0.079       \n",
       "\n",
       "       B2_unq_%  C1_sum_%  C1_unq_%  \n",
       "Level                                \n",
       "A1    0.062     0.019     0.027      \n",
       "A2    0.141     0.035     0.050      \n",
       "B1    0.164     0.033     0.057      \n",
       "B2    0.165     0.034     0.061      \n",
       "C1    0.164     0.034     0.058      "
      ]
     },
     "execution_count": 150,
     "metadata": {},
     "output_type": "execute_result"
    }
   ],
   "source": [
    "# сводная таблица для оценки доли употреблений слов и уникальных слов разных уровней\n",
    "# в зависимости от уровня фильма, установленного экспертом\n",
    "\n",
    "data.groupby('Level').mean()"
   ]
  },
  {
   "cell_type": "markdown",
   "id": "2c1c4537",
   "metadata": {},
   "source": [
    "> Пояснение к названиям столбцов:  \n",
    "> A1_sum_% – доля употребленных слов уровня A1 среди всех слов с известным уровнем.  \n",
    "> A1_unq_% – доля уникальных слов уровня A1 среди всех слов с известным уровнем.  \n",
    "> Аналогично и для других уровней.\n",
    "\n",
    "> Если в полученной таблице изучить столбцы сверху вниз, то видно, что сколько либо заметно отличается только уровень A1, как для уникальных слов из словаря Oxford, так и для общего количества их употреблений.  \n",
    "> Для остальных уровней доля слов разных уровней примерно одинакова.\n",
    "\n",
    "> Эксперименты с моделированием подтвердили бесполезность этих новых признаков."
   ]
  },
  {
   "cell_type": "markdown",
   "id": "830dddc2",
   "metadata": {},
   "source": [
    "---"
   ]
  },
  {
   "cell_type": "markdown",
   "id": "8fa36ac3",
   "metadata": {},
   "source": [
    "## Save dataset for modeling"
   ]
  },
  {
   "cell_type": "code",
   "execution_count": 151,
   "id": "f1c541e7",
   "metadata": {},
   "outputs": [],
   "source": [
    "# data.to_csv(f'datasets/EDA_movies_subtitles.csv', index=False)"
   ]
  },
  {
   "cell_type": "markdown",
   "id": "5c72de55",
   "metadata": {},
   "source": [
    "> Сохранение датасета с новыми признаками"
   ]
  },
  {
   "cell_type": "code",
   "execution_count": 152,
   "id": "62934ec8",
   "metadata": {},
   "outputs": [
    {
     "name": "stdout",
     "output_type": "stream",
     "text": [
      "<class 'pandas.core.frame.DataFrame'>\n",
      "Int64Index: 347 entries, 0 to 348\n",
      "Data columns (total 13 columns):\n",
      " #   Column     Non-Null Count  Dtype  \n",
      "---  ------     --------------  -----  \n",
      " 0   Movie      347 non-null    object \n",
      " 1   Level      347 non-null    object \n",
      " 2   Subtitles  347 non-null    object \n",
      " 3   A1_sum_%   347 non-null    float64\n",
      " 4   A1_unq_%   347 non-null    float64\n",
      " 5   A2_sum_%   347 non-null    float64\n",
      " 6   A2_unq_%   347 non-null    float64\n",
      " 7   B1_sum_%   347 non-null    float64\n",
      " 8   B1_unq_%   347 non-null    float64\n",
      " 9   B2_sum_%   347 non-null    float64\n",
      " 10  B2_unq_%   347 non-null    float64\n",
      " 11  C1_sum_%   347 non-null    float64\n",
      " 12  C1_unq_%   347 non-null    float64\n",
      "dtypes: float64(10), object(3)\n",
      "memory usage: 38.0+ KB\n"
     ]
    }
   ],
   "source": [
    "data.info()"
   ]
  },
  {
   "cell_type": "code",
   "execution_count": 153,
   "id": "f884f840",
   "metadata": {
    "scrolled": true
   },
   "outputs": [
    {
     "data": {
      "text/html": [
       "<div>\n",
       "<style scoped>\n",
       "    .dataframe tbody tr th:only-of-type {\n",
       "        vertical-align: middle;\n",
       "    }\n",
       "\n",
       "    .dataframe tbody tr th {\n",
       "        vertical-align: top;\n",
       "    }\n",
       "\n",
       "    .dataframe thead th {\n",
       "        text-align: right;\n",
       "    }\n",
       "</style>\n",
       "<table border=\"1\" class=\"dataframe\">\n",
       "  <thead>\n",
       "    <tr style=\"text-align: left;\">\n",
       "      <th></th>\n",
       "      <th>Movie</th>\n",
       "      <th>Level</th>\n",
       "      <th>Subtitles</th>\n",
       "      <th>A1_sum_%</th>\n",
       "      <th>A1_unq_%</th>\n",
       "      <th>A2_sum_%</th>\n",
       "      <th>A2_unq_%</th>\n",
       "      <th>B1_sum_%</th>\n",
       "      <th>B1_unq_%</th>\n",
       "      <th>B2_sum_%</th>\n",
       "      <th>B2_unq_%</th>\n",
       "      <th>C1_sum_%</th>\n",
       "      <th>C1_unq_%</th>\n",
       "    </tr>\n",
       "  </thead>\n",
       "  <tbody>\n",
       "    <tr>\n",
       "      <th>304</th>\n",
       "      <td>The.Umbrella.Academy.S01E01.WEBRip.x264-ION10</td>\n",
       "      <td>A2</td>\n",
       "      <td>the hour the first day october this was unusual only the fact that none these women had been pre...</td>\n",
       "      <td>0.626</td>\n",
       "      <td>0.436</td>\n",
       "      <td>0.131</td>\n",
       "      <td>0.212</td>\n",
       "      <td>0.121</td>\n",
       "      <td>0.146</td>\n",
       "      <td>0.082</td>\n",
       "      <td>0.148</td>\n",
       "      <td>0.040</td>\n",
       "      <td>0.058</td>\n",
       "    </tr>\n",
       "    <tr>\n",
       "      <th>220</th>\n",
       "      <td>Suits S04E13 EngSub</td>\n",
       "      <td>C1</td>\n",
       "      <td>and you got your name the wall now want the respect that comes with meaning want one harvey clie...</td>\n",
       "      <td>0.662</td>\n",
       "      <td>0.405</td>\n",
       "      <td>0.117</td>\n",
       "      <td>0.240</td>\n",
       "      <td>0.104</td>\n",
       "      <td>0.131</td>\n",
       "      <td>0.086</td>\n",
       "      <td>0.175</td>\n",
       "      <td>0.031</td>\n",
       "      <td>0.048</td>\n",
       "    </tr>\n",
       "    <tr>\n",
       "      <th>266</th>\n",
       "      <td>Gravity.Falls.S01E12.Summerween.720p.WEB-DL.AAC2.0.H264-Reaperza</td>\n",
       "      <td>A2</td>\n",
       "      <td>here are the summerween superstore wait summer what summerween the people this town love hallowe...</td>\n",
       "      <td>0.603</td>\n",
       "      <td>0.466</td>\n",
       "      <td>0.141</td>\n",
       "      <td>0.222</td>\n",
       "      <td>0.146</td>\n",
       "      <td>0.140</td>\n",
       "      <td>0.081</td>\n",
       "      <td>0.146</td>\n",
       "      <td>0.028</td>\n",
       "      <td>0.026</td>\n",
       "    </tr>\n",
       "    <tr>\n",
       "      <th>130</th>\n",
       "      <td>Spirit.Stallion.of.the.Cimarron.EN</td>\n",
       "      <td>B1</td>\n",
       "      <td>spirit stallion the cimarron the story want tell you can not found book they say the history the...</td>\n",
       "      <td>0.617</td>\n",
       "      <td>0.470</td>\n",
       "      <td>0.151</td>\n",
       "      <td>0.211</td>\n",
       "      <td>0.123</td>\n",
       "      <td>0.140</td>\n",
       "      <td>0.086</td>\n",
       "      <td>0.143</td>\n",
       "      <td>0.023</td>\n",
       "      <td>0.036</td>\n",
       "    </tr>\n",
       "    <tr>\n",
       "      <th>23</th>\n",
       "      <td>Clueless(1995)</td>\n",
       "      <td>B1</td>\n",
       "      <td>okay you probably going this noxzema commercial what but seriously actually have way normal life...</td>\n",
       "      <td>0.633</td>\n",
       "      <td>0.380</td>\n",
       "      <td>0.135</td>\n",
       "      <td>0.201</td>\n",
       "      <td>0.119</td>\n",
       "      <td>0.166</td>\n",
       "      <td>0.084</td>\n",
       "      <td>0.185</td>\n",
       "      <td>0.029</td>\n",
       "      <td>0.068</td>\n",
       "    </tr>\n",
       "  </tbody>\n",
       "</table>\n",
       "</div>"
      ],
      "text/plain": [
       "    Movie                                                             Level  \\\n",
       "304                     The.Umbrella.Academy.S01E01.WEBRip.x264-ION10  A2     \n",
       "220                                               Suits S04E13 EngSub  C1     \n",
       "266  Gravity.Falls.S01E12.Summerween.720p.WEB-DL.AAC2.0.H264-Reaperza  A2     \n",
       "130                                Spirit.Stallion.of.the.Cimarron.EN  B1     \n",
       "23                                                     Clueless(1995)  B1     \n",
       "\n",
       "    Subtitles                                                                                             \\\n",
       "304  the hour the first day october this was unusual only the fact that none these women had been pre...   \n",
       "220  and you got your name the wall now want the respect that comes with meaning want one harvey clie...   \n",
       "266  here are the summerween superstore wait summer what summerween the people this town love hallowe...   \n",
       "130  spirit stallion the cimarron the story want tell you can not found book they say the history the...   \n",
       "23   okay you probably going this noxzema commercial what but seriously actually have way normal life...   \n",
       "\n",
       "     A1_sum_%  A1_unq_%  A2_sum_%  A2_unq_%  B1_sum_%  B1_unq_%  B2_sum_%  \\\n",
       "304 0.626     0.436     0.131     0.212     0.121     0.146     0.082       \n",
       "220 0.662     0.405     0.117     0.240     0.104     0.131     0.086       \n",
       "266 0.603     0.466     0.141     0.222     0.146     0.140     0.081       \n",
       "130 0.617     0.470     0.151     0.211     0.123     0.140     0.086       \n",
       "23  0.633     0.380     0.135     0.201     0.119     0.166     0.084       \n",
       "\n",
       "     B2_unq_%  C1_sum_%  C1_unq_%  \n",
       "304 0.148     0.040     0.058      \n",
       "220 0.175     0.031     0.048      \n",
       "266 0.146     0.028     0.026      \n",
       "130 0.143     0.023     0.036      \n",
       "23  0.185     0.029     0.068      "
      ]
     },
     "execution_count": 153,
     "metadata": {},
     "output_type": "execute_result"
    }
   ],
   "source": [
    "data.sample(5)"
   ]
  }
 ],
 "metadata": {
  "kernelspec": {
   "display_name": "Python 3 (ipykernel)",
   "language": "python",
   "name": "python3"
  },
  "language_info": {
   "codemirror_mode": {
    "name": "ipython",
    "version": 3
   },
   "file_extension": ".py",
   "mimetype": "text/x-python",
   "name": "python",
   "nbconvert_exporter": "python",
   "pygments_lexer": "ipython3",
   "version": "3.8.13"
  },
  "nbTranslate": {
   "displayLangs": [
    "en",
    "ru"
   ],
   "hotkey": "alt-t",
   "langInMainMenu": false,
   "sourceLang": "ru",
   "targetLang": "en",
   "useGoogleTranslate": true
  },
  "toc": {
   "base_numbering": "0",
   "nav_menu": {},
   "number_sections": true,
   "sideBar": true,
   "skip_h1_title": true,
   "title_cell": "Contents",
   "title_sidebar": "Contents",
   "toc_cell": false,
   "toc_position": {
    "height": "calc(100% - 180px)",
    "left": "10px",
    "top": "150px",
    "width": "204.9px"
   },
   "toc_section_display": true,
   "toc_window_display": true
  },
  "vscode": {
   "interpreter": {
    "hash": "2f9d6cf1e3d8195079a65c851de355134a77367bcd714b1a5d498c42d3c07114"
   }
  }
 },
 "nbformat": 4,
 "nbformat_minor": 5
}
