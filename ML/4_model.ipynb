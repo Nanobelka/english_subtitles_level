{
 "cells": [
  {
   "cell_type": "markdown",
   "id": "0f19e804",
   "metadata": {},
   "source": [
    "# English Subtitles Level Prediction\n",
    "\n",
    "# Выбор модели\n",
    "\n",
    "---\n",
    "\n",
    "**Входные данные**\n",
    "\n",
    "Таблица, содержащая:  \n",
    "- названия фильмов;\n",
    "- рейтинг, выставленный экспертом;\n",
    "- текстовое поле, содержащее слова из субтитров.\n",
    "\n",
    "---\n",
    "\n",
    "**Цель**\n",
    "\n",
    "Создать модель, предсказывающую уровень сложности английского языка по CEFR.\n",
    "\n",
    "---\n",
    "\n",
    "**Задачи:**  \n",
    "\n",
    "- выбрать метрику для оптимизации гиперпараметров модели;\n",
    "- построить пайплайн с использованием TfidfVectorizer();  \n",
    "- учесть в пайплайне возможность обработки дополнительных числовых признаков;\n",
    "- построить несколько различных моделей;\n",
    "- разработать комплексную метрику для оценки модели;\n",
    "- выбрать лучшую модель;\n",
    "- оценить качество моделей по дополнительным метрикам;\n",
    "- сделать контрольную проверку на тестовой выборке;\n",
    "- сохранить модель для использования в приложении."
   ]
  },
  {
   "cell_type": "markdown",
   "id": "3746aaaf",
   "metadata": {
    "toc": true
   },
   "source": [
    "<h1>Contents<span class=\"tocSkip\"></span></h1>\n",
    "<div class=\"toc\"><ul class=\"toc-item\"><li><span><a href=\"#Intro\" data-toc-modified-id=\"Intro-0\"><span class=\"toc-item-num\">0&nbsp;&nbsp;</span>Intro</a></span></li><li><span><a href=\"#Initial\" data-toc-modified-id=\"Initial-1\"><span class=\"toc-item-num\">1&nbsp;&nbsp;</span>Initial</a></span><ul class=\"toc-item\"><li><span><a href=\"#Imports\" data-toc-modified-id=\"Imports-1.1\"><span class=\"toc-item-num\">1.1&nbsp;&nbsp;</span>Imports</a></span></li><li><span><a href=\"#Constants\" data-toc-modified-id=\"Constants-1.2\"><span class=\"toc-item-num\">1.2&nbsp;&nbsp;</span>Constants</a></span></li><li><span><a href=\"#Functions\" data-toc-modified-id=\"Functions-1.3\"><span class=\"toc-item-num\">1.3&nbsp;&nbsp;</span>Functions</a></span></li><li><span><a href=\"#Settings\" data-toc-modified-id=\"Settings-1.4\"><span class=\"toc-item-num\">1.4&nbsp;&nbsp;</span>Settings</a></span></li></ul></li><li><span><a href=\"#Read-and-Check-data\" data-toc-modified-id=\"Read-and-Check-data-2\"><span class=\"toc-item-num\">2&nbsp;&nbsp;</span>Read and Check data</a></span><ul class=\"toc-item\"><li><span><a href=\"#Read-data\" data-toc-modified-id=\"Read-data-2.1\"><span class=\"toc-item-num\">2.1&nbsp;&nbsp;</span>Read data</a></span></li></ul></li><li><span><a href=\"#Model\" data-toc-modified-id=\"Model-3\"><span class=\"toc-item-num\">3&nbsp;&nbsp;</span>Model</a></span><ul class=\"toc-item\"><li><span><a href=\"#Выбор-метрики-для-оптимизации\" data-toc-modified-id=\"Выбор-метрики-для-оптимизации-3.1\"><span class=\"toc-item-num\">3.1&nbsp;&nbsp;</span>Выбор метрики для оптимизации</a></span></li><li><span><a href=\"#Подготовка-данных\" data-toc-modified-id=\"Подготовка-данных-3.2\"><span class=\"toc-item-num\">3.2&nbsp;&nbsp;</span>Подготовка данных</a></span><ul class=\"toc-item\"><li><span><a href=\"#Выделение-признаков-и-целевой-переменной\" data-toc-modified-id=\"Выделение-признаков-и-целевой-переменной-3.2.1\"><span class=\"toc-item-num\">3.2.1&nbsp;&nbsp;</span>Выделение признаков и целевой переменной</a></span></li><li><span><a href=\"#Разделение-на-обучающую-и-валидационную-выборки\" data-toc-modified-id=\"Разделение-на-обучающую-и-валидационную-выборки-3.2.2\"><span class=\"toc-item-num\">3.2.2&nbsp;&nbsp;</span>Разделение на обучающую и валидационную выборки</a></span></li></ul></li><li><span><a href=\"#Preprocessing\" data-toc-modified-id=\"Preprocessing-3.3\"><span class=\"toc-item-num\">3.3&nbsp;&nbsp;</span>Preprocessing</a></span><ul class=\"toc-item\"><li><span><a href=\"#Селекторы-числовых-и-категориальных-признаков\" data-toc-modified-id=\"Селекторы-числовых-и-категориальных-признаков-3.3.1\"><span class=\"toc-item-num\">3.3.1&nbsp;&nbsp;</span>Селекторы числовых и категориальных признаков</a></span></li><li><span><a href=\"#Предбработка-числовых-признаков\" data-toc-modified-id=\"Предбработка-числовых-признаков-3.3.2\"><span class=\"toc-item-num\">3.3.2&nbsp;&nbsp;</span>Предбработка числовых признаков</a></span></li><li><span><a href=\"#Предбработка-категориальных-признаков\" data-toc-modified-id=\"Предбработка-категориальных-признаков-3.3.3\"><span class=\"toc-item-num\">3.3.3&nbsp;&nbsp;</span>Предбработка категориальных признаков</a></span></li><li><span><a href=\"#Объединение-предобработки-числовых-и-категориальных-признаков\" data-toc-modified-id=\"Объединение-предобработки-числовых-и-категориальных-признаков-3.3.4\"><span class=\"toc-item-num\">3.3.4&nbsp;&nbsp;</span>Объединение предобработки числовых и категориальных признаков</a></span></li><li><span><a href=\"#Pipelines'-table\" data-toc-modified-id=\"Pipelines'-table-3.3.5\"><span class=\"toc-item-num\">3.3.5&nbsp;&nbsp;</span>Pipelines' table</a></span></li></ul></li><li><span><a href=\"#Подбор-гиперпараметров\" data-toc-modified-id=\"Подбор-гиперпараметров-3.4\"><span class=\"toc-item-num\">3.4&nbsp;&nbsp;</span>Подбор гиперпараметров</a></span><ul class=\"toc-item\"><li><span><a href=\"#Objective-functions-для-Optuna\" data-toc-modified-id=\"Objective-functions-для-Optuna-3.4.1\"><span class=\"toc-item-num\">3.4.1&nbsp;&nbsp;</span>Objective functions для Optuna</a></span></li><li><span><a href=\"#Optuna-call\" data-toc-modified-id=\"Optuna-call-3.4.2\"><span class=\"toc-item-num\">3.4.2&nbsp;&nbsp;</span>Optuna call</a></span></li><li><span><a href=\"#Визуализация-результатов-подбора-гиперпараметров\" data-toc-modified-id=\"Визуализация-результатов-подбора-гиперпараметров-3.4.3\"><span class=\"toc-item-num\">3.4.3&nbsp;&nbsp;</span>Визуализация результатов подбора гиперпараметров</a></span></li></ul></li></ul></li><li><span><a href=\"#Анализ-моделей\" data-toc-modified-id=\"Анализ-моделей-4\"><span class=\"toc-item-num\">4&nbsp;&nbsp;</span>Анализ моделей</a></span><ul class=\"toc-item\"><li><span><a href=\"#Расчет-параметров-для-оценки-модели\" data-toc-modified-id=\"Расчет-параметров-для-оценки-модели-4.1\"><span class=\"toc-item-num\">4.1&nbsp;&nbsp;</span>Расчет параметров для оценки модели</a></span><ul class=\"toc-item\"><li><span><a href=\"#Время-обучения-модели\" data-toc-modified-id=\"Время-обучения-модели-4.1.1\"><span class=\"toc-item-num\">4.1.1&nbsp;&nbsp;</span>Время обучения модели</a></span></li><li><span><a href=\"#Время-предсказания-модели\" data-toc-modified-id=\"Время-предсказания-модели-4.1.2\"><span class=\"toc-item-num\">4.1.2&nbsp;&nbsp;</span>Время предсказания модели</a></span></li><li><span><a href=\"#Kачество-предсказания-модели\" data-toc-modified-id=\"Kачество-предсказания-модели-4.1.3\"><span class=\"toc-item-num\">4.1.3&nbsp;&nbsp;</span>Kачество предсказания модели</a></span></li><li><span><a href=\"#Комплексная-метрика-модели\" data-toc-modified-id=\"Комплексная-метрика-модели-4.1.4\"><span class=\"toc-item-num\">4.1.4&nbsp;&nbsp;</span>Комплексная метрика модели</a></span></li><li><span><a href=\"#Additional-metrics\" data-toc-modified-id=\"Additional-metrics-4.1.5\"><span class=\"toc-item-num\">4.1.5&nbsp;&nbsp;</span>Additional metrics</a></span></li></ul></li><li><span><a href=\"#ConfusionMatrixDisplay\" data-toc-modified-id=\"ConfusionMatrixDisplay-4.2\"><span class=\"toc-item-num\">4.2&nbsp;&nbsp;</span>ConfusionMatrixDisplay</a></span></li><li><span><a href=\"#Выбор-лучшей-модели\" data-toc-modified-id=\"Выбор-лучшей-модели-4.3\"><span class=\"toc-item-num\">4.3&nbsp;&nbsp;</span>Выбор лучшей модели</a></span></li><li><span><a href=\"#Save-best-model-dump\" data-toc-modified-id=\"Save-best-model-dump-4.4\"><span class=\"toc-item-num\">4.4&nbsp;&nbsp;</span>Save best model dump</a></span></li></ul></li><li><span><a href=\"#Вывод\" data-toc-modified-id=\"Вывод-5\"><span class=\"toc-item-num\">5&nbsp;&nbsp;</span>Вывод</a></span><ul class=\"toc-item\"><li><span><a href=\"#Краткий-обзор-проделанной-работы\" data-toc-modified-id=\"Краткий-обзор-проделанной-работы-5.1\"><span class=\"toc-item-num\">5.1&nbsp;&nbsp;</span>Краткий обзор проделанной работы</a></span></li><li><span><a href=\"#Подготовка-данных\" data-toc-modified-id=\"Подготовка-данных-5.2\"><span class=\"toc-item-num\">5.2&nbsp;&nbsp;</span>Подготовка данных</a></span></li><li><span><a href=\"#Baseline\" data-toc-modified-id=\"Baseline-5.3\"><span class=\"toc-item-num\">5.3&nbsp;&nbsp;</span>Baseline</a></span></li><li><span><a href=\"#Моделирование\" data-toc-modified-id=\"Моделирование-5.4\"><span class=\"toc-item-num\">5.4&nbsp;&nbsp;</span>Моделирование</a></span></li><li><span><a href=\"#Факторы,-влияющие-на-качество-модели\" data-toc-modified-id=\"Факторы,-влияющие-на-качество-модели-5.5\"><span class=\"toc-item-num\">5.5&nbsp;&nbsp;</span>Факторы, влияющие на качество модели</a></span></li><li><span><a href=\"#Онлайн-приложение\" data-toc-modified-id=\"Онлайн-приложение-5.6\"><span class=\"toc-item-num\">5.6&nbsp;&nbsp;</span>Онлайн-приложение</a></span></li><li><span><a href=\"#Перспективы\" data-toc-modified-id=\"Перспективы-5.7\"><span class=\"toc-item-num\">5.7&nbsp;&nbsp;</span>Перспективы</a></span></li><li><span><a href=\"#Итого\" data-toc-modified-id=\"Итого-5.8\"><span class=\"toc-item-num\">5.8&nbsp;&nbsp;</span>Итого</a></span></li></ul></li></ul></div>"
   ]
  },
  {
   "cell_type": "markdown",
   "id": "a5d94030",
   "metadata": {},
   "source": [
    "---"
   ]
  },
  {
   "cell_type": "markdown",
   "id": "782fee2d",
   "metadata": {
    "tags": []
   },
   "source": [
    "## Intro"
   ]
  },
  {
   "cell_type": "markdown",
   "id": "64d3b239",
   "metadata": {},
   "source": [
    "**Some explanations**\n",
    "\n",
    "Permanent data tables named like: **data**.  \n",
    "Temporary data tables named like: **df**.  \n",
    "\n",
    "The code of the cells are as independent as possible from each other in order to freely manipulate the cells.\n",
    "\n",
    "Intermediate conclusions are highlighted as follows:\n",
    "\n",
    "> Intermediate conclusion."
   ]
  },
  {
   "cell_type": "markdown",
   "id": "ae7325b3",
   "metadata": {},
   "source": [
    "---"
   ]
  },
  {
   "cell_type": "markdown",
   "id": "bb9072f2",
   "metadata": {
    "tags": []
   },
   "source": [
    "## Initial"
   ]
  },
  {
   "cell_type": "markdown",
   "id": "f5cef155",
   "metadata": {},
   "source": [
    "### Imports"
   ]
  },
  {
   "cell_type": "code",
   "execution_count": 932,
   "id": "9c0bf8a2",
   "metadata": {},
   "outputs": [],
   "source": [
    "import pandas as pd\n",
    "import numpy as np\n",
    "\n",
    "import os\n",
    "import json\n",
    "import warnings\n",
    "import joblib\n",
    "from datetime import date, time, datetime\n",
    "from time import time\n",
    "\n",
    "import matplotlib.pyplot as plt\n",
    "import seaborn as sns\n",
    "from matplotlib.colors import LinearSegmentedColormap\n",
    "import plotly.graph_objects as go\n",
    "import plotly.io as pio\n",
    "\n",
    "from sklearn.base import BaseEstimator, TransformerMixin\n",
    "from sklearn.feature_extraction.text import TfidfVectorizer\n",
    "\n",
    "from sklearn.compose import ColumnTransformer, make_column_transformer, make_column_selector\n",
    "from sklearn.preprocessing import StandardScaler, OrdinalEncoder, OneHotEncoder, SplineTransformer, FunctionTransformer\n",
    "from sklearn.experimental import enable_iterative_imputer\n",
    "from sklearn.impute import IterativeImputer\n",
    "\n",
    "from sklearn.model_selection import train_test_split, cross_val_score, StratifiedKFold\n",
    "from sklearn.pipeline import Pipeline, make_pipeline, FeatureUnion\n",
    "\n",
    "from nltk.corpus import stopwords\n",
    "\n",
    "from sklearn.dummy import DummyClassifier\n",
    "from sklearn.linear_model import RidgeClassifier, SGDClassifier\n",
    "from sklearn.svm import LinearSVC\n",
    "\n",
    "from sklearn.metrics import f1_score, ConfusionMatrixDisplay\n",
    "\n",
    "import optuna\n",
    "from optuna.distributions import FloatDistribution, IntDistribution, CategoricalDistribution"
   ]
  },
  {
   "cell_type": "markdown",
   "id": "7c9327a4",
   "metadata": {},
   "source": [
    "### Constants"
   ]
  },
  {
   "cell_type": "code",
   "execution_count": 933,
   "id": "13e07bee",
   "metadata": {},
   "outputs": [],
   "source": [
    "PATH_LOCAL = 'datasets/'                               # local path to data\n",
    "PATH_REMOTE = '/datasets/'                             # remote path to data\n",
    "\n",
    "CR = '\\n'                                              # new line\n",
    "\n",
    "TARGET = 'Level'                                       # target name\n",
    "SCORING = 'f1_weighted'                                # target metric\n",
    "VALID_FRAC = 0.2                                       # delayed sampling fraction\n",
    "N_CV = 10                                              # number of folds during cross-validation\n",
    "\n",
    "N_TRIALS = 50                                          # max of tries when Optuna optimization run\n",
    "TIMEOUT = 600                                          # max time when Optuna optimization run\n",
    "RANDOM_STATE = RANDOM_SEED = RS = 888                  # random_state"
   ]
  },
  {
   "cell_type": "code",
   "execution_count": 934,
   "id": "ffc51fe4",
   "metadata": {},
   "outputs": [],
   "source": [
    "ESTIMATOR_LIST = [                                     # estimators list (comment/uncomment estimator to skip/use)\n",
    "                  'DummyClassifier',\n",
    "                  'RidgeClassifier',\n",
    "                  'SGDClassifier',\n",
    "                  'LinearSVC',\n",
    "                 ]"
   ]
  },
  {
   "cell_type": "markdown",
   "id": "c3161820",
   "metadata": {},
   "source": [
    "### Functions"
   ]
  },
  {
   "cell_type": "code",
   "execution_count": 935,
   "id": "a8068b9c",
   "metadata": {},
   "outputs": [],
   "source": [
    "def custom_read_csv(file_name, separator=','):\n",
    "    \"\"\"\n",
    "    reading dataset of .csv format:\n",
    "       first from local storage;\n",
    "       if unsuccessful from remote storage.\n",
    "    \"\"\"\n",
    "\n",
    "    path_local = f'{PATH_LOCAL}{file_name}'\n",
    "    path_remote = f'{PATH_REMOTE}{file_name}'\n",
    "    \n",
    "    if os.path.exists(path_local):\n",
    "        return pd.read_csv(path_local, sep=separator)\n",
    "\n",
    "    elif os.path.exists(path_remote):\n",
    "        return pd.read_csv(path_remote, sep=separator)\n",
    "\n",
    "    else:\n",
    "        print(f'File \"{file_name}\" not found at the specified path ')"
   ]
  },
  {
   "cell_type": "code",
   "execution_count": 936,
   "id": "6bc6110a",
   "metadata": {},
   "outputs": [],
   "source": [
    "def var_name(var):\n",
    "    \"\"\"\n",
    "    var name determination\n",
    "    \"\"\"\n",
    "    return [name for name in globals() if globals()[name] is var][0]"
   ]
  },
  {
   "cell_type": "code",
   "execution_count": 937,
   "id": "6de89763",
   "metadata": {},
   "outputs": [],
   "source": [
    "def plot_Optuna(study, plot_kind='plot_slice', model_name=''):\n",
    "    '''\n",
    "    Дополнительная настройка оригинальных графиков Optuna.\n",
    "    Например, на графике `plot_slice` изначально цвет точек зависел от номера итерации.\n",
    "    Теперь они все одинакового цвета и полупрозрачные, лучше видны скопления точек.\n",
    "    \n",
    "    study: обученный объект класса OptunaSearchCV\n",
    "    plot_kind: тип графика Optuna\n",
    "    model_name: название модели\n",
    "    '''\n",
    "    \n",
    "    if plot_kind == 'plot_slice':\n",
    "        fig = optuna.visualization.plot_slice(study)\n",
    "        fig.update_traces(\n",
    "                          marker_color='Darkgrey',\n",
    "                          marker_size=3,\n",
    "                          marker_opacity=0.2,\n",
    "                          marker_line_width=1,\n",
    "                          marker_line_color='Black',\n",
    "                         )\n",
    "    \n",
    "    elif plot_kind == 'plot_param_importances':\n",
    "        fig = optuna.visualization.plot_param_importances(study)\n",
    "        \n",
    "    elif plot_kind == 'plot_optimization_history':\n",
    "        fig = optuna.visualization.plot_optimization_history(study)\n",
    "        fig.update_traces(\n",
    "                          marker_size=5,\n",
    "                          marker_opacity=0.3,\n",
    "                          marker_line_width=1,\n",
    "                          marker_line_color='Black',\n",
    "                         )\n",
    "\n",
    "    fig.update_layout(\n",
    "                      title_text=model_name,\n",
    "                      title_x=0,\n",
    "                      font_size=10,\n",
    "                     )    \n",
    "    fig.show()"
   ]
  },
  {
   "cell_type": "code",
   "execution_count": 938,
   "id": "8870df5a",
   "metadata": {},
   "outputs": [],
   "source": [
    "def add_model_metrics(models, X_train, Y_train, X_valid, Y_valid, cv=N_CV, scoring_list=['f1'], verbose=True):\n",
    "    '''\n",
    "    Принимает:\n",
    "        датафрейм со списком моделей и их характеристиками;\n",
    "        два датасета (features and target) – обучающую и валидационную выборки;\n",
    "        параметр cv для cross_val_score;\n",
    "        список метрик\n",
    "        \n",
    "    Для каждой модели в датафрейме добавляет указанные метрики для обоих датасетов.\n",
    "    '''\n",
    "\n",
    "    def cv_score(model, X, Y, scoring, cv):\n",
    "        invert_koeff = -1 if scoring.split('_')[0] == 'neg' else 1   # инвертирование метрик с приставкой \"neg_\"\n",
    "        return invert_koeff * cross_val_score(model, X, Y, scoring=scoring, cv=cv, n_jobs=-1).mean()\n",
    "    \n",
    "    if verbose: print(f'Performing cross_val_score with cv={N_CV} and scoring_list={scoring_list}:')\n",
    "    \n",
    "    for scoring in scoring_list:\n",
    "    \n",
    "        # результаты моделей на обучающей выборке (усреднение на кроссвалидации)\n",
    "        if verbose: print(f'{scoring}_train...', end=' ')\n",
    "        models[f'{scoring}_train'] = models.model.apply(cv_score, args=(X_train, Y_train, scoring, cv))\n",
    "        if verbose: print('done')\n",
    "\n",
    "        # результаты моделей на тестовой выборке (усреднение на кроссвалидации)\n",
    "        if verbose: print(f'{scoring}_test...', end=' ')\n",
    "        models[f'{scoring}_test'] = models.model.apply(cv_score , args=(X_valid, Y_valid, scoring, cv))\n",
    "        if verbose: print('done')\n",
    "    \n",
    "    # оптимальные гиперпараметры\n",
    "    models['best_params'] = models.study.apply(lambda model: model.best_params)\n",
    "    \n",
    "    return models"
   ]
  },
  {
   "cell_type": "code",
   "execution_count": 939,
   "id": "d14bb955",
   "metadata": {},
   "outputs": [],
   "source": [
    "def extract_final_features(pipeline_model):\n",
    "    '''\n",
    "    Принимает пайплайн.\n",
    "    Возвращает список признаков, на которых обучается финальный estimator пайплайна.\n",
    "    '''\n",
    "    feature_list = []\n",
    "    \n",
    "    for feature in pipeline_model.steps[-2][1].get_feature_names_out():\n",
    "        feature_list.append(feature.split('__')[1])\n",
    "\n",
    "    return feature_list"
   ]
  },
  {
   "cell_type": "markdown",
   "id": "f4825471",
   "metadata": {},
   "source": [
    "### Settings"
   ]
  },
  {
   "cell_type": "code",
   "execution_count": 940,
   "id": "604a0591",
   "metadata": {},
   "outputs": [],
   "source": [
    "# text styles\n",
    "class f:\n",
    "    BOLD = \"\\033[1m\"\n",
    "    ITALIC = \"\\033[3m\"\n",
    "    END = \"\\033[0m\""
   ]
  },
  {
   "cell_type": "code",
   "execution_count": 941,
   "id": "67297223",
   "metadata": {},
   "outputs": [],
   "source": [
    "# defaults for charts\n",
    "\n",
    "# Matplotlib, Seaborn\n",
    "PLOT_DPI = 150  # dpi for charts rendering \n",
    "sns.set_style('whitegrid', {'axes.facecolor': '0.98', 'grid.color': '0.9', 'axes.edgecolor': '1.0'})\n",
    "plt.rc(\n",
    "       'axes',\n",
    "       labelweight='bold',\n",
    "       titlesize=16,\n",
    "       titlepad=10,\n",
    "      )\n",
    "\n",
    "# Plotly Graph_Objects\n",
    "pio.templates['my_theme'] = go.layout.Template(\n",
    "                                               layout_autosize=True,\n",
    "                                               # width=900,\n",
    "                                               layout_height=200,\n",
    "                                               layout_legend_orientation=\"h\",\n",
    "                                               layout_margin=dict(t=40, b=40),         # (l=0, r=0, b=0, t=0, pad=0)\n",
    "                                               layout_template='seaborn',\n",
    "                                              )\n",
    "pio.templates.default = 'my_theme'\n",
    "\n",
    "# colors, color schemes\n",
    "CMAP_SYMMETRIC = LinearSegmentedColormap.from_list('', ['steelblue', 'aliceblue', 'steelblue'])"
   ]
  },
  {
   "cell_type": "code",
   "execution_count": 942,
   "id": "705dd986",
   "metadata": {},
   "outputs": [],
   "source": [
    "# Pandas defaults\n",
    "pd.options.display.max_colwidth = 100\n",
    "pd.options.display.max_rows = 500\n",
    "pd.options.display.max_columns = 100\n",
    "pd.options.display.float_format = '{:.3f}'.format\n",
    "pd.options.display.colheader_justify = 'left'"
   ]
  },
  {
   "cell_type": "code",
   "execution_count": 943,
   "id": "2a44035b",
   "metadata": {},
   "outputs": [],
   "source": [
    "# оформление Optuna\n",
    "optuna.logging.set_verbosity(optuna.logging.WARNING)  # отключение вывода логов при работе optuna"
   ]
  },
  {
   "cell_type": "code",
   "execution_count": 944,
   "id": "a0d24efb",
   "metadata": {},
   "outputs": [],
   "source": [
    "# others\n",
    "warnings.filterwarnings('ignore')"
   ]
  },
  {
   "cell_type": "markdown",
   "id": "d6e7da7a",
   "metadata": {},
   "source": [
    "---"
   ]
  },
  {
   "cell_type": "markdown",
   "id": "30757a9f",
   "metadata": {},
   "source": [
    "## Read and Check data"
   ]
  },
  {
   "cell_type": "markdown",
   "id": "52961e98",
   "metadata": {},
   "source": [
    "### Read data"
   ]
  },
  {
   "cell_type": "code",
   "execution_count": 945,
   "id": "4faefdb1",
   "metadata": {},
   "outputs": [],
   "source": [
    "data = custom_read_csv('EDA_movies_subtitles.csv')"
   ]
  },
  {
   "cell_type": "code",
   "execution_count": 946,
   "id": "76d36093",
   "metadata": {},
   "outputs": [
    {
     "data": {
      "text/html": [
       "<div>\n",
       "<style scoped>\n",
       "    .dataframe tbody tr th:only-of-type {\n",
       "        vertical-align: middle;\n",
       "    }\n",
       "\n",
       "    .dataframe tbody tr th {\n",
       "        vertical-align: top;\n",
       "    }\n",
       "\n",
       "    .dataframe thead th {\n",
       "        text-align: right;\n",
       "    }\n",
       "</style>\n",
       "<table border=\"1\" class=\"dataframe\">\n",
       "  <thead>\n",
       "    <tr style=\"text-align: left;\">\n",
       "      <th></th>\n",
       "      <th>Movie</th>\n",
       "      <th>Level</th>\n",
       "      <th>Subtitles</th>\n",
       "    </tr>\n",
       "  </thead>\n",
       "  <tbody>\n",
       "    <tr>\n",
       "      <th>132</th>\n",
       "      <td>Valentine's.Day.2010.Subtitles.YIFY</td>\n",
       "      <td>B1</td>\n",
       "      <td>hey there all you sleepy angelenos good good morning you your buddy romeo midnight know the voic...</td>\n",
       "    </tr>\n",
       "  </tbody>\n",
       "</table>\n",
       "</div>"
      ],
      "text/plain": [
       "    Movie                                Level  \\\n",
       "132  Valentine's.Day.2010.Subtitles.YIFY  B1     \n",
       "\n",
       "    Subtitles                                                                                             \n",
       "132  hey there all you sleepy angelenos good good morning you your buddy romeo midnight know the voic...  "
      ]
     },
     "execution_count": 946,
     "metadata": {},
     "output_type": "execute_result"
    }
   ],
   "source": [
    "data.sample()"
   ]
  },
  {
   "cell_type": "code",
   "execution_count": 947,
   "id": "ad9a46c9",
   "metadata": {},
   "outputs": [
    {
     "name": "stdout",
     "output_type": "stream",
     "text": [
      "<class 'pandas.core.frame.DataFrame'>\n",
      "RangeIndex: 347 entries, 0 to 346\n",
      "Data columns (total 3 columns):\n",
      " #   Column     Non-Null Count  Dtype \n",
      "---  ------     --------------  ----- \n",
      " 0   Movie      347 non-null    object\n",
      " 1   Level      347 non-null    object\n",
      " 2   Subtitles  347 non-null    object\n",
      "dtypes: object(3)\n",
      "memory usage: 8.3+ KB\n"
     ]
    }
   ],
   "source": [
    "data.info()"
   ]
  },
  {
   "cell_type": "markdown",
   "id": "e5d598d7",
   "metadata": {},
   "source": [
    "---"
   ]
  },
  {
   "cell_type": "markdown",
   "id": "d76821ed",
   "metadata": {},
   "source": [
    "## Model"
   ]
  },
  {
   "cell_type": "markdown",
   "id": "fcd2c6b7",
   "metadata": {},
   "source": [
    "### Выбор метрики для оптимизации"
   ]
  },
  {
   "cell_type": "markdown",
   "id": "167cd62f",
   "metadata": {},
   "source": [
    "> Входной набор данных имеет 2 существенные проблемы:  \n",
    "> - небольшое количество наблюдений, особенно с учетом задачи многоклассовой классификации;  \n",
    "> - несбалансированность классов.\n",
    "\n",
    "> Исходя из задачи классификации, подходящей метрикой могла быть стать F1-macro. Но в таком случае модель будет более чувствительна к ошибкам в малочисленных классах. А в силу небольшого обучающего датасета, такие ошибки очень вероятны.\n",
    ">\n",
    "> В качестве метрики для оптимизации выберем F1-weighted. Она даст более адекватную оценку модели. А в качестве вспомогательных метрик будем использовать F1-macro и F1-micro.\n",
    "\n",
    "> Для повышения качества модели необходимо расширять обучающий датасет, особенно в малочисленных классах."
   ]
  },
  {
   "cell_type": "markdown",
   "id": "ff277683",
   "metadata": {},
   "source": [
    "### Подготовка данных"
   ]
  },
  {
   "cell_type": "markdown",
   "id": "b2587c9f",
   "metadata": {},
   "source": [
    "#### Выделение признаков и целевой переменной"
   ]
  },
  {
   "cell_type": "code",
   "execution_count": 948,
   "id": "174d91a1",
   "metadata": {},
   "outputs": [
    {
     "data": {
      "text/plain": [
       "((347, 1), (347,))"
      ]
     },
     "execution_count": 948,
     "metadata": {},
     "output_type": "execute_result"
    }
   ],
   "source": [
    "X = data.drop([TARGET, 'Movie'], axis=1)\n",
    "Y = data[TARGET]\n",
    "\n",
    "X.shape, Y.shape"
   ]
  },
  {
   "cell_type": "markdown",
   "id": "0e43339d",
   "metadata": {},
   "source": [
    "#### Разделение на обучающую и валидационную выборки\n",
    "\n",
    "Валидационная выборка – часть, отрезанная от train, для локального тестирования модели."
   ]
  },
  {
   "cell_type": "markdown",
   "id": "478d7a34",
   "metadata": {},
   "source": [
    "*Примечание: если VALID_FRAC <= 0 для подбора гиперпараметров используется вся обучающая выборка (X, Y). Валидационная выборка в этом случае также равна (X, Y). Создание валидационной выборки в этом случае — лишь формальность (заглушка), и результаты валидации не следует интерпретировать никак.*"
   ]
  },
  {
   "cell_type": "code",
   "execution_count": 949,
   "id": "8d39c6f6",
   "metadata": {},
   "outputs": [
    {
     "data": {
      "text/plain": [
       "((277, 1), (277,), (70, 1), (70,))"
      ]
     },
     "execution_count": 949,
     "metadata": {},
     "output_type": "execute_result"
    }
   ],
   "source": [
    "if VALID_FRAC > 0 :\n",
    "    X_train, X_valid, Y_train, Y_valid = train_test_split(X, Y, test_size=VALID_FRAC, stratify=Y, random_state=RS)\n",
    "else:\n",
    "    X_train, X_valid, Y_train, Y_valid = X, X, Y, Y\n",
    "\n",
    "X_train.shape, Y_train.shape, X_valid.shape, Y_valid.shape"
   ]
  },
  {
   "cell_type": "markdown",
   "id": "391c661e",
   "metadata": {},
   "source": [
    "### Preprocessing"
   ]
  },
  {
   "cell_type": "code",
   "execution_count": 950,
   "id": "e123539e",
   "metadata": {},
   "outputs": [],
   "source": [
    "class TextSelector(BaseEstimator, TransformerMixin):\n",
    "    '''\n",
    "    Позволяет выбрать указанный признак для последующей обработки\n",
    "    '''\n",
    "    def __init__(self, field):\n",
    "        self.field = field\n",
    "    def fit(self, X, Y=None):\n",
    "        return self\n",
    "    def transform(self, X):\n",
    "        return X[self.field]"
   ]
  },
  {
   "cell_type": "code",
   "execution_count": 951,
   "id": "4c687559",
   "metadata": {},
   "outputs": [],
   "source": [
    "# # запустить пока не удалось\n",
    "\n",
    "# import nltk\n",
    "\n",
    "# # Скачивание нужных ресурсов для NLTK\n",
    "# nltk.download('punkt')\n",
    "# nltk.download('wordnet')\n",
    "\n",
    "# # Определяем наш пользовательский токенизатор, использующий WordNetLemmatizer для лемматизации слов\n",
    "# class LemmaTokenizer:\n",
    "#     def __init__(self):\n",
    "#         self.lemmatizer = nltk.stem.WordNetLemmatizer()\n",
    "#     def __call__(self, doc):\n",
    "#         # Разбиение на слова\n",
    "#         words = nltk.word_tokenize(doc)\n",
    "#         # Лемматизация слов\n",
    "#         lemmatized_words = [self.lemmatizer.lemmatize(w) for w in words]\n",
    "#         return lemmatized_words"
   ]
  },
  {
   "cell_type": "markdown",
   "id": "482094b7",
   "metadata": {},
   "source": [
    "#### Селекторы числовых и категориальных признаков"
   ]
  },
  {
   "cell_type": "code",
   "execution_count": 952,
   "id": "7d6a0aa7",
   "metadata": {},
   "outputs": [],
   "source": [
    "num_selector = make_column_selector(dtype_include=np.number)\n",
    "cat_selector = make_column_selector(dtype_exclude=np.number)"
   ]
  },
  {
   "cell_type": "markdown",
   "id": "61b7adc6",
   "metadata": {},
   "source": [
    "#### Предбработка числовых признаков"
   ]
  },
  {
   "cell_type": "code",
   "execution_count": 953,
   "id": "27f4cc7e",
   "metadata": {},
   "outputs": [],
   "source": [
    "num_preprocessor = make_pipeline(\n",
    "                                 IterativeImputer(initial_strategy='mean', random_state=RS),\n",
    "                                 StandardScaler(),\n",
    "                                )\n",
    "\n",
    "num_transformer = make_column_transformer(\n",
    "                                          (num_preprocessor, num_selector),\n",
    "                                          remainder='drop'\n",
    "                                         )"
   ]
  },
  {
   "cell_type": "markdown",
   "id": "da29dc4c",
   "metadata": {},
   "source": [
    "#### Предбработка категориальных признаков\n",
    "\n",
    "Категориальный признак только один – содержащий субтитры. По крайней мере, пока."
   ]
  },
  {
   "cell_type": "code",
   "execution_count": 954,
   "id": "e133aafc",
   "metadata": {},
   "outputs": [],
   "source": [
    "# stopwords_english = list(set(stopwords.words('english')))\n",
    "\n",
    "stopwords_english_exclamation = custom_read_csv('stopwords_exclamation.csv')['words'].to_list()\n",
    "\n",
    "stopwords_english.extend(stopwords_english_exclamation)      # к стандартным стоп-словам добавлены восклицания и междометья"
   ]
  },
  {
   "cell_type": "code",
   "execution_count": 955,
   "id": "e1aebf37",
   "metadata": {},
   "outputs": [],
   "source": [
    "text_transformer = Pipeline([\n",
    "#                               ('TEXT_SELECT', FunctionTransformer(lambda X: X['Subtitles'])),  # не позволяет сохранить модель\n",
    "                              ('TEXT_SELECT', TextSelector('Subtitles')),\n",
    "                              ('TFIDF', TfidfVectorizer(\n",
    "                                                        decode_error='ignore',\n",
    "#                                                         tokenizer=LemmaTokenizer,\n",
    "                                                        stop_words=stopwords_english,\n",
    "                                                        token_pattern=r'(?u)\\b[a-z]{3,}\\b',      # токены из 3-х и более букв\n",
    "                                                        smooth_idf=True)\n",
    "                                                       ),\n",
    "                             ])"
   ]
  },
  {
   "cell_type": "markdown",
   "id": "52fe5fa5",
   "metadata": {},
   "source": [
    "> Решено не использовать список стандартных стоп-слов, поскольку он содержит много слов для начинающих."
   ]
  },
  {
   "cell_type": "markdown",
   "id": "b5f4c85d",
   "metadata": {},
   "source": [
    "#### Объединение предобработки числовых и категориальных признаков"
   ]
  },
  {
   "cell_type": "code",
   "execution_count": 956,
   "id": "ff56d624",
   "metadata": {},
   "outputs": [],
   "source": [
    "features_union = FeatureUnion([\n",
    "                               ('TEXT', text_transformer),\n",
    "                               ('NUM', num_transformer),\n",
    "                              ])"
   ]
  },
  {
   "cell_type": "markdown",
   "id": "a1d13055",
   "metadata": {},
   "source": [
    "#### Pipelines' table"
   ]
  },
  {
   "cell_type": "code",
   "execution_count": 957,
   "id": "5ae4f9bc",
   "metadata": {},
   "outputs": [
    {
     "data": {
      "text/html": [
       "<div>\n",
       "<style scoped>\n",
       "    .dataframe tbody tr th:only-of-type {\n",
       "        vertical-align: middle;\n",
       "    }\n",
       "\n",
       "    .dataframe tbody tr th {\n",
       "        vertical-align: top;\n",
       "    }\n",
       "\n",
       "    .dataframe thead th {\n",
       "        text-align: right;\n",
       "    }\n",
       "</style>\n",
       "<table border=\"1\" class=\"dataframe\">\n",
       "  <thead>\n",
       "    <tr style=\"text-align: left;\">\n",
       "      <th></th>\n",
       "      <th>name</th>\n",
       "      <th>short_name</th>\n",
       "      <th>model</th>\n",
       "    </tr>\n",
       "  </thead>\n",
       "  <tbody>\n",
       "    <tr>\n",
       "      <th>0</th>\n",
       "      <td>DummyClassifier</td>\n",
       "      <td>DC</td>\n",
       "      <td>(FeatureUnion(transformer_list=[('TEXT',\\n                                Pipeline(steps=[('TEXT...</td>\n",
       "    </tr>\n",
       "    <tr>\n",
       "      <th>1</th>\n",
       "      <td>RidgeClassifier</td>\n",
       "      <td>RC</td>\n",
       "      <td>(FeatureUnion(transformer_list=[('TEXT',\\n                                Pipeline(steps=[('TEXT...</td>\n",
       "    </tr>\n",
       "    <tr>\n",
       "      <th>2</th>\n",
       "      <td>SGDClassifier</td>\n",
       "      <td>SGDC</td>\n",
       "      <td>(FeatureUnion(transformer_list=[('TEXT',\\n                                Pipeline(steps=[('TEXT...</td>\n",
       "    </tr>\n",
       "    <tr>\n",
       "      <th>3</th>\n",
       "      <td>LinearSVC</td>\n",
       "      <td>LSVC</td>\n",
       "      <td>(FeatureUnion(transformer_list=[('TEXT',\\n                                Pipeline(steps=[('TEXT...</td>\n",
       "    </tr>\n",
       "  </tbody>\n",
       "</table>\n",
       "</div>"
      ],
      "text/plain": [
       "  name             short_name  \\\n",
       "0  DummyClassifier    DC        \n",
       "1  RidgeClassifier    RC        \n",
       "2    SGDClassifier  SGDC        \n",
       "3        LinearSVC  LSVC        \n",
       "\n",
       "  model                                                                                                 \n",
       "0  (FeatureUnion(transformer_list=[('TEXT',\\n                                Pipeline(steps=[('TEXT...  \n",
       "1  (FeatureUnion(transformer_list=[('TEXT',\\n                                Pipeline(steps=[('TEXT...  \n",
       "2  (FeatureUnion(transformer_list=[('TEXT',\\n                                Pipeline(steps=[('TEXT...  \n",
       "3  (FeatureUnion(transformer_list=[('TEXT',\\n                                Pipeline(steps=[('TEXT...  "
      ]
     },
     "execution_count": 957,
     "metadata": {},
     "output_type": "execute_result"
    }
   ],
   "source": [
    "pipelines = [\n",
    "             Pipeline([\n",
    "                       ('FU', features_union),\n",
    "                       ('DC', DummyClassifier())\n",
    "                      ]),\n",
    "    \n",
    "             Pipeline([\n",
    "                       ('FU', features_union),\n",
    "                       ('RC', RidgeClassifier(random_state=RS))\n",
    "                      ]),\n",
    "\n",
    "             Pipeline([\n",
    "                       ('FU', features_union),\n",
    "                       ('SGDC', SGDClassifier(random_state=RS))\n",
    "                      ]),\n",
    "\n",
    "             Pipeline([\n",
    "                       ('FU', features_union),\n",
    "                       ('LSVC', LinearSVC(random_state=RS))\n",
    "                      ]),\n",
    "    \n",
    "            ]\n",
    "\n",
    "names = ['DummyClassifier', 'RidgeClassifier','SGDClassifier', 'LinearSVC']\n",
    "\n",
    "short_names = ['DC', 'RC', 'SGDC', 'LSVC']\n",
    "\n",
    "models = pd.DataFrame(\n",
    "                      data={'name': names,\n",
    "                            'short_name': short_names,\n",
    "                            'model': pipelines,\n",
    "                           },\n",
    "                     )\n",
    "models"
   ]
  },
  {
   "cell_type": "markdown",
   "id": "dc628a95",
   "metadata": {},
   "source": [
    "В таблице моделей необходимо оставить только те, что есть в списке ESTIMATOR_LIST (то есть удалить лишние)."
   ]
  },
  {
   "cell_type": "code",
   "execution_count": 958,
   "id": "e3cf3193",
   "metadata": {},
   "outputs": [
    {
     "data": {
      "text/html": [
       "<div>\n",
       "<style scoped>\n",
       "    .dataframe tbody tr th:only-of-type {\n",
       "        vertical-align: middle;\n",
       "    }\n",
       "\n",
       "    .dataframe tbody tr th {\n",
       "        vertical-align: top;\n",
       "    }\n",
       "\n",
       "    .dataframe thead th {\n",
       "        text-align: right;\n",
       "    }\n",
       "</style>\n",
       "<table border=\"1\" class=\"dataframe\">\n",
       "  <thead>\n",
       "    <tr style=\"text-align: left;\">\n",
       "      <th></th>\n",
       "      <th>name</th>\n",
       "      <th>short_name</th>\n",
       "      <th>model</th>\n",
       "    </tr>\n",
       "  </thead>\n",
       "  <tbody>\n",
       "    <tr>\n",
       "      <th>0</th>\n",
       "      <td>DummyClassifier</td>\n",
       "      <td>DC</td>\n",
       "      <td>(FeatureUnion(transformer_list=[('TEXT',\\n                                Pipeline(steps=[('TEXT...</td>\n",
       "    </tr>\n",
       "    <tr>\n",
       "      <th>1</th>\n",
       "      <td>RidgeClassifier</td>\n",
       "      <td>RC</td>\n",
       "      <td>(FeatureUnion(transformer_list=[('TEXT',\\n                                Pipeline(steps=[('TEXT...</td>\n",
       "    </tr>\n",
       "    <tr>\n",
       "      <th>2</th>\n",
       "      <td>SGDClassifier</td>\n",
       "      <td>SGDC</td>\n",
       "      <td>(FeatureUnion(transformer_list=[('TEXT',\\n                                Pipeline(steps=[('TEXT...</td>\n",
       "    </tr>\n",
       "    <tr>\n",
       "      <th>3</th>\n",
       "      <td>LinearSVC</td>\n",
       "      <td>LSVC</td>\n",
       "      <td>(FeatureUnion(transformer_list=[('TEXT',\\n                                Pipeline(steps=[('TEXT...</td>\n",
       "    </tr>\n",
       "  </tbody>\n",
       "</table>\n",
       "</div>"
      ],
      "text/plain": [
       "  name             short_name  \\\n",
       "0  DummyClassifier    DC        \n",
       "1  RidgeClassifier    RC        \n",
       "2    SGDClassifier  SGDC        \n",
       "3        LinearSVC  LSVC        \n",
       "\n",
       "  model                                                                                                 \n",
       "0  (FeatureUnion(transformer_list=[('TEXT',\\n                                Pipeline(steps=[('TEXT...  \n",
       "1  (FeatureUnion(transformer_list=[('TEXT',\\n                                Pipeline(steps=[('TEXT...  \n",
       "2  (FeatureUnion(transformer_list=[('TEXT',\\n                                Pipeline(steps=[('TEXT...  \n",
       "3  (FeatureUnion(transformer_list=[('TEXT',\\n                                Pipeline(steps=[('TEXT...  "
      ]
     },
     "execution_count": 958,
     "metadata": {},
     "output_type": "execute_result"
    }
   ],
   "source": [
    "for item in range(models.shape[0]):\n",
    "    if models.loc[item,'name'] not in ESTIMATOR_LIST:\n",
    "        models = models.drop(item, axis=0)\n",
    "        \n",
    "models = models.reset_index(drop=True)\n",
    "\n",
    "models"
   ]
  },
  {
   "cell_type": "markdown",
   "id": "4df1bf50",
   "metadata": {},
   "source": [
    "### Подбор гиперпараметров"
   ]
  },
  {
   "cell_type": "markdown",
   "id": "2e03ace3",
   "metadata": {},
   "source": [
    "#### Objective functions для Optuna"
   ]
  },
  {
   "cell_type": "code",
   "execution_count": 959,
   "id": "97711fb0",
   "metadata": {},
   "outputs": [],
   "source": [
    "def objective_DC(trial):\n",
    "\n",
    "    params = {\n",
    "              'DC__strategy': trial.suggest_categorical('DC__strategy', ['most_frequent','prior','stratified','uniform']),\n",
    "             }\n",
    "\n",
    "    model.set_params(**params)\n",
    "    cv_SKF = StratifiedKFold(n_splits=N_CV)\n",
    "    \n",
    "    return cross_val_score(model, X_train, Y_train, scoring=SCORING, cv=cv_SKF, n_jobs=-1).mean()"
   ]
  },
  {
   "cell_type": "code",
   "execution_count": 960,
   "id": "7b4cd8dd",
   "metadata": {},
   "outputs": [],
   "source": [
    "def objective_RC(trial):\n",
    "\n",
    "    params = {\n",
    "              'RC__alpha': trial.suggest_float('RC__alpha', 0.1, 10.0, log=True),\n",
    "              'RC__class_weight': trial.suggest_categorical('RC__class_weight', [None,'balanced']),\n",
    "              'RC__max_iter': trial.suggest_int('RC__max_iter', 100, 1000, log=True),\n",
    "             }\n",
    "    \n",
    "    model.set_params(**params)\n",
    "    cv_SKF = StratifiedKFold(n_splits=N_CV)\n",
    "    \n",
    "    return cross_val_score(model, X_train, Y_train, scoring=SCORING, cv=cv_SKF, n_jobs=-1).mean()"
   ]
  },
  {
   "cell_type": "code",
   "execution_count": 961,
   "id": "99d94266",
   "metadata": {},
   "outputs": [],
   "source": [
    "def objective_SGDC(trial):\n",
    "\n",
    "    params = {\n",
    "              'SGDC__loss': trial.suggest_categorical('SGDC__loss', ['hinge','log_loss']),\n",
    "              'SGDC__alpha': trial.suggest_float('SGDC__alpha', 1e-5, 1e-1, log=True),\n",
    "              'SGDC__class_weight': trial.suggest_categorical('SGDC__class_weight', [None,'balanced']),\n",
    "              'SGDC__max_iter': trial.suggest_int('SGDC__max_iter', 100, 1000, log=True),\n",
    "             }\n",
    "    \n",
    "    model.set_params(**params)\n",
    "    cv_SKF = StratifiedKFold(n_splits=5)\n",
    "    \n",
    "    return cross_val_score(model, X_train, Y_train, scoring=SCORING, cv=cv_SKF, n_jobs=-1).mean()"
   ]
  },
  {
   "cell_type": "code",
   "execution_count": 962,
   "id": "2708f994",
   "metadata": {},
   "outputs": [],
   "source": [
    "def objective_LSVC(trial):\n",
    "\n",
    "    params = {\n",
    "              'LSVC__C': trial.suggest_float('LSVC__C', 0.1, 20),\n",
    "              'LSVC__class_weight': trial.suggest_categorical('LSVC__class_weight', [None,'balanced']),\n",
    "              'LSVC__max_iter': trial.suggest_int('LSVC__max_iter', 100, 2000, log=True),\n",
    "              'LSVC__dual': trial.suggest_categorical('LSVC__dual', [True, False]),\n",
    "             }\n",
    "    \n",
    "    model.set_params(**params)\n",
    "    cv_SKF = StratifiedKFold(n_splits=5)\n",
    "    \n",
    "    return cross_val_score(model, X_train, Y_train, scoring=SCORING, cv=cv_SKF, n_jobs=-1).mean()"
   ]
  },
  {
   "cell_type": "markdown",
   "id": "063c91ed",
   "metadata": {},
   "source": [
    "#### Optuna call"
   ]
  },
  {
   "cell_type": "code",
   "execution_count": 963,
   "id": "edb7786c",
   "metadata": {
    "scrolled": false
   },
   "outputs": [
    {
     "name": "stdout",
     "output_type": "stream",
     "text": [
      "————————————————————————————————————————————————————————————\n",
      "\n",
      "DummyClassifier hyperparams tuning...\n"
     ]
    },
    {
     "data": {
      "application/vnd.jupyter.widget-view+json": {
       "model_id": "3d9f845aaf61403199a1dc70bb38cc31",
       "version_major": 2,
       "version_minor": 0
      },
      "text/plain": [
       "  0%|          | 0/50 [00:00<?, ?it/s]"
      ]
     },
     "metadata": {},
     "output_type": "display_data"
    },
    {
     "name": "stdout",
     "output_type": "stream",
     "text": [
      "\n",
      "\u001b[1mDummyClassifier\u001b[0m\n",
      "\n",
      "Количество попыток: 50\n",
      "Лучший результат: \u001b[1m0.3200\u001b[0m\n",
      "\n",
      "Комбинация гиперпараметров:\n",
      "{\n",
      " \"DC__strategy\": \"stratified\"\n",
      "} \n",
      "\n",
      "————————————————————————————————————————————————————————————\n",
      "\n",
      "RidgeClassifier hyperparams tuning...\n"
     ]
    },
    {
     "data": {
      "application/vnd.jupyter.widget-view+json": {
       "model_id": "3e4b7e69f3034eb0af122191b3164487",
       "version_major": 2,
       "version_minor": 0
      },
      "text/plain": [
       "  0%|          | 0/50 [00:00<?, ?it/s]"
      ]
     },
     "metadata": {},
     "output_type": "display_data"
    },
    {
     "name": "stdout",
     "output_type": "stream",
     "text": [
      "\n",
      "\u001b[1mRidgeClassifier\u001b[0m\n",
      "\n",
      "Количество попыток: 50\n",
      "Лучший результат: \u001b[1m0.7327\u001b[0m\n",
      "\n",
      "Комбинация гиперпараметров:\n",
      "{\n",
      " \"RC__alpha\": 0.6456381359791629,\n",
      " \"RC__class_weight\": \"balanced\",\n",
      " \"RC__max_iter\": 682\n",
      "} \n",
      "\n",
      "————————————————————————————————————————————————————————————\n",
      "\n",
      "SGDClassifier hyperparams tuning...\n"
     ]
    },
    {
     "data": {
      "application/vnd.jupyter.widget-view+json": {
       "model_id": "73edb4ad443b4e04aa516b823c142e02",
       "version_major": 2,
       "version_minor": 0
      },
      "text/plain": [
       "  0%|          | 0/50 [00:00<?, ?it/s]"
      ]
     },
     "metadata": {},
     "output_type": "display_data"
    },
    {
     "name": "stdout",
     "output_type": "stream",
     "text": [
      "\n",
      "\u001b[1mSGDClassifier\u001b[0m\n",
      "\n",
      "Количество попыток: 50\n",
      "Лучший результат: \u001b[1m0.7319\u001b[0m\n",
      "\n",
      "Комбинация гиперпараметров:\n",
      "{\n",
      " \"SGDC__alpha\": 0.00040441706886028755,\n",
      " \"SGDC__class_weight\": \"balanced\",\n",
      " \"SGDC__loss\": \"log_loss\",\n",
      " \"SGDC__max_iter\": 144\n",
      "} \n",
      "\n",
      "————————————————————————————————————————————————————————————\n",
      "\n",
      "LinearSVC hyperparams tuning...\n"
     ]
    },
    {
     "data": {
      "application/vnd.jupyter.widget-view+json": {
       "model_id": "ac22e5802def4970a1a5bb4e35635098",
       "version_major": 2,
       "version_minor": 0
      },
      "text/plain": [
       "  0%|          | 0/50 [00:00<?, ?it/s]"
      ]
     },
     "metadata": {},
     "output_type": "display_data"
    },
    {
     "name": "stdout",
     "output_type": "stream",
     "text": [
      "\n",
      "\u001b[1mLinearSVC\u001b[0m\n",
      "\n",
      "Количество попыток: 50\n",
      "Лучший результат: \u001b[1m0.7140\u001b[0m\n",
      "\n",
      "Комбинация гиперпараметров:\n",
      "{\n",
      " \"LSVC__C\": 18.747818595191,\n",
      " \"LSVC__class_weight\": \"balanced\",\n",
      " \"LSVC__dual\": false,\n",
      " \"LSVC__max_iter\": 239\n",
      "} \n",
      "\n"
     ]
    }
   ],
   "source": [
    "for item in range(models.shape[0]):\n",
    "    \n",
    "    print('—' * 60)\n",
    "    print(f\"{CR}{models.loc[item,'name']} hyperparams tuning...\")\n",
    "    \n",
    "    model = models.loc[item,'model']\n",
    "\n",
    "    # создание объекта optuna.study\n",
    "    study = optuna.create_study(\n",
    "                                study_name=models.loc[item,'name'],\n",
    "                                direction=\"maximize\",\n",
    "                                sampler=optuna.samplers.TPESampler(seed=RS)\n",
    "                               )\n",
    "\n",
    "    # оптимизация (подбор гиперпараметров)\n",
    "    study.optimize(eval(f\"objective_{models.loc[item,'short_name']}\"),\n",
    "                   n_trials=N_TRIALS, timeout=TIMEOUT, show_progress_bar=True, n_jobs=-1)\n",
    "\n",
    "    # извлечение и обучение лучшей модели – здесь можно сделать обучение на полном наборе данных (X,Y)\n",
    "    model.set_params(**study.best_params).fit(X_train, Y_train)\n",
    "\n",
    "    # сохранение результатов в таблице моделей\n",
    "    models.loc[item,'model'] = model\n",
    "    models.loc[item,'study'] = study\n",
    "#     models.loc[item,'features'] = ', '.join(extract_final_features(model))   # пока недостаточно универсально\n",
    "    models.loc[item,'score'] = study.best_value\n",
    "\n",
    "    print(f'{CR}{f.BOLD}{study.study_name}{f.END}{CR}')\n",
    "    print(f'Количество попыток: {len(study.trials)}')\n",
    "    print(f'Лучший результат: {f.BOLD}{study.best_value:0.4f}{f.END}{CR}')\n",
    "    print('Комбинация гиперпараметров:')\n",
    "    print(json.dumps(study.best_params, indent=1, sort_keys=True), f'{CR}')"
   ]
  },
  {
   "cell_type": "markdown",
   "id": "62fb5287",
   "metadata": {},
   "source": [
    "#### Визуализация результатов подбора гиперпараметров\n",
    "\n",
    "Помогает cкорректировать процесс подбора."
   ]
  },
  {
   "cell_type": "code",
   "execution_count": 1,
   "id": "fbb3532b",
   "metadata": {},
   "outputs": [],
   "source": [
    "# for item in range(models.shape[0]):\n",
    "#     plot_Optuna(models.loc[item,'study'], 'plot_slice', models.loc[item, 'name'])\n",
    "# #     plot_Optuna(models.loc[item,'study'], 'plot_param_importances', models.loc[item, 'name'])\n",
    "#     plot_Optuna(models.loc[item,'study'], 'plot_optimization_history', models.loc[item, 'name'])"
   ]
  },
  {
   "cell_type": "markdown",
   "id": "892e6716",
   "metadata": {},
   "source": [
    "## Анализ моделей"
   ]
  },
  {
   "cell_type": "markdown",
   "id": "ab0a2955",
   "metadata": {},
   "source": [
    "### Расчет параметров для оценки модели"
   ]
  },
  {
   "cell_type": "markdown",
   "id": "45f48bab",
   "metadata": {},
   "source": [
    "Для выбора лучшей модели можно разработать комплексную метрику учитывающую, например, такие параметры:\n",
    "- качество предсказания;\n",
    "- время обучения модели;\n",
    "- время предсказания модели.\n",
    "\n",
    "Назовем их **параметрами качества.**"
   ]
  },
  {
   "cell_type": "markdown",
   "id": "b03df469",
   "metadata": {},
   "source": [
    "#### Время обучения модели"
   ]
  },
  {
   "cell_type": "code",
   "execution_count": 965,
   "id": "506c379e",
   "metadata": {},
   "outputs": [],
   "source": [
    "for item in range(models.shape[0]):\n",
    "    \n",
    "    start_time = time()\n",
    "    models.loc[item,'model'].fit(X_train, Y_train)\n",
    "    models.loc[item,'fit_time'] = time() - start_time"
   ]
  },
  {
   "cell_type": "markdown",
   "id": "d2f2a079",
   "metadata": {},
   "source": [
    "#### Время предсказания модели"
   ]
  },
  {
   "cell_type": "code",
   "execution_count": 966,
   "id": "ee6c9bc6",
   "metadata": {},
   "outputs": [],
   "source": [
    "for item in range(models.shape[0]):\n",
    "    \n",
    "    start_time = time()\n",
    "    models.loc[item,'model'].predict(X_valid)\n",
    "    models.loc[item,'predict_time'] = time() - start_time"
   ]
  },
  {
   "cell_type": "markdown",
   "id": "bcc28e26",
   "metadata": {},
   "source": [
    "#### Kачество предсказания модели"
   ]
  },
  {
   "cell_type": "code",
   "execution_count": 967,
   "id": "08bc7c96",
   "metadata": {},
   "outputs": [],
   "source": [
    "# for item in range(models.shape[0]):\n",
    "    \n",
    "#     models.loc[item,'predicted_score'] = f1_score(Y_valid,\n",
    "#                                                   models.loc[item,'model'].predict(X_valid),\n",
    "#                                                   average='weighted')"
   ]
  },
  {
   "cell_type": "markdown",
   "id": "8692aea3",
   "metadata": {},
   "source": [
    "> Для оценки качества предсказания можно использовать либо отложенную выборку, либо результат, полученный при кросс-валидации.\n",
    ">\n",
    "> Ввиду маленького размера валидационной выборки в данном случае будет использован результат, полученный при кросс-валидации."
   ]
  },
  {
   "cell_type": "markdown",
   "id": "61d5b194",
   "metadata": {},
   "source": [
    "#### Комплексная метрика модели"
   ]
  },
  {
   "cell_type": "markdown",
   "id": "a522e976",
   "metadata": {},
   "source": [
    "Комплексную метрику модели можно рассчитать как среднее гармоническое параметров качества.  \n",
    "Поскольку, чем ниже значения таких параметров качества как время, тем лучше, то для расчета гармонического среднего будут использованы обратные значения времени. Для остальных параметров качества будут взяты прямые значения.\n",
    "\n",
    "Таким образом, чем выше полученная комплексная метрика, тем лучше."
   ]
  },
  {
   "cell_type": "markdown",
   "id": "9487bfa5",
   "metadata": {},
   "source": [
    "Для более тонкого расчета комплексной метрики можно ввести весовые коэффициенты параметров качества.  "
   ]
  },
  {
   "cell_type": "code",
   "execution_count": 968,
   "id": "9397a9c2",
   "metadata": {},
   "outputs": [],
   "source": [
    "FIT_TIME = 0.0              # в данном случае этот параметр совершенно неважен\n",
    "PREDICT_TIME = 0.1          # может быть важен, т.к. влияет на время ожидания ответа пользователем\n",
    "PREDICTED_SCORE = 0.9       # качество модели — самый важный параметр"
   ]
  },
  {
   "cell_type": "code",
   "execution_count": 969,
   "id": "862f0d2a",
   "metadata": {},
   "outputs": [],
   "source": [
    "# для простоты числитель принят =1 вместо суммы коэффициентов FIT_TIME + PREDICT_TIME + PREDICTED_RMSE\n",
    "\n",
    "models['integrale'] = 1 / (FIT_TIME / (1 / models.fit_time) +\n",
    "                           PREDICT_TIME / (1 / models.predict_time) +\n",
    "                           PREDICTED_SCORE / models.score )\n",
    "\n",
    "models.integrale = models.integrale / models.integrale.max()                            # нормирование"
   ]
  },
  {
   "cell_type": "markdown",
   "id": "cb01efc7",
   "metadata": {},
   "source": [
    "#### Additional metrics\n",
    "\n",
    "В дополнение к основной метрике, полученной во время подбора гиперпараметров, можно сравнить метрики, рассчитанные с помощью кроссвалидации. Можно изменить параметры кроссвалидации.  \n",
    "Метрики рассчитываются как для обучающей, так и валидационной выборки."
   ]
  },
  {
   "cell_type": "code",
   "execution_count": 970,
   "id": "b02af597",
   "metadata": {
    "scrolled": false
   },
   "outputs": [
    {
     "name": "stdout",
     "output_type": "stream",
     "text": [
      "Performing cross_val_score with cv=10 and scoring_list=['f1_weighted', 'f1_macro', 'f1_micro']:\n",
      "f1_weighted_train... done\n",
      "f1_weighted_test... done\n",
      "f1_macro_train... done\n",
      "f1_macro_test... done\n",
      "f1_micro_train... done\n",
      "f1_micro_test... done\n"
     ]
    },
    {
     "data": {
      "text/html": [
       "<div>\n",
       "<style scoped>\n",
       "    .dataframe tbody tr th:only-of-type {\n",
       "        vertical-align: middle;\n",
       "    }\n",
       "\n",
       "    .dataframe tbody tr th {\n",
       "        vertical-align: top;\n",
       "    }\n",
       "\n",
       "    .dataframe thead th {\n",
       "        text-align: right;\n",
       "    }\n",
       "</style>\n",
       "<table border=\"1\" class=\"dataframe\">\n",
       "  <thead>\n",
       "    <tr style=\"text-align: left;\">\n",
       "      <th></th>\n",
       "      <th>name</th>\n",
       "      <th>score</th>\n",
       "      <th>fit_time</th>\n",
       "      <th>predict_time</th>\n",
       "      <th>integrale</th>\n",
       "      <th>f1_weighted_train</th>\n",
       "      <th>f1_weighted_test</th>\n",
       "      <th>f1_macro_train</th>\n",
       "      <th>f1_macro_test</th>\n",
       "      <th>f1_micro_train</th>\n",
       "      <th>f1_micro_test</th>\n",
       "    </tr>\n",
       "  </thead>\n",
       "  <tbody>\n",
       "    <tr>\n",
       "      <th>0</th>\n",
       "      <td>RidgeClassifier</td>\n",
       "      <td>0.733</td>\n",
       "      <td>2.063</td>\n",
       "      <td>0.306</td>\n",
       "      <td>1.000</td>\n",
       "      <td>0.733</td>\n",
       "      <td>0.710</td>\n",
       "      <td>0.709</td>\n",
       "      <td>0.668</td>\n",
       "      <td>0.729</td>\n",
       "      <td>0.757</td>\n",
       "    </tr>\n",
       "    <tr>\n",
       "      <th>1</th>\n",
       "      <td>SGDClassifier</td>\n",
       "      <td>0.732</td>\n",
       "      <td>2.063</td>\n",
       "      <td>0.313</td>\n",
       "      <td>0.998</td>\n",
       "      <td>0.700</td>\n",
       "      <td>0.670</td>\n",
       "      <td>0.664</td>\n",
       "      <td>0.615</td>\n",
       "      <td>0.700</td>\n",
       "      <td>0.729</td>\n",
       "    </tr>\n",
       "    <tr>\n",
       "      <th>2</th>\n",
       "      <td>LinearSVC</td>\n",
       "      <td>0.714</td>\n",
       "      <td>3.130</td>\n",
       "      <td>0.347</td>\n",
       "      <td>0.972</td>\n",
       "      <td>0.723</td>\n",
       "      <td>0.667</td>\n",
       "      <td>0.688</td>\n",
       "      <td>0.616</td>\n",
       "      <td>0.729</td>\n",
       "      <td>0.729</td>\n",
       "    </tr>\n",
       "    <tr>\n",
       "      <th>3</th>\n",
       "      <td>DummyClassifier</td>\n",
       "      <td>0.320</td>\n",
       "      <td>1.836</td>\n",
       "      <td>0.381</td>\n",
       "      <td>0.442</td>\n",
       "      <td>0.257</td>\n",
       "      <td>0.299</td>\n",
       "      <td>0.209</td>\n",
       "      <td>0.272</td>\n",
       "      <td>0.296</td>\n",
       "      <td>0.286</td>\n",
       "    </tr>\n",
       "  </tbody>\n",
       "</table>\n",
       "</div>"
      ],
      "text/plain": [
       "  name              score  fit_time  predict_time  integrale  \\\n",
       "0  RidgeClassifier 0.733  2.063     0.306         1.000        \n",
       "1    SGDClassifier 0.732  2.063     0.313         0.998        \n",
       "2        LinearSVC 0.714  3.130     0.347         0.972        \n",
       "3  DummyClassifier 0.320  1.836     0.381         0.442        \n",
       "\n",
       "   f1_weighted_train  f1_weighted_test  f1_macro_train  f1_macro_test  \\\n",
       "0 0.733              0.710             0.709           0.668            \n",
       "1 0.700              0.670             0.664           0.615            \n",
       "2 0.723              0.667             0.688           0.616            \n",
       "3 0.257              0.299             0.209           0.272            \n",
       "\n",
       "   f1_micro_train  f1_micro_test  \n",
       "0 0.729           0.757           \n",
       "1 0.700           0.729           \n",
       "2 0.729           0.729           \n",
       "3 0.296           0.286           "
      ]
     },
     "execution_count": 970,
     "metadata": {},
     "output_type": "execute_result"
    }
   ],
   "source": [
    "# дополнительные метрики моделей\n",
    "models = add_model_metrics(models, X_train, Y_train, X_valid, Y_valid, cv=N_CV,\n",
    "                           scoring_list=['f1_weighted','f1_macro','f1_micro'])\n",
    "\n",
    "models.drop(['short_name','model','study','best_params'], axis=1).sort_values('integrale', ascending=False).reset_index(drop=True)"
   ]
  },
  {
   "cell_type": "markdown",
   "id": "a038e100",
   "metadata": {},
   "source": [
    "> Результат весьма скромный.  \n",
    "> Несмотря на то, что метрики на кроссвалидации выше, чем baseline, метрики, полученные на тестовой выборке прозрачно намекают на переобучение.  \n",
    "> Как мы помним, распределение слов разной сложности практически одинаково среди фильмов разных уровней. Вот и модели, можно сказать, почти не увидели этой связи."
   ]
  },
  {
   "cell_type": "markdown",
   "id": "1b19fe00",
   "metadata": {},
   "source": [
    "### ConfusionMatrixDisplay"
   ]
  },
  {
   "cell_type": "code",
   "execution_count": 971,
   "id": "908ae3d5",
   "metadata": {
    "scrolled": false
   },
   "outputs": [
    {
     "data": {
      "image/png": "[encoded data removed]",
      "text/plain": [
       "<Figure size 2700x750 with 4 Axes>"
      ]
     },
     "metadata": {},
     "output_type": "display_data"
    }
   ],
   "source": [
    "\n",
    "fig, ax = plt.subplots(figsize=(18,5), ncols=4, dpi=PLOT_DPI)\n",
    "fig.suptitle('Confusion Matrix', fontsize=20)\n",
    "\n",
    "for item in range(models.shape[0]):\n",
    "    \n",
    "    ConfusionMatrixDisplay.from_estimator(models.loc[item,'model'].fit(X_train, Y_train),\n",
    "                                          X_valid, Y_valid,\n",
    "                                          ax=ax[item], colorbar=False, cmap='Blues')\n",
    "    ax[item].set_title(f\"{models.loc[item,'name']}\")\n"
   ]
  },
  {
   "cell_type": "markdown",
   "id": "9e9c39ad",
   "metadata": {},
   "source": [
    "> Для более тонкого анализа полученных моделей можно воспользоваться Confusion Matrix.  \n",
    "> Если модель ошибается, то предпочтительнее ошибка:  \n",
    ">   - не более, чем на 1 класс;\n",
    ">   - в сторону завышения класса.\n",
    ">\n",
    "> Однако из-за маленького размера тестового набора такой анализ чувствителен к ошибкам.\n",
    "\n",
    "> Из положительного можно отметить, что модели редко ошибаются более чем на 1 класс."
   ]
  },
  {
   "cell_type": "markdown",
   "id": "ac9b3ddb",
   "metadata": {},
   "source": [
    "### Выбор лучшей модели"
   ]
  },
  {
   "cell_type": "code",
   "execution_count": 972,
   "id": "f3734185",
   "metadata": {},
   "outputs": [],
   "source": [
    "SCORE_FIELD = 'integrale'  # название поля для выбора лучшей модели\n",
    "LESS_IS_BETTER = False     # для направления сортировки\n",
    "\n",
    "# название модели с лучшим score, полученным при кроссвалидации\n",
    "best_model_name = models.sort_values(SCORE_FIELD, ascending=LESS_IS_BETTER).reset_index(drop=True).loc[0,'name']\n",
    "\n",
    "# выбор модели из таблицы\n",
    "model = models[models.name == best_model_name].model.values[0]"
   ]
  },
  {
   "cell_type": "code",
   "execution_count": 973,
   "id": "9468da93",
   "metadata": {},
   "outputs": [
    {
     "data": {
      "text/plain": [
       "'RidgeClassifier'"
      ]
     },
     "execution_count": 973,
     "metadata": {},
     "output_type": "execute_result"
    }
   ],
   "source": [
    "best_model_name"
   ]
  },
  {
   "cell_type": "markdown",
   "id": "d30e7c8e",
   "metadata": {},
   "source": [
    "### Save best model dump"
   ]
  },
  {
   "cell_type": "code",
   "execution_count": 974,
   "id": "81c6c576",
   "metadata": {},
   "outputs": [],
   "source": [
    "model = model.fit(X,Y)"
   ]
  },
  {
   "cell_type": "code",
   "execution_count": 977,
   "id": "5aacfb53",
   "metadata": {},
   "outputs": [],
   "source": [
    "import pickle\n",
    "\n",
    "# запись лучшей модели в файл\n",
    "\n",
    "with open(f'results/dump {datetime.now().strftime(\"%Y-%m-%d_at_%H-%M\")}, {SCORING}_{study.best_value:0.4f}, {model.steps[-1][0]}, CV={N_CV}.pcl',\n",
    "          'wb') as model_dump:\n",
    "    pickle.dump(model, model_dump)"
   ]
  },
  {
   "cell_type": "code",
   "execution_count": 976,
   "id": "a5819f40",
   "metadata": {
    "scrolled": true
   },
   "outputs": [],
   "source": [
    "# # запись лучшей модели в файл\n",
    "\n",
    "# joblib.dump(model, f'results/dump {datetime.now().strftime(\"%Y-%m-%d_at_%H-%M\")}, {SCORING}_{study.best_value:0.4f}, {model.steps[-1][0]}, CV={N_CV}.mdl')"
   ]
  },
  {
   "cell_type": "markdown",
   "id": "d8c49a50",
   "metadata": {},
   "source": [
    "---"
   ]
  },
  {
   "cell_type": "markdown",
   "id": "72e2b353",
   "metadata": {},
   "source": [
    "## Вывод"
   ]
  },
  {
   "cell_type": "markdown",
   "id": "a634a8e6",
   "metadata": {},
   "source": [
    "### Краткий обзор проделанной работы\n",
    "\n",
    "1. Выполнена обработка входных данных и создан датасет для обучения модели.\n",
    "1. Создана baseline-модель.\n",
    "1. Созданы и сравнены несколько моделей.\n",
    "1. Исследовано влияние на качество модели ряда дополнительных признаков.\n",
    "1. На базе лучшей модели создано [Streamlit-приложение](https://english-subtitles-level.streamlit.app/)."
   ]
  },
  {
   "cell_type": "markdown",
   "id": "792cbf87",
   "metadata": {},
   "source": [
    "### Подготовка данных\n",
    "\n",
    "На базе pdf-файлов \"The Oxford by CEFR level\" был создан словарь слов с указанием уровня CEFR.\n",
    "\n",
    "Таблица с фильмами дополнена полем, содержащим слова из субтитров к фильму. Субтитры были взяты из отдельных файлы и очищены от лишней информации. Набор данных был расширен некоторым количеством дополнительных фильмов, для которых удалось найти оценки экспертов (вызывающих доверие).\n",
    "\n",
    "Был создан ряд дополнительных признаков. Эксперименты с моделью не подтвердили полезность ни одного из них."
   ]
  },
  {
   "cell_type": "markdown",
   "id": "ddd0fcce",
   "metadata": {},
   "source": [
    "### Baseline\n",
    "\n",
    "Для baseline-модели были сгенерированы тексты, состоящие из слов какого-либо определенного уровня.  \n",
    "На этих текстах обучена baseline-модель. Эта модель не требует для обучения фильмы с оценками экспертов.  \n",
    "Можно попробовать улучшить качество этой модели, расширив обучающий набор фразами определенного уровня."
   ]
  },
  {
   "cell_type": "markdown",
   "id": "ce168ce5",
   "metadata": {},
   "source": [
    "### Моделирование\n",
    "\n",
    "Ключевую роль в пайплайнах моделей играет TF-IDF-преобразование данных.  \n",
    "На финальном этапе пайплайна используется линейный классификатор.\n",
    "\n",
    "Для финальной оценки моделей разработана комплексная метрика, включающая время и качество предсказания модели. Для тонкой настройки эти параметры имеют свои веса.\n",
    "\n",
    "Наибольшее значение в данной задаче имеет качество модели.  \n",
    "Метрика `f1_weighted` для всех моделей составляет около **0.7**, что не намного лучше baseline-модели, для которой `f1_weighted` около **0.64**. Но существенно выше dummy-модели — ее `f1_weighted` около **0.3**."
   ]
  },
  {
   "cell_type": "markdown",
   "id": "85ee5145",
   "metadata": {},
   "source": [
    "### Факторы, влияющие на качество модели\n",
    "\n",
    "1. Небольшое количество наблюдений в датасете:\n",
    "    - расширение датасета затруднено отсутствием достоверной экспертной оценки.\n",
    "1. Несбалансированность датасета:\n",
    "    - некоторые классы представлены небольшим количеством фильмов, из-за чего страдает точность определения этого класса.\n",
    "1. Большое количество сериалов с предположительно однотипными текстами в рамках сериала:\n",
    "    - около 2/3 данных составляют сериалы;\n",
    "    - однотипные тексты в рамках сериала ведут к переобучению модели;\n",
    "    - фильмы уровня С1 представлены почти исключительно сериалами (да и тех немного);\n",
    "    - разделение датасета на обучющую и тестовую выборки с учетом группировки по сериалам не улучшает качество модели, а показывает ее реальное низкое качество.\n",
    "1. Практически одинаковое распределение слов разной сложности по \"The Oxford by CEFR level\" среди фильмов разного уровня:\n",
    "    - только уровень A1 отличается соотношением количества слов разной сложности.\n",
    "1. Расплывчатый уровень сложности, присвоенный фильму экспертами:\n",
    "    - нередко эксперты оценивают фильм на разные уровни сложности, что не может не сказаться на качестве модели."
   ]
  },
  {
   "cell_type": "markdown",
   "id": "97bbb9d3",
   "metadata": {},
   "source": [
    "### Онлайн-приложение\n",
    "\n",
    "На базе обученной модели создано [Streamlit-приложение](https://english-subtitles-level.streamlit.app/) .  \n",
    "Чтобы получить прогноз достаточно перетащить файл с субтитрами в поле ввода."
   ]
  },
  {
   "cell_type": "markdown",
   "id": "2a8aeeee",
   "metadata": {},
   "source": [
    "### Перспективы\n",
    "\n",
    "Исследовательский анализ данных показал, частота слов разного уровня практически не зависит от сложности фильма, определенной экспертами.  \n",
    "\n",
    "Разметка данных, основанная на экспертной оценке сложности фильма является самым проблемным местом, потому что:  \n",
    "\n",
    "a) расширение базы для обучения модели требует больших ресурсов (специалистов, времени, денег);  \n",
    "b) единственная оценка для такого большого объекта, как фильм, может быть неинформативной: например, в фильме могут встречаться участки разной сложности;  \n",
    "c) субъективность экспертной оценки: эксперты могут придавать разный вес различным аспектам.\n",
    "\n",
    "Все это говорит против того, чтобы использовать экспертную оценку в качестве целевого признака.\n",
    "\n",
    "Другой путь — использование расчетных характеристик текста для определения его сложности. Этот путь не подразумевает машинного обучения (по крайней мере, при простом подходе). В чистом виде, скорее всего, не позволит достичь требуемого качества прогноза.\n",
    "\n",
    "И третий путь — совместить оба подхода: экспертную оценку и технический анализ текста.  \n",
    "Но применить этот подход не ко всему тексту, а к **фразам,** из которых он состоит. Каждая фраза получит свою оценку сложности. На основе этих оценок будет выведена оценка для всего текста. Она необязательно должна быть простой (однозначно предсказать уровень): можно построить более сложную оценку, учитывающую различные особенности фильма: сложность слов, плотность речи, наличие сленга. Можно вводить весовые коэффициенты для создания динамической оценки фильма (под запросы конкретного пользователя). И даже **графики, показывающие изменение сложности на timeline.**\n",
    "\n",
    "Сделать экспертизу фраз намного легче и точнее, чем всего текста:  \n",
    "a) можно сделать перекрестную оценку фраз разными экспертами;  \n",
    "b) можно сделать автоматизированную проверку уровня доверия к поставленным оценкам;  \n",
    "c) cуществует множество фраз, уже имеющих оценку сложности;  \n",
    "d) сложность фразы может учитывать не только словарный состав, но другие параметры (грамматика, длина);  \n",
    "e) с помощью созданной модели можно добавлять новые фразы в обучающий набор.\n",
    "\n",
    "Помимо оценки сложности можно оценить фразу по другим параметрам (наличие сленга, область применения), что позволит давать более точные рекомендации."
   ]
  },
  {
   "cell_type": "markdown",
   "id": "ab105f8c",
   "metadata": {},
   "source": [
    "### Итого\n",
    "\n",
    "1. Качество модели различается в зависимости от прогнозируемого уровня. Например, фильмы уровня A1 содержат большое количество слов, которые можно отнести к стоп-словам.  \n",
    "Возможно, создание раздельных моделей бинарной классификации для каждого уровня и алгоритма, объединяющего результаты этих моделей, поможет улучшить качество прогноза.   \n",
    "Опционально можно формировать результат как вероятность отнесения фильма к тому или иному уровню.\n",
    "\n",
    "---\n",
    "\n",
    "2. Совершенствование модели, созданной в данном проекте, в целом малоперспективно. Прежде всего из-за ограничений обучающего набора данных (дорогостоящее расширение, субъективность оценки, неоднородность сложности в рамках одного фильма и т. п.)  \n",
    "Предпочтительнее попробовать создать модель на основе описанного выше анализа сложности фраз.  \n",
    "Чем я и собираюсь заняться ))"
   ]
  }
 ],
 "metadata": {
  "kernelspec": {
   "display_name": "Python 3 (ipykernel)",
   "language": "python",
   "name": "python3"
  },
  "language_info": {
   "codemirror_mode": {
    "name": "ipython",
    "version": 3
   },
   "file_extension": ".py",
   "mimetype": "text/x-python",
   "name": "python",
   "nbconvert_exporter": "python",
   "pygments_lexer": "ipython3",
   "version": "3.8.13"
  },
  "nbTranslate": {
   "displayLangs": [
    "en",
    "ru"
   ],
   "hotkey": "alt-t",
   "langInMainMenu": false,
   "sourceLang": "ru",
   "targetLang": "en",
   "useGoogleTranslate": true
  },
  "toc": {
   "base_numbering": "0",
   "nav_menu": {},
   "number_sections": true,
   "sideBar": true,
   "skip_h1_title": true,
   "title_cell": "Contents",
   "title_sidebar": "Contents",
   "toc_cell": true,
   "toc_position": {
    "height": "calc(100% - 180px)",
    "left": "10px",
    "top": "150px",
    "width": "204.9px"
   },
   "toc_section_display": true,
   "toc_window_display": true
  },
  "vscode": {
   "interpreter": {
    "hash": "2f9d6cf1e3d8195079a65c851de355134a77367bcd714b1a5d498c42d3c07114"
   }
  }
 },
 "nbformat": 4,
 "nbformat_minor": 5
}
