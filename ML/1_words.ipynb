{
 "cells": [
  {
   "cell_type": "markdown",
   "id": "0f19e804",
   "metadata": {},
   "source": [
    "# English Subtitles Level Prediction\n",
    "\n",
    "# Подготовка словаря\n",
    "\n",
    "---\n",
    "\n",
    "**Входные данные**\n",
    "\n",
    "Электронная таблица. Названия вкладок соответствуют названиям уровней CEFR. На каждой вкладке столбец со словами соответствующего уровня. Слова взяты из файлов \"American_Oxford_3000_by_CEFR_level.pdf\" и \"American_Oxford_5000_by_CEFR_level.pdf\".\n",
    "\n",
    "---\n",
    "\n",
    "**Цель**\n",
    "\n",
    "Объединить слова в csv-файл, содержащий две колонки: 'Word' и 'Level'.\n",
    "\n",
    "---\n",
    "\n",
    "**Задачи:**  \n",
    "\n",
    "- если одинаковое написание слова встречается в разных уровнях, присвоить слову наибольший (трудный) уровень.\n",
    "- сгенерировать тексты с использованием исключительно слов одного уровня (для создания baseline-модели)."
   ]
  },
  {
   "cell_type": "markdown",
   "id": "37ac002d",
   "metadata": {
    "toc": true
   },
   "source": [
    "<h1>Contents<span class=\"tocSkip\"></span></h1>\n",
    "<div class=\"toc\"><ul class=\"toc-item\"><li><span><a href=\"#Initial\" data-toc-modified-id=\"Initial-0\"><span class=\"toc-item-num\">0&nbsp;&nbsp;</span>Initial</a></span><ul class=\"toc-item\"><li><span><a href=\"#Imports\" data-toc-modified-id=\"Imports-0.1\"><span class=\"toc-item-num\">0.1&nbsp;&nbsp;</span>Imports</a></span></li><li><span><a href=\"#Constants\" data-toc-modified-id=\"Constants-0.2\"><span class=\"toc-item-num\">0.2&nbsp;&nbsp;</span>Constants</a></span></li><li><span><a href=\"#Settings\" data-toc-modified-id=\"Settings-0.3\"><span class=\"toc-item-num\">0.3&nbsp;&nbsp;</span>Settings</a></span></li></ul></li><li><span><a href=\"#Подготовка-словаря-&quot;American-Oxford-by-CEFR-level&quot;\" data-toc-modified-id=\"Подготовка-словаря-&quot;American-Oxford-by-CEFR-level&quot;-1\"><span class=\"toc-item-num\">1&nbsp;&nbsp;</span>Подготовка словаря \"American Oxford by CEFR level\"</a></span><ul class=\"toc-item\"><li><span><a href=\"#Read-data\" data-toc-modified-id=\"Read-data-1.1\"><span class=\"toc-item-num\">1.1&nbsp;&nbsp;</span>Read data</a></span></li><li><span><a href=\"#Удаление-дубликатов\" data-toc-modified-id=\"Удаление-дубликатов-1.2\"><span class=\"toc-item-num\">1.2&nbsp;&nbsp;</span>Удаление дубликатов</a></span></li></ul></li><li><span><a href=\"#Save-словарь\" data-toc-modified-id=\"Save-словарь-2\"><span class=\"toc-item-num\">2&nbsp;&nbsp;</span>Save словарь</a></span></li><li><span><a href=\"#Создание-искусственных-текстов\" data-toc-modified-id=\"Создание-искусственных-текстов-3\"><span class=\"toc-item-num\">3&nbsp;&nbsp;</span>Создание искусственных текстов</a></span></li></ul></div>"
   ]
  },
  {
   "cell_type": "markdown",
   "id": "a5d94030",
   "metadata": {},
   "source": [
    "---"
   ]
  },
  {
   "cell_type": "markdown",
   "id": "bb9072f2",
   "metadata": {
    "tags": []
   },
   "source": [
    "## Initial"
   ]
  },
  {
   "cell_type": "markdown",
   "id": "f5cef155",
   "metadata": {},
   "source": [
    "### Imports"
   ]
  },
  {
   "cell_type": "code",
   "execution_count": 106,
   "id": "9c0bf8a2",
   "metadata": {},
   "outputs": [],
   "source": [
    "import pandas as pd\n",
    "import numpy as np\n",
    "import os\n",
    "import warnings"
   ]
  },
  {
   "cell_type": "markdown",
   "id": "7c9327a4",
   "metadata": {},
   "source": [
    "### Constants"
   ]
  },
  {
   "cell_type": "code",
   "execution_count": 107,
   "id": "13e07bee",
   "metadata": {},
   "outputs": [],
   "source": [
    "PATH_LOCAL = 'datasets/'                               # local path to data\n",
    "PATH_REMOTE = '/datasets/'                             # remote path to data\n",
    "\n",
    "CR = '\\n'                                              # new line"
   ]
  },
  {
   "cell_type": "markdown",
   "id": "f4825471",
   "metadata": {},
   "source": [
    "### Settings"
   ]
  },
  {
   "cell_type": "code",
   "execution_count": 121,
   "id": "604a0591",
   "metadata": {},
   "outputs": [],
   "source": [
    "# text styles\n",
    "class f:\n",
    "    BOLD = \"\\033[1m\"\n",
    "    ITALIC = \"\\033[3m\"\n",
    "    END = \"\\033[0m\""
   ]
  },
  {
   "cell_type": "code",
   "execution_count": 111,
   "id": "705dd986",
   "metadata": {},
   "outputs": [],
   "source": [
    "# Pandas defaults\n",
    "pd.options.display.max_colwidth = 100\n",
    "pd.options.display.max_rows = 500\n",
    "pd.options.display.max_columns = 100\n",
    "pd.options.display.float_format = '{:.3f}'.format\n",
    "pd.options.display.colheader_justify = 'left'"
   ]
  },
  {
   "cell_type": "code",
   "execution_count": 112,
   "id": "a0d24efb",
   "metadata": {},
   "outputs": [],
   "source": [
    "# others\n",
    "warnings.filterwarnings('ignore')"
   ]
  },
  {
   "cell_type": "markdown",
   "id": "d6e7da7a",
   "metadata": {},
   "source": [
    "---"
   ]
  },
  {
   "cell_type": "markdown",
   "id": "a4b708d9",
   "metadata": {},
   "source": [
    "## Подготовка словаря \"American Oxford by CEFR level\""
   ]
  },
  {
   "cell_type": "markdown",
   "id": "52961e98",
   "metadata": {},
   "source": [
    "### Read data\n",
    "\n",
    "Чтение с каждого листа и объединение в общий датафрейм."
   ]
  },
  {
   "cell_type": "code",
   "execution_count": 113,
   "id": "e3d6a13d",
   "metadata": {},
   "outputs": [],
   "source": [
    "data = pd.DataFrame()\n",
    "\n",
    "for level in ['A1','A2','B1','B2','B2+','C1']:\n",
    "    df = pd.read_excel(f'{PATH_LOCAL}The_Oxford_by_CEFR_level/word_level.xlsx', sheet_name=level)\n",
    "    df['Level'] = level\n",
    "    data = pd.concat([data, df], ignore_index=True)"
   ]
  },
  {
   "cell_type": "code",
   "execution_count": 114,
   "id": "51c4f262",
   "metadata": {},
   "outputs": [],
   "source": [
    "data.Level = data.Level.replace('B2+', 'B2')"
   ]
  },
  {
   "cell_type": "markdown",
   "id": "415a9350",
   "metadata": {},
   "source": [
    "> Часть слов уровня B2 изначально помечены во входном файле как B2+.  \n",
    "> Возможно, это излишне, и стоит их пометить в файле сразу как B2."
   ]
  },
  {
   "cell_type": "markdown",
   "id": "608e22e0",
   "metadata": {},
   "source": [
    "### Удаление дубликатов"
   ]
  },
  {
   "cell_type": "code",
   "execution_count": 115,
   "id": "7c2f9aee",
   "metadata": {},
   "outputs": [
    {
     "data": {
      "text/plain": [
       "351"
      ]
     },
     "execution_count": 115,
     "metadata": {},
     "output_type": "execute_result"
    }
   ],
   "source": [
    "data[['word']].duplicated().sum()"
   ]
  },
  {
   "cell_type": "code",
   "execution_count": 116,
   "id": "78085e4e",
   "metadata": {},
   "outputs": [],
   "source": [
    "# дубликаты сортируются по убыванию признака `level`\n",
    "df = data.sort_values('Level', ascending=False).drop('Level', axis=1)\n",
    "\n",
    "# после удаления дубликатов остается только запись с максимальным значением `level`\n",
    "data = data[~df.duplicated()]"
   ]
  },
  {
   "cell_type": "code",
   "execution_count": 117,
   "id": "10d8d55c",
   "metadata": {},
   "outputs": [
    {
     "data": {
      "text/plain": [
       "0"
      ]
     },
     "execution_count": 117,
     "metadata": {},
     "output_type": "execute_result"
    }
   ],
   "source": [
    "data[['word']].duplicated().sum()"
   ]
  },
  {
   "cell_type": "code",
   "execution_count": 118,
   "id": "18827719",
   "metadata": {},
   "outputs": [
    {
     "data": {
      "text/plain": [
       "B2    1406\n",
       "C1    1310\n",
       "B1     759\n",
       "A1     737\n",
       "A2     731\n",
       "Name: Level, dtype: int64"
      ]
     },
     "execution_count": 118,
     "metadata": {},
     "output_type": "execute_result"
    }
   ],
   "source": [
    "data.Level.value_counts()"
   ]
  },
  {
   "cell_type": "markdown",
   "id": "a1a6a399",
   "metadata": {},
   "source": [
    "> Если одно и то же слово (пусть даже в разных смыслах) присутствует в разных уовнях, ему будет присвоен наибольший из этих уовней. Для обучающегося лучше встреченное слово будет простым, чем незнакомым.\n",
    "\n",
    "> Другой вариант – не удалять дубликаты, если это соответствует логике дальнейшей обработки."
   ]
  },
  {
   "cell_type": "markdown",
   "id": "e7772e3e",
   "metadata": {},
   "source": [
    "## Save словарь"
   ]
  },
  {
   "cell_type": "code",
   "execution_count": 119,
   "id": "6bdb7253",
   "metadata": {},
   "outputs": [],
   "source": [
    "data.to_csv(f'{PATH_LOCAL}EDA_word_level.csv', index=False)"
   ]
  },
  {
   "cell_type": "markdown",
   "id": "be7a0110",
   "metadata": {},
   "source": [
    "## Создание искусственных текстов"
   ]
  },
  {
   "cell_type": "code",
   "execution_count": 120,
   "id": "10d2e979",
   "metadata": {},
   "outputs": [],
   "source": [
    "N = 100\n",
    "df = pd.DataFrame()\n",
    "\n",
    "for level in list(data.Level.unique()):\n",
    "\n",
    "    for i in range(N):\n",
    "        \n",
    "        generated_text = data[data.Level == level].sample(frac=1).word.str.cat(sep=' ')\n",
    "        new_row = {'Movie':'generated', 'Level':level, 'Subtitles':generated_text}\n",
    "        df = df.append(new_row, ignore_index=True)\n",
    "\n",
    "# save\n",
    "df.to_csv(f'{PATH_LOCAL}EDA_artficial_subs.csv', index=False)"
   ]
  },
  {
   "cell_type": "markdown",
   "id": "73917e1d",
   "metadata": {},
   "source": [
    "> Сгенерированные тексты (а точнее, просто наборы слов) состоят исключительно из слов какого-либо одного уровня.  \n",
    "> На базе этих текстов будет создана baseline-модель."
   ]
  }
 ],
 "metadata": {
  "kernelspec": {
   "display_name": "Python 3 (ipykernel)",
   "language": "python",
   "name": "python3"
  },
  "language_info": {
   "codemirror_mode": {
    "name": "ipython",
    "version": 3
   },
   "file_extension": ".py",
   "mimetype": "text/x-python",
   "name": "python",
   "nbconvert_exporter": "python",
   "pygments_lexer": "ipython3",
   "version": "3.8.13"
  },
  "nbTranslate": {
   "displayLangs": [
    "en",
    "ru"
   ],
   "hotkey": "alt-t",
   "langInMainMenu": false,
   "sourceLang": "ru",
   "targetLang": "en",
   "useGoogleTranslate": true
  },
  "toc": {
   "base_numbering": "0",
   "nav_menu": {},
   "number_sections": true,
   "sideBar": true,
   "skip_h1_title": true,
   "title_cell": "Contents",
   "title_sidebar": "Contents",
   "toc_cell": true,
   "toc_position": {
    "height": "calc(100% - 180px)",
    "left": "10px",
    "top": "150px",
    "width": "204.9px"
   },
   "toc_section_display": true,
   "toc_window_display": true
  },
  "vscode": {
   "interpreter": {
    "hash": "2f9d6cf1e3d8195079a65c851de355134a77367bcd714b1a5d498c42d3c07114"
   }
  }
 },
 "nbformat": 4,
 "nbformat_minor": 5
}
