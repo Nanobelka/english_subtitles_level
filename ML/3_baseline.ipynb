{
 "cells": [
  {
   "cell_type": "markdown",
   "id": "0f19e804",
   "metadata": {},
   "source": [
    "# English Subtitles Level Prediction\n",
    "\n",
    "# Baseline-модель\n",
    "\n",
    "---\n",
    "\n",
    "**Входные данные**\n",
    "\n",
    "Таблица с искусственно сгенерированными текстами, содержащими исключительно слова одного уровня.  \n",
    "Структура таблицы в точности соответствует таблице с данными о фильмах.\n",
    "\n",
    "---\n",
    "\n",
    "**Цель**\n",
    "\n",
    "Создать baseline-модель, не зависящую от оценок экспертов, в качестве нижнего порога качества для последующих моделей.\n",
    "\n",
    "---\n",
    "\n",
    "**Задачи:**  \n",
    "\n",
    "- оценить качество модели по тем же метрикам, которые будут использованы для оценки последующих моделей;\n",
    "- сделать контрольную проверку на тестовой выборке."
   ]
  },
  {
   "cell_type": "markdown",
   "id": "a5d94030",
   "metadata": {},
   "source": [
    "---"
   ]
  },
  {
   "cell_type": "markdown",
   "id": "782fee2d",
   "metadata": {
    "tags": []
   },
   "source": [
    "## Intro"
   ]
  },
  {
   "cell_type": "markdown",
   "id": "64d3b239",
   "metadata": {},
   "source": [
    "**Some explanations**\n",
    "\n",
    "Permanent data tables named like: **data**.  \n",
    "Temporary data tables named like: **df**.  \n",
    "\n",
    "The code of the cells are as independent as possible from each other in order to freely manipulate the cells.\n",
    "\n",
    "Intermediate conclusions are highlighted as follows:\n",
    "\n",
    "> Intermediate conclusion."
   ]
  },
  {
   "cell_type": "markdown",
   "id": "ae7325b3",
   "metadata": {},
   "source": [
    "---"
   ]
  },
  {
   "cell_type": "markdown",
   "id": "bb9072f2",
   "metadata": {
    "tags": []
   },
   "source": [
    "## Initial"
   ]
  },
  {
   "cell_type": "markdown",
   "id": "f5cef155",
   "metadata": {},
   "source": [
    "### Imports"
   ]
  },
  {
   "cell_type": "markdown",
   "id": "1210c77d",
   "metadata": {},
   "source": [
    "Почистить от лишних импортов !!!"
   ]
  },
  {
   "cell_type": "code",
   "execution_count": 41,
   "id": "9c0bf8a2",
   "metadata": {},
   "outputs": [],
   "source": [
    "import pandas as pd\n",
    "import numpy as np\n",
    "\n",
    "import os\n",
    "import json\n",
    "import warnings\n",
    "import joblib\n",
    "from datetime import date, time, datetime\n",
    "from time import time\n",
    "\n",
    "import matplotlib.pyplot as plt\n",
    "import seaborn as sns\n",
    "from matplotlib.colors import LinearSegmentedColormap\n",
    "import plotly.graph_objects as go\n",
    "import plotly.io as pio\n",
    "\n",
    "from sklearn.base import BaseEstimator, TransformerMixin\n",
    "from sklearn.feature_extraction.text import TfidfVectorizer\n",
    "\n",
    "from sklearn.compose import ColumnTransformer, make_column_transformer, make_column_selector\n",
    "from sklearn.preprocessing import StandardScaler, OrdinalEncoder, OneHotEncoder, SplineTransformer, FunctionTransformer\n",
    "from sklearn.experimental import enable_iterative_imputer\n",
    "from sklearn.impute import IterativeImputer\n",
    "\n",
    "from sklearn.model_selection import train_test_split, cross_val_score, StratifiedKFold\n",
    "from sklearn.pipeline import Pipeline, make_pipeline, FeatureUnion\n",
    "\n",
    "from nltk.corpus import stopwords\n",
    "\n",
    "from sklearn.dummy import DummyClassifier\n",
    "from sklearn.linear_model import RidgeClassifier, SGDClassifier\n",
    "from sklearn.svm import LinearSVC\n",
    "\n",
    "from sklearn.metrics import f1_score\n",
    "\n",
    "import optuna\n",
    "from optuna.distributions import FloatDistribution, IntDistribution, CategoricalDistribution"
   ]
  },
  {
   "cell_type": "markdown",
   "id": "7c9327a4",
   "metadata": {},
   "source": [
    "### Constants"
   ]
  },
  {
   "cell_type": "code",
   "execution_count": 42,
   "id": "13e07bee",
   "metadata": {},
   "outputs": [],
   "source": [
    "PATH_LOCAL = 'datasets/'                               # local path to data\n",
    "PATH_REMOTE = '/datasets/'                             # remote path to data\n",
    "\n",
    "CR = '\\n'                                              # new line\n",
    "\n",
    "TARGET = 'Level'                                       # target name\n",
    "SCORING = 'f1_weighted'                                # target metric\n",
    "VALID_FRAC = 0.0                                       # delayed sampling fraction\n",
    "N_CV = 5                                               # number of folds during cross-validation\n",
    "\n",
    "N_TRIALS = 20                                          # max of tries when Optuna optimization run\n",
    "TIMEOUT = 1000                                         # max time when Optuna optimization run\n",
    "RANDOM_STATE = RANDOM_SEED = RS = 66                   # random_state"
   ]
  },
  {
   "cell_type": "code",
   "execution_count": 43,
   "id": "ffc51fe4",
   "metadata": {},
   "outputs": [],
   "source": [
    "ESTIMATOR_LIST = [                                     # estimators list (comment/uncomment estimator to skip/use)\n",
    "#                   'DummyClassifier',\n",
    "                  'RidgeClassifier',\n",
    "                  'SGDClassifier',\n",
    "                  'LinearSVC',\n",
    "                 ]"
   ]
  },
  {
   "cell_type": "markdown",
   "id": "c3161820",
   "metadata": {},
   "source": [
    "### Functions"
   ]
  },
  {
   "cell_type": "code",
   "execution_count": 44,
   "id": "a8068b9c",
   "metadata": {},
   "outputs": [],
   "source": [
    "def custom_read_csv(file_name, separator=','):\n",
    "    \"\"\"\n",
    "    reading dataset of .csv format:\n",
    "       first from local storage;\n",
    "       if unsuccessful from remote storage.\n",
    "    \"\"\"\n",
    "\n",
    "    path_local = f'{PATH_LOCAL}{file_name}'\n",
    "    path_remote = f'{PATH_REMOTE}{file_name}'\n",
    "    \n",
    "    if os.path.exists(path_local):\n",
    "        return pd.read_csv(path_local, sep=separator)\n",
    "\n",
    "    elif os.path.exists(path_remote):\n",
    "        return pd.read_csv(path_remote, sep=separator)\n",
    "\n",
    "    else:\n",
    "        print(f'File \"{file_name}\" not found at the specified path ')"
   ]
  },
  {
   "cell_type": "code",
   "execution_count": 45,
   "id": "6bc6110a",
   "metadata": {},
   "outputs": [],
   "source": [
    "def var_name(var):\n",
    "    \"\"\"\n",
    "    var name determination\n",
    "    \"\"\"\n",
    "    return [name for name in globals() if globals()[name] is var][0]"
   ]
  },
  {
   "cell_type": "code",
   "execution_count": 46,
   "id": "6de89763",
   "metadata": {},
   "outputs": [],
   "source": [
    "def plot_Optuna(study, plot_kind='plot_slice', model_name=''):\n",
    "    '''\n",
    "    Дополнительная настройка оригинальных графиков Optuna.\n",
    "    Например, на графике `plot_slice` изначально цвет точек зависел от номера итерации.\n",
    "    Теперь они все одинакового цвета и полупрозрачные, лучше видны скопления точек.\n",
    "    \n",
    "    study: обученный объект класса OptunaSearchCV\n",
    "    plot_kind: тип графика Optuna\n",
    "    model_name: название модели\n",
    "    '''\n",
    "    \n",
    "    if plot_kind == 'plot_slice':\n",
    "        fig = optuna.visualization.plot_slice(study)\n",
    "        fig.update_traces(\n",
    "                          marker_color='Darkgrey',\n",
    "                          marker_size=3,\n",
    "                          marker_opacity=0.2,\n",
    "                          marker_line_width=1,\n",
    "                          marker_line_color='Black',\n",
    "                         )\n",
    "    \n",
    "    elif plot_kind == 'plot_param_importances':\n",
    "        fig = optuna.visualization.plot_param_importances(study)\n",
    "        \n",
    "    elif plot_kind == 'plot_optimization_history':\n",
    "        fig = optuna.visualization.plot_optimization_history(study)\n",
    "        fig.update_traces(\n",
    "                          marker_size=5,\n",
    "                          marker_opacity=0.3,\n",
    "                          marker_line_width=1,\n",
    "                          marker_line_color='Black',\n",
    "                         )\n",
    "\n",
    "    fig.update_layout(\n",
    "                      title_text=model_name,\n",
    "                      title_x=0,\n",
    "                      font_size=10,\n",
    "                     )    \n",
    "    fig.show()"
   ]
  },
  {
   "cell_type": "code",
   "execution_count": 47,
   "id": "8870df5a",
   "metadata": {},
   "outputs": [],
   "source": [
    "def add_model_metrics(models, X_train, Y_train, X_valid, Y_valid, cv=N_CV, scoring_list=['f1'], verbose=True):\n",
    "    '''\n",
    "    Принимает:\n",
    "        датафрейм со списком моделей и их характеристиками;\n",
    "        два датасета (features and target) – обучающую и валидационную выборки;\n",
    "        параметр cv для cross_val_score;\n",
    "        список метрик\n",
    "        \n",
    "    Для каждой модели в датафрейме добавляет указанные метрики для обоих датасетов.\n",
    "    '''\n",
    "\n",
    "    def cv_score(model, X, Y, scoring, cv):\n",
    "        invert_koeff = -1 if scoring.split('_')[0] == 'neg' else 1   # инвертирование метрик с приставкой \"neg_\"\n",
    "        return invert_koeff * cross_val_score(model, X, Y, scoring=scoring, cv=cv, n_jobs=-1).mean()\n",
    "    \n",
    "    if verbose: print(f'Performing cross_val_score with cv={N_CV} and scoring_list={scoring_list}:')\n",
    "    \n",
    "    for scoring in scoring_list:\n",
    "    \n",
    "        # результаты моделей на обучающей выборке (усреднение на кроссвалидации)\n",
    "        if verbose: print(f'{scoring}_train...', end=' ')\n",
    "        models[f'{scoring}_train'] = models.model.apply(cv_score, args=(X_train, Y_train, scoring, cv))\n",
    "        if verbose: print('done')\n",
    "\n",
    "        # результаты моделей на тестовой выборке (усреднение на кроссвалидации)\n",
    "        if verbose: print(f'{scoring}_test...', end=' ')\n",
    "        models[f'{scoring}_test'] = models.model.apply(cv_score , args=(X_valid, Y_valid, scoring, cv))\n",
    "        if verbose: print('done')\n",
    "    \n",
    "    # оптимальные гиперпараметры\n",
    "    models['best_params'] = models.study.apply(lambda model: model.best_params)\n",
    "    \n",
    "    return models"
   ]
  },
  {
   "cell_type": "code",
   "execution_count": 48,
   "id": "d14bb955",
   "metadata": {},
   "outputs": [],
   "source": [
    "def extract_final_features(pipeline_model):\n",
    "    '''\n",
    "    Принимает пайплайн.\n",
    "    Возвращает список признаков, на которых обучается финальный estimator пайплайна.\n",
    "    '''\n",
    "    feature_list = []\n",
    "    \n",
    "    for feature in pipeline_model.steps[-2][1].get_feature_names_out():\n",
    "        feature_list.append(feature.split('__')[1])\n",
    "\n",
    "    return feature_list"
   ]
  },
  {
   "cell_type": "markdown",
   "id": "f4825471",
   "metadata": {},
   "source": [
    "### Settings"
   ]
  },
  {
   "cell_type": "code",
   "execution_count": 49,
   "id": "604a0591",
   "metadata": {},
   "outputs": [],
   "source": [
    "# text styles\n",
    "class f:\n",
    "    BOLD = \"\\033[1m\"\n",
    "    ITALIC = \"\\033[3m\"\n",
    "    END = \"\\033[0m\""
   ]
  },
  {
   "cell_type": "code",
   "execution_count": 50,
   "id": "67297223",
   "metadata": {},
   "outputs": [],
   "source": [
    "# defaults for charts\n",
    "\n",
    "# Matplotlib, Seaborn\n",
    "PLOT_DPI = 150  # dpi for charts rendering \n",
    "sns.set_style('whitegrid', {'axes.facecolor': '0.98', 'grid.color': '0.9', 'axes.edgecolor': '1.0'})\n",
    "plt.rc(\n",
    "       'axes',\n",
    "       labelweight='bold',\n",
    "       titlesize=16,\n",
    "       titlepad=10,\n",
    "      )\n",
    "\n",
    "# Plotly Graph_Objects\n",
    "pio.templates['my_theme'] = go.layout.Template(\n",
    "                                               layout_autosize=True,\n",
    "                                               # width=900,\n",
    "                                               layout_height=200,\n",
    "                                               layout_legend_orientation=\"h\",\n",
    "                                               layout_margin=dict(t=40, b=40),         # (l=0, r=0, b=0, t=0, pad=0)\n",
    "                                               layout_template='seaborn',\n",
    "                                              )\n",
    "pio.templates.default = 'my_theme'\n",
    "\n",
    "# colors, color schemes\n",
    "CMAP_SYMMETRIC = LinearSegmentedColormap.from_list('', ['steelblue', 'aliceblue', 'steelblue'])"
   ]
  },
  {
   "cell_type": "code",
   "execution_count": 51,
   "id": "705dd986",
   "metadata": {},
   "outputs": [],
   "source": [
    "# Pandas defaults\n",
    "pd.options.display.max_colwidth = 100\n",
    "pd.options.display.max_rows = 500\n",
    "pd.options.display.max_columns = 100\n",
    "pd.options.display.float_format = '{:.3f}'.format\n",
    "pd.options.display.colheader_justify = 'left'"
   ]
  },
  {
   "cell_type": "code",
   "execution_count": 52,
   "id": "2a44035b",
   "metadata": {},
   "outputs": [],
   "source": [
    "# оформление Optuna\n",
    "optuna.logging.set_verbosity(optuna.logging.WARNING)  # отключение вывода логов при работе optuna"
   ]
  },
  {
   "cell_type": "code",
   "execution_count": 53,
   "id": "a0d24efb",
   "metadata": {},
   "outputs": [],
   "source": [
    "# others\n",
    "warnings.filterwarnings('ignore')"
   ]
  },
  {
   "cell_type": "markdown",
   "id": "d6e7da7a",
   "metadata": {},
   "source": [
    "---"
   ]
  },
  {
   "cell_type": "markdown",
   "id": "30757a9f",
   "metadata": {},
   "source": [
    "## Read and Check data"
   ]
  },
  {
   "cell_type": "markdown",
   "id": "52961e98",
   "metadata": {},
   "source": [
    "### Read data"
   ]
  },
  {
   "cell_type": "code",
   "execution_count": 54,
   "id": "4faefdb1",
   "metadata": {},
   "outputs": [],
   "source": [
    "data = custom_read_csv('EDA_artficial_subs.csv')"
   ]
  },
  {
   "cell_type": "code",
   "execution_count": 55,
   "id": "76d36093",
   "metadata": {},
   "outputs": [
    {
     "data": {
      "text/html": [
       "<div>\n",
       "<style scoped>\n",
       "    .dataframe tbody tr th:only-of-type {\n",
       "        vertical-align: middle;\n",
       "    }\n",
       "\n",
       "    .dataframe tbody tr th {\n",
       "        vertical-align: top;\n",
       "    }\n",
       "\n",
       "    .dataframe thead th {\n",
       "        text-align: right;\n",
       "    }\n",
       "</style>\n",
       "<table border=\"1\" class=\"dataframe\">\n",
       "  <thead>\n",
       "    <tr style=\"text-align: left;\">\n",
       "      <th></th>\n",
       "      <th>Movie</th>\n",
       "      <th>Level</th>\n",
       "      <th>Subtitles</th>\n",
       "    </tr>\n",
       "  </thead>\n",
       "  <tbody>\n",
       "    <tr>\n",
       "      <th>493</th>\n",
       "      <td>generated</td>\n",
       "      <td>C1</td>\n",
       "      <td>willingness reform lawn feat neglect formula judicial liver civic activation compensate memo inc...</td>\n",
       "    </tr>\n",
       "  </tbody>\n",
       "</table>\n",
       "</div>"
      ],
      "text/plain": [
       "    Movie      Level  \\\n",
       "493  generated  C1     \n",
       "\n",
       "    Subtitles                                                                                             \n",
       "493  willingness reform lawn feat neglect formula judicial liver civic activation compensate memo inc...  "
      ]
     },
     "execution_count": 55,
     "metadata": {},
     "output_type": "execute_result"
    }
   ],
   "source": [
    "data.sample()"
   ]
  },
  {
   "cell_type": "code",
   "execution_count": 56,
   "id": "ad9a46c9",
   "metadata": {},
   "outputs": [
    {
     "name": "stdout",
     "output_type": "stream",
     "text": [
      "<class 'pandas.core.frame.DataFrame'>\n",
      "RangeIndex: 500 entries, 0 to 499\n",
      "Data columns (total 3 columns):\n",
      " #   Column     Non-Null Count  Dtype \n",
      "---  ------     --------------  ----- \n",
      " 0   Movie      500 non-null    object\n",
      " 1   Level      500 non-null    object\n",
      " 2   Subtitles  500 non-null    object\n",
      "dtypes: object(3)\n",
      "memory usage: 11.8+ KB\n"
     ]
    }
   ],
   "source": [
    "data.info()"
   ]
  },
  {
   "cell_type": "markdown",
   "id": "e5d598d7",
   "metadata": {},
   "source": [
    "---"
   ]
  },
  {
   "cell_type": "markdown",
   "id": "d76821ed",
   "metadata": {},
   "source": [
    "## Model"
   ]
  },
  {
   "cell_type": "markdown",
   "id": "ff277683",
   "metadata": {},
   "source": [
    "### Подготовка данных"
   ]
  },
  {
   "cell_type": "markdown",
   "id": "b2587c9f",
   "metadata": {},
   "source": [
    "#### Выделение признаков и целевой переменной"
   ]
  },
  {
   "cell_type": "code",
   "execution_count": 57,
   "id": "174d91a1",
   "metadata": {},
   "outputs": [
    {
     "data": {
      "text/plain": [
       "((500, 1), (500,))"
      ]
     },
     "execution_count": 57,
     "metadata": {},
     "output_type": "execute_result"
    }
   ],
   "source": [
    "X = data.drop([TARGET, 'Movie'], axis=1)\n",
    "Y = data[TARGET]\n",
    "\n",
    "X.shape, Y.shape"
   ]
  },
  {
   "cell_type": "markdown",
   "id": "0e43339d",
   "metadata": {},
   "source": [
    "#### Разделение на обучающую и валидационную выборки\n",
    "\n",
    "Валидационная выборка – часть, отрезанная от train, для локального тестирования модели."
   ]
  },
  {
   "cell_type": "markdown",
   "id": "478d7a34",
   "metadata": {},
   "source": [
    "*Примечание: если VALID_FRAC <= 0 для подбора гиперпараметров используется вся обучающая выборка (X, Y). Валидационная выборка в этом случае также равна (X, Y). Создание валидационной выборки в этом случае — лишь формальность (заглушка), и результаты валидации не следует интерпретировать никак.*"
   ]
  },
  {
   "cell_type": "code",
   "execution_count": 58,
   "id": "8d39c6f6",
   "metadata": {},
   "outputs": [
    {
     "data": {
      "text/plain": [
       "((500, 1), (500,), (500, 1), (500,))"
      ]
     },
     "execution_count": 58,
     "metadata": {},
     "output_type": "execute_result"
    }
   ],
   "source": [
    "if VALID_FRAC > 0 :\n",
    "    X_train, X_valid, Y_train, Y_valid = train_test_split(X, Y, test_size=VALID_FRAC, stratify=Y, random_state=RS)\n",
    "else:\n",
    "    X_train, X_valid, Y_train, Y_valid = X, X, Y, Y\n",
    "\n",
    "X_train.shape, Y_train.shape, X_valid.shape, Y_valid.shape"
   ]
  },
  {
   "cell_type": "markdown",
   "id": "391c661e",
   "metadata": {},
   "source": [
    "### Preprocessing"
   ]
  },
  {
   "cell_type": "code",
   "execution_count": 59,
   "id": "e123539e",
   "metadata": {},
   "outputs": [],
   "source": [
    "class TextSelector(BaseEstimator, TransformerMixin):\n",
    "    '''\n",
    "    Позволяет выбрать указанный признак для последующей обработки\n",
    "    '''\n",
    "    def __init__(self, field):\n",
    "        self.field = field\n",
    "    def fit(self, X, Y=None):\n",
    "        return self\n",
    "    def transform(self, X):\n",
    "        return X[self.field]"
   ]
  },
  {
   "cell_type": "markdown",
   "id": "482094b7",
   "metadata": {},
   "source": [
    "#### Селекторы числовых и категориальных признаков"
   ]
  },
  {
   "cell_type": "code",
   "execution_count": 60,
   "id": "7d6a0aa7",
   "metadata": {},
   "outputs": [],
   "source": [
    "num_selector = make_column_selector(dtype_include=np.number)\n",
    "cat_selector = make_column_selector(dtype_exclude=np.number)"
   ]
  },
  {
   "cell_type": "markdown",
   "id": "61b7adc6",
   "metadata": {},
   "source": [
    "#### Предбработка числовых признаков"
   ]
  },
  {
   "cell_type": "code",
   "execution_count": 61,
   "id": "27f4cc7e",
   "metadata": {},
   "outputs": [],
   "source": [
    "num_preprocessor = make_pipeline(\n",
    "                                 IterativeImputer(initial_strategy='mean', random_state=RS),\n",
    "                                 StandardScaler(),\n",
    "                                )\n",
    "\n",
    "num_transformer = make_column_transformer(\n",
    "                                          (num_preprocessor, num_selector),\n",
    "                                          remainder='drop'\n",
    "                                         )"
   ]
  },
  {
   "cell_type": "markdown",
   "id": "da29dc4c",
   "metadata": {},
   "source": [
    "#### Предбработка категориальных признаков\n",
    "\n",
    "Категориальный признак только один – содержащий субтитры. По крайней мере, пока."
   ]
  },
  {
   "cell_type": "code",
   "execution_count": 62,
   "id": "e133aafc",
   "metadata": {},
   "outputs": [],
   "source": [
    "stopwords_english = list(set(stopwords.words('english')))"
   ]
  },
  {
   "cell_type": "code",
   "execution_count": 63,
   "id": "e1aebf37",
   "metadata": {},
   "outputs": [],
   "source": [
    "text_transformer = Pipeline([\n",
    "                              ('TEXT_SELECT', TextSelector('Subtitles')),\n",
    "                              ('TFIDF', TfidfVectorizer(\n",
    "                                                        decode_error='ignore',\n",
    "                                                        stop_words=stopwords_english,\n",
    "                                                        token_pattern=r'(?u)\\b[a-z]{3,}\\b',      # токены из 3-х и более букв\n",
    "                                                        smooth_idf=True)\n",
    "                                                       ),\n",
    "                             ])"
   ]
  },
  {
   "cell_type": "markdown",
   "id": "b5f4c85d",
   "metadata": {},
   "source": [
    "#### Объединение предобработки числовых и категориальных признаков"
   ]
  },
  {
   "cell_type": "code",
   "execution_count": 64,
   "id": "ff56d624",
   "metadata": {},
   "outputs": [],
   "source": [
    "features_union = FeatureUnion([\n",
    "                               ('TEXT', text_transformer),\n",
    "                               ('NUM', num_transformer),\n",
    "                              ])"
   ]
  },
  {
   "cell_type": "markdown",
   "id": "a1d13055",
   "metadata": {},
   "source": [
    "#### Pipelines' table"
   ]
  },
  {
   "cell_type": "code",
   "execution_count": 65,
   "id": "5ae4f9bc",
   "metadata": {},
   "outputs": [
    {
     "data": {
      "text/html": [
       "<div>\n",
       "<style scoped>\n",
       "    .dataframe tbody tr th:only-of-type {\n",
       "        vertical-align: middle;\n",
       "    }\n",
       "\n",
       "    .dataframe tbody tr th {\n",
       "        vertical-align: top;\n",
       "    }\n",
       "\n",
       "    .dataframe thead th {\n",
       "        text-align: right;\n",
       "    }\n",
       "</style>\n",
       "<table border=\"1\" class=\"dataframe\">\n",
       "  <thead>\n",
       "    <tr style=\"text-align: left;\">\n",
       "      <th></th>\n",
       "      <th>name</th>\n",
       "      <th>short_name</th>\n",
       "      <th>model</th>\n",
       "    </tr>\n",
       "  </thead>\n",
       "  <tbody>\n",
       "    <tr>\n",
       "      <th>0</th>\n",
       "      <td>DummyClassifier</td>\n",
       "      <td>DC</td>\n",
       "      <td>(FeatureUnion(transformer_list=[('TEXT',\\n                                Pipeline(steps=[('TEXT...</td>\n",
       "    </tr>\n",
       "    <tr>\n",
       "      <th>1</th>\n",
       "      <td>RidgeClassifier</td>\n",
       "      <td>RC</td>\n",
       "      <td>(FeatureUnion(transformer_list=[('TEXT',\\n                                Pipeline(steps=[('TEXT...</td>\n",
       "    </tr>\n",
       "    <tr>\n",
       "      <th>2</th>\n",
       "      <td>SGDClassifier</td>\n",
       "      <td>SGDC</td>\n",
       "      <td>(FeatureUnion(transformer_list=[('TEXT',\\n                                Pipeline(steps=[('TEXT...</td>\n",
       "    </tr>\n",
       "    <tr>\n",
       "      <th>3</th>\n",
       "      <td>LinearSVC</td>\n",
       "      <td>LSVC</td>\n",
       "      <td>(FeatureUnion(transformer_list=[('TEXT',\\n                                Pipeline(steps=[('TEXT...</td>\n",
       "    </tr>\n",
       "  </tbody>\n",
       "</table>\n",
       "</div>"
      ],
      "text/plain": [
       "  name             short_name  \\\n",
       "0  DummyClassifier    DC        \n",
       "1  RidgeClassifier    RC        \n",
       "2    SGDClassifier  SGDC        \n",
       "3        LinearSVC  LSVC        \n",
       "\n",
       "  model                                                                                                 \n",
       "0  (FeatureUnion(transformer_list=[('TEXT',\\n                                Pipeline(steps=[('TEXT...  \n",
       "1  (FeatureUnion(transformer_list=[('TEXT',\\n                                Pipeline(steps=[('TEXT...  \n",
       "2  (FeatureUnion(transformer_list=[('TEXT',\\n                                Pipeline(steps=[('TEXT...  \n",
       "3  (FeatureUnion(transformer_list=[('TEXT',\\n                                Pipeline(steps=[('TEXT...  "
      ]
     },
     "execution_count": 65,
     "metadata": {},
     "output_type": "execute_result"
    }
   ],
   "source": [
    "pipelines = [\n",
    "             Pipeline([\n",
    "                       ('FU', features_union),\n",
    "                       ('DC', DummyClassifier())\n",
    "                      ]),\n",
    "    \n",
    "             Pipeline([\n",
    "                       ('FU', features_union),\n",
    "                       ('RC', RidgeClassifier(random_state=RS))\n",
    "                      ]),\n",
    "\n",
    "             Pipeline([\n",
    "                       ('FU', features_union),\n",
    "                       ('SGDC', SGDClassifier(random_state=RS))\n",
    "                      ]),\n",
    "\n",
    "             Pipeline([\n",
    "                       ('FU', features_union),\n",
    "                       ('LSVC', LinearSVC(random_state=RS))\n",
    "                      ]),\n",
    "    \n",
    "            ]\n",
    "\n",
    "names = ['DummyClassifier', 'RidgeClassifier','SGDClassifier', 'LinearSVC']\n",
    "\n",
    "short_names = ['DC', 'RC', 'SGDC', 'LSVC']\n",
    "\n",
    "models = pd.DataFrame(\n",
    "                      data={'name': names,\n",
    "                            'short_name': short_names,\n",
    "                            'model': pipelines,\n",
    "                           },\n",
    "                     )\n",
    "models"
   ]
  },
  {
   "cell_type": "markdown",
   "id": "dc628a95",
   "metadata": {},
   "source": [
    "В таблице моделей необходимо оставить только те, что есть в списке ESTIMATOR_LIST (то есть удалить лишние)."
   ]
  },
  {
   "cell_type": "code",
   "execution_count": 66,
   "id": "e3cf3193",
   "metadata": {},
   "outputs": [
    {
     "data": {
      "text/html": [
       "<div>\n",
       "<style scoped>\n",
       "    .dataframe tbody tr th:only-of-type {\n",
       "        vertical-align: middle;\n",
       "    }\n",
       "\n",
       "    .dataframe tbody tr th {\n",
       "        vertical-align: top;\n",
       "    }\n",
       "\n",
       "    .dataframe thead th {\n",
       "        text-align: right;\n",
       "    }\n",
       "</style>\n",
       "<table border=\"1\" class=\"dataframe\">\n",
       "  <thead>\n",
       "    <tr style=\"text-align: left;\">\n",
       "      <th></th>\n",
       "      <th>name</th>\n",
       "      <th>short_name</th>\n",
       "      <th>model</th>\n",
       "    </tr>\n",
       "  </thead>\n",
       "  <tbody>\n",
       "    <tr>\n",
       "      <th>0</th>\n",
       "      <td>RidgeClassifier</td>\n",
       "      <td>RC</td>\n",
       "      <td>(FeatureUnion(transformer_list=[('TEXT',\\n                                Pipeline(steps=[('TEXT...</td>\n",
       "    </tr>\n",
       "    <tr>\n",
       "      <th>1</th>\n",
       "      <td>SGDClassifier</td>\n",
       "      <td>SGDC</td>\n",
       "      <td>(FeatureUnion(transformer_list=[('TEXT',\\n                                Pipeline(steps=[('TEXT...</td>\n",
       "    </tr>\n",
       "    <tr>\n",
       "      <th>2</th>\n",
       "      <td>LinearSVC</td>\n",
       "      <td>LSVC</td>\n",
       "      <td>(FeatureUnion(transformer_list=[('TEXT',\\n                                Pipeline(steps=[('TEXT...</td>\n",
       "    </tr>\n",
       "  </tbody>\n",
       "</table>\n",
       "</div>"
      ],
      "text/plain": [
       "  name             short_name  \\\n",
       "0  RidgeClassifier    RC        \n",
       "1    SGDClassifier  SGDC        \n",
       "2        LinearSVC  LSVC        \n",
       "\n",
       "  model                                                                                                 \n",
       "0  (FeatureUnion(transformer_list=[('TEXT',\\n                                Pipeline(steps=[('TEXT...  \n",
       "1  (FeatureUnion(transformer_list=[('TEXT',\\n                                Pipeline(steps=[('TEXT...  \n",
       "2  (FeatureUnion(transformer_list=[('TEXT',\\n                                Pipeline(steps=[('TEXT...  "
      ]
     },
     "execution_count": 66,
     "metadata": {},
     "output_type": "execute_result"
    }
   ],
   "source": [
    "for item in range(models.shape[0]):\n",
    "    if models.loc[item,'name'] not in ESTIMATOR_LIST:\n",
    "        models = models.drop(item, axis=0)\n",
    "        \n",
    "models = models.reset_index(drop=True)\n",
    "\n",
    "models"
   ]
  },
  {
   "cell_type": "markdown",
   "id": "4df1bf50",
   "metadata": {},
   "source": [
    "### Подбор гиперпараметров"
   ]
  },
  {
   "cell_type": "markdown",
   "id": "2e03ace3",
   "metadata": {},
   "source": [
    "#### Objective functions для Optuna"
   ]
  },
  {
   "cell_type": "code",
   "execution_count": 67,
   "id": "97711fb0",
   "metadata": {},
   "outputs": [],
   "source": [
    "def objective_DC(trial):\n",
    "\n",
    "    params = {\n",
    "              'DC__strategy': trial.suggest_categorical('DC__strategy', ['most_frequent','prior','stratified','uniform']),\n",
    "             }\n",
    "\n",
    "    model.set_params(**params)\n",
    "    cv_SKF = StratifiedKFold(n_splits=N_CV)\n",
    "    \n",
    "    return cross_val_score(model, X_train, Y_train, scoring=SCORING, cv=cv_SKF, n_jobs=-1).mean()"
   ]
  },
  {
   "cell_type": "code",
   "execution_count": 68,
   "id": "7b4cd8dd",
   "metadata": {},
   "outputs": [],
   "source": [
    "def objective_RC(trial):\n",
    "\n",
    "    params = {\n",
    "              'RC__alpha': trial.suggest_float('RC__alpha', 0.1, 10.0, log=True),\n",
    "              'RC__class_weight': trial.suggest_categorical('RC__class_weight', [None,'balanced']),\n",
    "              'RC__max_iter': trial.suggest_int('RC__max_iter', 100, 1000, log=True),\n",
    "             }\n",
    "    \n",
    "    model.set_params(**params)\n",
    "    cv_SKF = StratifiedKFold(n_splits=N_CV)\n",
    "    \n",
    "    return cross_val_score(model, X_train, Y_train, scoring=SCORING, cv=cv_SKF, n_jobs=-1).mean()"
   ]
  },
  {
   "cell_type": "code",
   "execution_count": 69,
   "id": "99d94266",
   "metadata": {},
   "outputs": [],
   "source": [
    "def objective_SGDC(trial):\n",
    "\n",
    "    params = {\n",
    "              'SGDC__loss': trial.suggest_categorical('SGDC__loss', ['hinge','log_loss']),\n",
    "              'SGDC__alpha': trial.suggest_float('SGDC__alpha', 1e-5, 1e-1, log=True),\n",
    "              'SGDC__class_weight': trial.suggest_categorical('SGDC__class_weight', [None,'balanced']),\n",
    "              'SGDC__max_iter': trial.suggest_int('SGDC__max_iter', 100, 1000, log=True),\n",
    "             }\n",
    "    \n",
    "    model.set_params(**params)\n",
    "    cv_SKF = StratifiedKFold(n_splits=5)\n",
    "    \n",
    "    return cross_val_score(model, X_train, Y_train, scoring=SCORING, cv=cv_SKF, n_jobs=-1).mean()"
   ]
  },
  {
   "cell_type": "code",
   "execution_count": 70,
   "id": "2708f994",
   "metadata": {},
   "outputs": [],
   "source": [
    "def objective_LSVC(trial):\n",
    "\n",
    "    params = {\n",
    "              'LSVC__C': trial.suggest_float('LSVC__C', 0.1, 10),\n",
    "              'LSVC__class_weight': trial.suggest_categorical('LSVC__class_weight', [None,'balanced']),\n",
    "              'LSVC__max_iter': trial.suggest_int('LSVC__max_iter', 100, 1000, log=True),\n",
    "              'LSVC__dual': trial.suggest_categorical('LSVC__dual', [True, False]),\n",
    "             }\n",
    "    \n",
    "    model.set_params(**params)\n",
    "    cv_SKF = StratifiedKFold(n_splits=5)\n",
    "    \n",
    "    return cross_val_score(model, X_train, Y_train, scoring=SCORING, cv=cv_SKF, n_jobs=-1).mean()"
   ]
  },
  {
   "cell_type": "markdown",
   "id": "063c91ed",
   "metadata": {},
   "source": [
    "#### Optuna call"
   ]
  },
  {
   "cell_type": "code",
   "execution_count": 71,
   "id": "edb7786c",
   "metadata": {
    "scrolled": false
   },
   "outputs": [
    {
     "name": "stdout",
     "output_type": "stream",
     "text": [
      "————————————————————————————————————————————————————————————\n",
      "\n",
      "RidgeClassifier hyperparams tuning...\n"
     ]
    },
    {
     "data": {
      "application/vnd.jupyter.widget-view+json": {
       "model_id": "7613fab908434f2eb479124abf1188eb",
       "version_major": 2,
       "version_minor": 0
      },
      "text/plain": [
       "  0%|          | 0/20 [00:00<?, ?it/s]"
      ]
     },
     "metadata": {},
     "output_type": "display_data"
    },
    {
     "name": "stdout",
     "output_type": "stream",
     "text": [
      "\n",
      "\u001b[1mRidgeClassifier\u001b[0m\n",
      "\n",
      "Количество попыток: 20\n",
      "Лучший результат: \u001b[1m1.0000\u001b[0m\n",
      "\n",
      "Комбинация гиперпараметров:\n",
      "{\n",
      " \"RC__alpha\": 0.6219138124526465,\n",
      " \"RC__class_weight\": \"balanced\",\n",
      " \"RC__max_iter\": 608\n",
      "} \n",
      "\n",
      "————————————————————————————————————————————————————————————\n",
      "\n",
      "SGDClassifier hyperparams tuning...\n"
     ]
    },
    {
     "data": {
      "application/vnd.jupyter.widget-view+json": {
       "model_id": "a3375c82e24e4ee5b8f207bb9447a910",
       "version_major": 2,
       "version_minor": 0
      },
      "text/plain": [
       "  0%|          | 0/20 [00:00<?, ?it/s]"
      ]
     },
     "metadata": {},
     "output_type": "display_data"
    },
    {
     "name": "stdout",
     "output_type": "stream",
     "text": [
      "\n",
      "\u001b[1mSGDClassifier\u001b[0m\n",
      "\n",
      "Количество попыток: 20\n",
      "Лучший результат: \u001b[1m1.0000\u001b[0m\n",
      "\n",
      "Комбинация гиперпараметров:\n",
      "{\n",
      " \"SGDC__alpha\": 0.0008344781339401781,\n",
      " \"SGDC__class_weight\": null,\n",
      " \"SGDC__loss\": \"hinge\",\n",
      " \"SGDC__max_iter\": 215\n",
      "} \n",
      "\n",
      "————————————————————————————————————————————————————————————\n",
      "\n",
      "LinearSVC hyperparams tuning...\n"
     ]
    },
    {
     "data": {
      "application/vnd.jupyter.widget-view+json": {
       "model_id": "3a24ad5477b4449b8db5d037d950b8a8",
       "version_major": 2,
       "version_minor": 0
      },
      "text/plain": [
       "  0%|          | 0/20 [00:00<?, ?it/s]"
      ]
     },
     "metadata": {},
     "output_type": "display_data"
    },
    {
     "name": "stdout",
     "output_type": "stream",
     "text": [
      "\n",
      "\u001b[1mLinearSVC\u001b[0m\n",
      "\n",
      "Количество попыток: 20\n",
      "Лучший результат: \u001b[1m1.0000\u001b[0m\n",
      "\n",
      "Комбинация гиперпараметров:\n",
      "{\n",
      " \"LSVC__C\": 9.37134624912163,\n",
      " \"LSVC__class_weight\": null,\n",
      " \"LSVC__dual\": false,\n",
      " \"LSVC__max_iter\": 184\n",
      "} \n",
      "\n"
     ]
    }
   ],
   "source": [
    "for item in range(models.shape[0]):\n",
    "    \n",
    "    print('—' * 60)\n",
    "    print(f\"{CR}{models.loc[item,'name']} hyperparams tuning...\")\n",
    "    \n",
    "    model = models.loc[item,'model']\n",
    "\n",
    "    # создание объекта optuna.study\n",
    "    study = optuna.create_study(\n",
    "                                study_name=models.loc[item,'name'],\n",
    "                                direction=\"maximize\",\n",
    "                                sampler=optuna.samplers.TPESampler(seed=RS)\n",
    "                               )\n",
    "\n",
    "    # оптимизация (подбор гиперпараметров)\n",
    "    study.optimize(eval(f\"objective_{models.loc[item,'short_name']}\"),\n",
    "                   n_trials=N_TRIALS, timeout=TIMEOUT, show_progress_bar=True, n_jobs=-1)\n",
    "\n",
    "    # извлечение и обучение лучшей модели – здесь можно сделать обучение на полном наборе данных (X,Y)\n",
    "    model.set_params(**study.best_params).fit(X_train, Y_train)\n",
    "\n",
    "    # сохранение результатов в таблице моделей\n",
    "    models.loc[item,'model'] = model\n",
    "    models.loc[item,'study'] = study\n",
    "#     models.loc[item,'features'] = ', '.join(extract_final_features(model))   # пока недостаточно универсально\n",
    "    models.loc[item,'score'] = study.best_value\n",
    "\n",
    "    print(f'{CR}{f.BOLD}{study.study_name}{f.END}{CR}')\n",
    "    print(f'Количество попыток: {len(study.trials)}')\n",
    "    print(f'Лучший результат: {f.BOLD}{study.best_value:0.4f}{f.END}{CR}')\n",
    "    print('Комбинация гиперпараметров:')\n",
    "    print(json.dumps(study.best_params, indent=1, sort_keys=True), f'{CR}')"
   ]
  },
  {
   "cell_type": "markdown",
   "id": "892e6716",
   "metadata": {},
   "source": [
    "## Анализ моделей"
   ]
  },
  {
   "cell_type": "markdown",
   "id": "28e617ea",
   "metadata": {},
   "source": [
    "### Чтение тестовых данных (реальных фильмов с субтитрами)"
   ]
  },
  {
   "cell_type": "code",
   "execution_count": 72,
   "id": "025045e7",
   "metadata": {},
   "outputs": [],
   "source": [
    "data_test = custom_read_csv('EDA_movies_subtitles.csv')"
   ]
  },
  {
   "cell_type": "code",
   "execution_count": 73,
   "id": "119f9756",
   "metadata": {},
   "outputs": [
    {
     "data": {
      "text/plain": [
       "((347, 1), (347,))"
      ]
     },
     "execution_count": 73,
     "metadata": {},
     "output_type": "execute_result"
    }
   ],
   "source": [
    "X_test = data_test.drop([TARGET, 'Movie'], axis=1)\n",
    "Y_test = data_test[TARGET]\n",
    "\n",
    "X_test.shape, Y_test.shape"
   ]
  },
  {
   "cell_type": "markdown",
   "id": "cb01efc7",
   "metadata": {},
   "source": [
    "### Additional metrics\n",
    "\n",
    "В дополнение к основной метрике, полученной во время подбора гиперпараметров, можно сравнить метрики, рассчитанные с помощью кроссвалидации. Можно изменить параметры кроссвалидации.  \n",
    "Метрики рассчитываются как для обучающей, так и валидационной выборки."
   ]
  },
  {
   "cell_type": "code",
   "execution_count": 74,
   "id": "b02af597",
   "metadata": {
    "scrolled": true
   },
   "outputs": [
    {
     "name": "stdout",
     "output_type": "stream",
     "text": [
      "Performing cross_val_score with cv=5 and scoring_list=['f1_weighted', 'f1_macro', 'f1_micro']:\n",
      "f1_weighted_train... done\n",
      "f1_weighted_test... done\n",
      "f1_macro_train... done\n",
      "f1_macro_test... done\n",
      "f1_micro_train... done\n",
      "f1_micro_test... done\n"
     ]
    },
    {
     "data": {
      "text/html": [
       "<div>\n",
       "<style scoped>\n",
       "    .dataframe tbody tr th:only-of-type {\n",
       "        vertical-align: middle;\n",
       "    }\n",
       "\n",
       "    .dataframe tbody tr th {\n",
       "        vertical-align: top;\n",
       "    }\n",
       "\n",
       "    .dataframe thead th {\n",
       "        text-align: right;\n",
       "    }\n",
       "</style>\n",
       "<table border=\"1\" class=\"dataframe\">\n",
       "  <thead>\n",
       "    <tr style=\"text-align: left;\">\n",
       "      <th></th>\n",
       "      <th>name</th>\n",
       "      <th>score</th>\n",
       "      <th>f1_weighted_train</th>\n",
       "      <th>f1_weighted_test</th>\n",
       "      <th>f1_macro_train</th>\n",
       "      <th>f1_macro_test</th>\n",
       "      <th>f1_micro_train</th>\n",
       "      <th>f1_micro_test</th>\n",
       "    </tr>\n",
       "  </thead>\n",
       "  <tbody>\n",
       "    <tr>\n",
       "      <th>0</th>\n",
       "      <td>RidgeClassifier</td>\n",
       "      <td>1.000</td>\n",
       "      <td>1.000</td>\n",
       "      <td>0.643</td>\n",
       "      <td>1.000</td>\n",
       "      <td>0.648</td>\n",
       "      <td>1.000</td>\n",
       "      <td>0.661</td>\n",
       "    </tr>\n",
       "    <tr>\n",
       "      <th>1</th>\n",
       "      <td>SGDClassifier</td>\n",
       "      <td>1.000</td>\n",
       "      <td>1.000</td>\n",
       "      <td>0.635</td>\n",
       "      <td>1.000</td>\n",
       "      <td>0.631</td>\n",
       "      <td>1.000</td>\n",
       "      <td>0.650</td>\n",
       "    </tr>\n",
       "    <tr>\n",
       "      <th>2</th>\n",
       "      <td>LinearSVC</td>\n",
       "      <td>1.000</td>\n",
       "      <td>1.000</td>\n",
       "      <td>0.642</td>\n",
       "      <td>1.000</td>\n",
       "      <td>0.637</td>\n",
       "      <td>1.000</td>\n",
       "      <td>0.656</td>\n",
       "    </tr>\n",
       "  </tbody>\n",
       "</table>\n",
       "</div>"
      ],
      "text/plain": [
       "  name              score  f1_weighted_train  f1_weighted_test  \\\n",
       "0  RidgeClassifier 1.000  1.000              0.643               \n",
       "1    SGDClassifier 1.000  1.000              0.635               \n",
       "2        LinearSVC 1.000  1.000              0.642               \n",
       "\n",
       "   f1_macro_train  f1_macro_test  f1_micro_train  f1_micro_test  \n",
       "0 1.000           0.648          1.000           0.661           \n",
       "1 1.000           0.631          1.000           0.650           \n",
       "2 1.000           0.637          1.000           0.656           "
      ]
     },
     "execution_count": 74,
     "metadata": {},
     "output_type": "execute_result"
    }
   ],
   "source": [
    "# дополнительные метрики моделей\n",
    "models = add_model_metrics(models, X_train, Y_train, X_test, Y_test, cv=N_CV,\n",
    "                           scoring_list=['f1_weighted','f1_macro','f1_micro'])\n",
    "\n",
    "models.drop(['short_name','model','study','best_params'], axis=1)"
   ]
  },
  {
   "cell_type": "markdown",
   "id": "b8f2b151",
   "metadata": {},
   "source": [
    "> Метрики, полученные для тестовой выборки, можно использовать в качестве baseline."
   ]
  }
 ],
 "metadata": {
  "kernelspec": {
   "display_name": "Python 3 (ipykernel)",
   "language": "python",
   "name": "python3"
  },
  "language_info": {
   "codemirror_mode": {
    "name": "ipython",
    "version": 3
   },
   "file_extension": ".py",
   "mimetype": "text/x-python",
   "name": "python",
   "nbconvert_exporter": "python",
   "pygments_lexer": "ipython3",
   "version": "3.8.13"
  },
  "nbTranslate": {
   "displayLangs": [
    "en",
    "ru"
   ],
   "hotkey": "alt-t",
   "langInMainMenu": false,
   "sourceLang": "ru",
   "targetLang": "en",
   "useGoogleTranslate": true
  },
  "toc": {
   "base_numbering": "0",
   "nav_menu": {},
   "number_sections": true,
   "sideBar": true,
   "skip_h1_title": true,
   "title_cell": "Contents",
   "title_sidebar": "Contents",
   "toc_cell": false,
   "toc_position": {
    "height": "calc(100% - 180px)",
    "left": "10px",
    "top": "150px",
    "width": "204.9px"
   },
   "toc_section_display": true,
   "toc_window_display": true
  },
  "vscode": {
   "interpreter": {
    "hash": "2f9d6cf1e3d8195079a65c851de355134a77367bcd714b1a5d498c42d3c07114"
   }
  }
 },
 "nbformat": 4,
 "nbformat_minor": 5
}
